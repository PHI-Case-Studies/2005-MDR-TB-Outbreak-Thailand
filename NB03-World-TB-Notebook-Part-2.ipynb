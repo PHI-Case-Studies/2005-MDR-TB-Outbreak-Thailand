{
 "cells": [
  {
   "cell_type": "code",
   "execution_count": 1,
   "metadata": {},
   "outputs": [],
   "source": [
    "%run ./resources/library.py"
   ]
  },
  {
   "cell_type": "code",
   "execution_count": 2,
   "metadata": {},
   "outputs": [
    {
     "data": {
      "text/html": [
       "<style> \n",
       "div.text_cell_render { /* Customize text cells */ \n",
       "    font-family: 'Arial'; \n",
       "    font-size:20px;\n",
       "    line-height: 1.5em;\n",
       "    padding-left:3em; \n",
       "    padding-right:3em; \n",
       "}\n",
       ".CodeMirror {\n",
       "    font-family:  'Source Code Pro', monospace;\n",
       "    font-size: 18px;\n",
       "}\n",
       "\n",
       "/* Cell output */\n",
       "\n",
       ".rendered_html pre, .rendered_html code {\n",
       "    color: inherit !important;\n",
       "    background-color: inherit !important;\n",
       "}\n",
       "div.output_area pre {\n",
       "    line-height: 1.2em;\n",
       "    color: #93a1a1 !important;\n",
       "    font-family: 'Source Code Pro', monospace;\n",
       "    font-size: 16px;\n",
       "}\n",
       ".rendered_html table, .rendered_html td, .rendered_html th {\n",
       "    border: 1px solid #586e75 !important;\n",
       "    font-family: 'Arial';\n",
       "    font-size: 16px;\n",
       "}\n",
       "</style>"
      ],
      "text/plain": [
       "<IPython.core.display.HTML object>"
      ]
     },
     "execution_count": 2,
     "metadata": {},
     "output_type": "execute_result"
    }
   ],
   "source": [
    "style_notebook()"
   ]
  },
  {
   "cell_type": "markdown",
   "metadata": {},
   "source": [
    "# Notebook 3: Exploring TB and Socio-economic Indicators, Part 2"
   ]
  },
  {
   "cell_type": "markdown",
   "metadata": {},
   "source": [
    "## Review Goals"
   ]
  },
  {
   "cell_type": "markdown",
   "metadata": {},
   "source": [
    "Our goal for this TB exploration notebook is to construct a \"gapminder\" for TB data and a time series choropleth map. See figures below."
   ]
  },
  {
   "cell_type": "markdown",
   "metadata": {},
   "source": [
    "![Gapminder for TB](images/gapminder-for-tb.png)\n",
    "\n",
    "**Figure 1**. Interactive Gapminder bubble chart for TB data"
   ]
  },
  {
   "cell_type": "markdown",
   "metadata": {},
   "source": [
    "![Choropleth Timeseries for TB](images/choropleth-timeseries-tb.png)\n",
    "\n",
    "**Figure 2**. Interactive choropleth map for TB data"
   ]
  },
  {
   "cell_type": "markdown",
   "metadata": {},
   "source": [
    "## Steps in this notebook"
   ]
  },
  {
   "cell_type": "markdown",
   "metadata": {},
   "source": [
    "Notebook 3\n",
    "3. Merge, clean, explore dataframes\n",
    "4. Generate plotly express visualizations"
   ]
  },
  {
   "cell_type": "markdown",
   "metadata": {},
   "source": [
    "## STEP 1 (Review). Set up data exploration environment"
   ]
  },
  {
   "cell_type": "markdown",
   "metadata": {},
   "source": [
    "To create visualizations, we will use Plotly Express. You can learn more about Plotly Express from:\n",
    "1. [Plotly GitHub Site](https://github.com/plotly/plotly_express) (GitHub)\n",
    "2. [Jupyter Notebook Example](https://www.plotly.express/)\n",
    "3. Some articles written about it [here](https://medium.com/@plotlygraphs/introducing-plotly-express-808df010143d) and [here](https://towardsdatascience.com/plotly-express-the-good-the-bad-and-the-ugly-dc941649687c)"
   ]
  },
  {
   "cell_type": "code",
   "execution_count": 29,
   "metadata": {},
   "outputs": [
    {
     "data": {
      "text/plain": [
       "'4.2.1'"
      ]
     },
     "execution_count": 29,
     "metadata": {},
     "output_type": "execute_result"
    }
   ],
   "source": [
    "import plotly.express as px\n",
    "import plotly\n",
    "\n",
    "plotly.__version__"
   ]
  },
  {
   "cell_type": "markdown",
   "metadata": {},
   "source": [
    "We will also use our Swiss Army knife for data science, `pandas`."
   ]
  },
  {
   "cell_type": "code",
   "execution_count": 5,
   "metadata": {},
   "outputs": [
    {
     "data": {
      "text/plain": [
       "'0.25.3'"
      ]
     },
     "execution_count": 5,
     "metadata": {},
     "output_type": "execute_result"
    }
   ],
   "source": [
    "import pandas as pd\n",
    "pd.__version__"
   ]
  },
  {
   "cell_type": "code",
   "execution_count": 6,
   "metadata": {},
   "outputs": [],
   "source": [
    "pd.set_option('max_colwidth', 150)\n",
    "pd.set_option('display.max_columns', 50)\n",
    "pd.set_option('display.max_rows', 100)"
   ]
  },
  {
   "cell_type": "markdown",
   "metadata": {},
   "source": [
    "**`missingno`**: Missing data visualization module for Python \n",
    "\n",
    "Read more about it here: https://github.com/ResidentMario/missingno"
   ]
  },
  {
   "cell_type": "code",
   "execution_count": 7,
   "metadata": {},
   "outputs": [
    {
     "data": {
      "text/plain": [
       "'0.4.2'"
      ]
     },
     "execution_count": 7,
     "metadata": {},
     "output_type": "execute_result"
    }
   ],
   "source": [
    "import missingno as mno\n",
    "mno.__version__"
   ]
  },
  {
   "cell_type": "code",
   "execution_count": 8,
   "metadata": {},
   "outputs": [],
   "source": [
    "%matplotlib inline"
   ]
  },
  {
   "cell_type": "code",
   "execution_count": 9,
   "metadata": {},
   "outputs": [
    {
     "data": {
      "text/plain": [
       "'1.17.3'"
      ]
     },
     "execution_count": 9,
     "metadata": {},
     "output_type": "execute_result"
    }
   ],
   "source": [
    "import numpy as np\n",
    "\n",
    "np.__version__"
   ]
  },
  {
   "cell_type": "markdown",
   "metadata": {},
   "source": [
    "## STEP 2. Download and clean up data"
   ]
  },
  {
   "cell_type": "markdown",
   "metadata": {},
   "source": [
    "Since we have created all the necessary dataframes in Notebook 2 and pickled these, we will just load the pickle files here. All data pickle files are found in the `outputs` folder."
   ]
  },
  {
   "cell_type": "markdown",
   "metadata": {},
   "source": [
    "Load TB data:"
   ]
  },
  {
   "cell_type": "code",
   "execution_count": 10,
   "metadata": {},
   "outputs": [],
   "source": [
    "tb_df2 = pd.read_pickle('outputs/tb_df2.pickle')\n",
    "tb_dict_df = pd.read_pickle('outputs/tb_dict_df.pickle')"
   ]
  },
  {
   "cell_type": "markdown",
   "metadata": {},
   "source": [
    "Load World Bank GDP, GDP per capita data, and country metadata:"
   ]
  },
  {
   "cell_type": "code",
   "execution_count": 11,
   "metadata": {},
   "outputs": [],
   "source": [
    "wb_gdp_df5 = pd.read_pickle('outputs/wb_gdp_df5.pickle')\n",
    "wb_gdppc_df5 = pd.read_pickle('outputs/wb_gdppc_df5.pickle')\n",
    "wb_gdp_meta_df3 = pd.read_pickle('outputs/wb_gdp_meta_df3.pickle')"
   ]
  },
  {
   "cell_type": "markdown",
   "metadata": {},
   "source": [
    "Load World Bank education data (literacy rate, primary completion rate) and indicator metadata:"
   ]
  },
  {
   "cell_type": "code",
   "execution_count": 12,
   "metadata": {},
   "outputs": [],
   "source": [
    "wb_ed_df2 = pd.read_pickle('outputs/wb_ed_df2.pickle')\n",
    "wb_edmeta_df1 = pd.read_pickle('outputs/wb_edmeta_df1.pickle')\n",
    "wb_ed_primcomp_df4 = pd.read_pickle('outputs/wb_ed_primcomp_df4.pickle')"
   ]
  },
  {
   "cell_type": "markdown",
   "metadata": {},
   "source": [
    "## STEP 3. Clean, merge, explore data sets"
   ]
  },
  {
   "cell_type": "markdown",
   "metadata": {},
   "source": [
    "### GDP data"
   ]
  },
  {
   "cell_type": "markdown",
   "metadata": {},
   "source": [
    "#### Merge #1: Merge WB GDP data and metadata dataframes on `ISO_Alpha`"
   ]
  },
  {
   "cell_type": "code",
   "execution_count": 13,
   "metadata": {},
   "outputs": [
    {
     "data": {
      "text/html": [
       "<div>\n",
       "<style scoped>\n",
       "    .dataframe tbody tr th:only-of-type {\n",
       "        vertical-align: middle;\n",
       "    }\n",
       "\n",
       "    .dataframe tbody tr th {\n",
       "        vertical-align: top;\n",
       "    }\n",
       "\n",
       "    .dataframe thead th {\n",
       "        text-align: right;\n",
       "    }\n",
       "</style>\n",
       "<table border=\"1\" class=\"dataframe\">\n",
       "  <thead>\n",
       "    <tr style=\"text-align: right;\">\n",
       "      <th></th>\n",
       "      <th>ISO_Alpha</th>\n",
       "      <th>Region</th>\n",
       "      <th>IncomeGroup</th>\n",
       "      <th>Country_x</th>\n",
       "      <th>Year</th>\n",
       "      <th>GDP-USD</th>\n",
       "    </tr>\n",
       "  </thead>\n",
       "  <tbody>\n",
       "    <tr>\n",
       "      <th>0</th>\n",
       "      <td>ABW</td>\n",
       "      <td>Latin America &amp; Caribbean</td>\n",
       "      <td>High income</td>\n",
       "      <td>Aruba</td>\n",
       "      <td>1960</td>\n",
       "      <td>NaN</td>\n",
       "    </tr>\n",
       "    <tr>\n",
       "      <th>1</th>\n",
       "      <td>ABW</td>\n",
       "      <td>Latin America &amp; Caribbean</td>\n",
       "      <td>High income</td>\n",
       "      <td>Aruba</td>\n",
       "      <td>1961</td>\n",
       "      <td>NaN</td>\n",
       "    </tr>\n",
       "    <tr>\n",
       "      <th>2</th>\n",
       "      <td>ABW</td>\n",
       "      <td>Latin America &amp; Caribbean</td>\n",
       "      <td>High income</td>\n",
       "      <td>Aruba</td>\n",
       "      <td>1962</td>\n",
       "      <td>NaN</td>\n",
       "    </tr>\n",
       "    <tr>\n",
       "      <th>3</th>\n",
       "      <td>ABW</td>\n",
       "      <td>Latin America &amp; Caribbean</td>\n",
       "      <td>High income</td>\n",
       "      <td>Aruba</td>\n",
       "      <td>1963</td>\n",
       "      <td>NaN</td>\n",
       "    </tr>\n",
       "    <tr>\n",
       "      <th>4</th>\n",
       "      <td>ABW</td>\n",
       "      <td>Latin America &amp; Caribbean</td>\n",
       "      <td>High income</td>\n",
       "      <td>Aruba</td>\n",
       "      <td>1964</td>\n",
       "      <td>NaN</td>\n",
       "    </tr>\n",
       "  </tbody>\n",
       "</table>\n",
       "</div>"
      ],
      "text/plain": [
       "  ISO_Alpha                     Region  IncomeGroup Country_x  Year  GDP-USD\n",
       "0       ABW  Latin America & Caribbean  High income     Aruba  1960      NaN\n",
       "1       ABW  Latin America & Caribbean  High income     Aruba  1961      NaN\n",
       "2       ABW  Latin America & Caribbean  High income     Aruba  1962      NaN\n",
       "3       ABW  Latin America & Caribbean  High income     Aruba  1963      NaN\n",
       "4       ABW  Latin America & Caribbean  High income     Aruba  1964      NaN"
      ]
     },
     "execution_count": 13,
     "metadata": {},
     "output_type": "execute_result"
    }
   ],
   "source": [
    "merged_df1 = \\\n",
    "    pd.merge(wb_gdp_meta_df3, wb_gdp_df5, on=['ISO_Alpha'], how='inner').\\\n",
    "    drop(columns=['Country_y'])\n",
    "\n",
    "merged_df1.head()"
   ]
  },
  {
   "cell_type": "code",
   "execution_count": 14,
   "metadata": {},
   "outputs": [
    {
     "data": {
      "text/html": [
       "<div>\n",
       "<style scoped>\n",
       "    .dataframe tbody tr th:only-of-type {\n",
       "        vertical-align: middle;\n",
       "    }\n",
       "\n",
       "    .dataframe tbody tr th {\n",
       "        vertical-align: top;\n",
       "    }\n",
       "\n",
       "    .dataframe thead th {\n",
       "        text-align: right;\n",
       "    }\n",
       "</style>\n",
       "<table border=\"1\" class=\"dataframe\">\n",
       "  <thead>\n",
       "    <tr style=\"text-align: right;\">\n",
       "      <th></th>\n",
       "      <th>ISO_Alpha</th>\n",
       "      <th>Region</th>\n",
       "      <th>IncomeGroup</th>\n",
       "      <th>Country</th>\n",
       "      <th>Year</th>\n",
       "      <th>GDP-USD</th>\n",
       "    </tr>\n",
       "  </thead>\n",
       "  <tbody>\n",
       "    <tr>\n",
       "      <th>0</th>\n",
       "      <td>ABW</td>\n",
       "      <td>Latin America &amp; Caribbean</td>\n",
       "      <td>High income</td>\n",
       "      <td>Aruba</td>\n",
       "      <td>1960</td>\n",
       "      <td>NaN</td>\n",
       "    </tr>\n",
       "    <tr>\n",
       "      <th>1</th>\n",
       "      <td>ABW</td>\n",
       "      <td>Latin America &amp; Caribbean</td>\n",
       "      <td>High income</td>\n",
       "      <td>Aruba</td>\n",
       "      <td>1961</td>\n",
       "      <td>NaN</td>\n",
       "    </tr>\n",
       "    <tr>\n",
       "      <th>2</th>\n",
       "      <td>ABW</td>\n",
       "      <td>Latin America &amp; Caribbean</td>\n",
       "      <td>High income</td>\n",
       "      <td>Aruba</td>\n",
       "      <td>1962</td>\n",
       "      <td>NaN</td>\n",
       "    </tr>\n",
       "    <tr>\n",
       "      <th>3</th>\n",
       "      <td>ABW</td>\n",
       "      <td>Latin America &amp; Caribbean</td>\n",
       "      <td>High income</td>\n",
       "      <td>Aruba</td>\n",
       "      <td>1963</td>\n",
       "      <td>NaN</td>\n",
       "    </tr>\n",
       "    <tr>\n",
       "      <th>4</th>\n",
       "      <td>ABW</td>\n",
       "      <td>Latin America &amp; Caribbean</td>\n",
       "      <td>High income</td>\n",
       "      <td>Aruba</td>\n",
       "      <td>1964</td>\n",
       "      <td>NaN</td>\n",
       "    </tr>\n",
       "  </tbody>\n",
       "</table>\n",
       "</div>"
      ],
      "text/plain": [
       "  ISO_Alpha                     Region  IncomeGroup Country  Year  GDP-USD\n",
       "0       ABW  Latin America & Caribbean  High income   Aruba  1960      NaN\n",
       "1       ABW  Latin America & Caribbean  High income   Aruba  1961      NaN\n",
       "2       ABW  Latin America & Caribbean  High income   Aruba  1962      NaN\n",
       "3       ABW  Latin America & Caribbean  High income   Aruba  1963      NaN\n",
       "4       ABW  Latin America & Caribbean  High income   Aruba  1964      NaN"
      ]
     },
     "execution_count": 14,
     "metadata": {},
     "output_type": "execute_result"
    }
   ],
   "source": [
    "merged_df2 = merged_df1.rename(columns={'Country_x': 'Country'})\n",
    "\n",
    "merged_df2.head()"
   ]
  },
  {
   "cell_type": "markdown",
   "metadata": {},
   "source": [
    "#### Merge #2: Merge WB GDP and GDP per capita data"
   ]
  },
  {
   "cell_type": "code",
   "execution_count": 15,
   "metadata": {},
   "outputs": [
    {
     "data": {
      "text/html": [
       "<div>\n",
       "<style scoped>\n",
       "    .dataframe tbody tr th:only-of-type {\n",
       "        vertical-align: middle;\n",
       "    }\n",
       "\n",
       "    .dataframe tbody tr th {\n",
       "        vertical-align: top;\n",
       "    }\n",
       "\n",
       "    .dataframe thead th {\n",
       "        text-align: right;\n",
       "    }\n",
       "</style>\n",
       "<table border=\"1\" class=\"dataframe\">\n",
       "  <thead>\n",
       "    <tr style=\"text-align: right;\">\n",
       "      <th></th>\n",
       "      <th>Country_x</th>\n",
       "      <th>ISO_Alpha</th>\n",
       "      <th>Year</th>\n",
       "      <th>GDP-PC-USD</th>\n",
       "      <th>Region</th>\n",
       "      <th>IncomeGroup</th>\n",
       "      <th>GDP-USD</th>\n",
       "    </tr>\n",
       "  </thead>\n",
       "  <tbody>\n",
       "    <tr>\n",
       "      <th>0</th>\n",
       "      <td>Aruba</td>\n",
       "      <td>ABW</td>\n",
       "      <td>1960</td>\n",
       "      <td>NaN</td>\n",
       "      <td>Latin America &amp; Caribbean</td>\n",
       "      <td>High income</td>\n",
       "      <td>NaN</td>\n",
       "    </tr>\n",
       "    <tr>\n",
       "      <th>1</th>\n",
       "      <td>Afghanistan</td>\n",
       "      <td>AFG</td>\n",
       "      <td>1960</td>\n",
       "      <td>59.773194</td>\n",
       "      <td>South Asia</td>\n",
       "      <td>Low income</td>\n",
       "      <td>59.773194</td>\n",
       "    </tr>\n",
       "    <tr>\n",
       "      <th>2</th>\n",
       "      <td>Angola</td>\n",
       "      <td>AGO</td>\n",
       "      <td>1960</td>\n",
       "      <td>NaN</td>\n",
       "      <td>Sub-Saharan Africa</td>\n",
       "      <td>Lower middle income</td>\n",
       "      <td>NaN</td>\n",
       "    </tr>\n",
       "    <tr>\n",
       "      <th>3</th>\n",
       "      <td>Albania</td>\n",
       "      <td>ALB</td>\n",
       "      <td>1960</td>\n",
       "      <td>NaN</td>\n",
       "      <td>Europe &amp; Central Asia</td>\n",
       "      <td>Upper middle income</td>\n",
       "      <td>NaN</td>\n",
       "    </tr>\n",
       "    <tr>\n",
       "      <th>4</th>\n",
       "      <td>Andorra</td>\n",
       "      <td>AND</td>\n",
       "      <td>1960</td>\n",
       "      <td>NaN</td>\n",
       "      <td>Europe &amp; Central Asia</td>\n",
       "      <td>High income</td>\n",
       "      <td>NaN</td>\n",
       "    </tr>\n",
       "    <tr>\n",
       "      <th>...</th>\n",
       "      <td>...</td>\n",
       "      <td>...</td>\n",
       "      <td>...</td>\n",
       "      <td>...</td>\n",
       "      <td>...</td>\n",
       "      <td>...</td>\n",
       "      <td>...</td>\n",
       "    </tr>\n",
       "    <tr>\n",
       "      <th>15512</th>\n",
       "      <td>Kosovo</td>\n",
       "      <td>XKX</td>\n",
       "      <td>2018</td>\n",
       "      <td>4281.292329</td>\n",
       "      <td>Europe &amp; Central Asia</td>\n",
       "      <td>Upper middle income</td>\n",
       "      <td>4281.292329</td>\n",
       "    </tr>\n",
       "    <tr>\n",
       "      <th>15513</th>\n",
       "      <td>Yemen, Rep.</td>\n",
       "      <td>YEM</td>\n",
       "      <td>2018</td>\n",
       "      <td>944.408499</td>\n",
       "      <td>Middle East &amp; North Africa</td>\n",
       "      <td>Low income</td>\n",
       "      <td>944.408499</td>\n",
       "    </tr>\n",
       "    <tr>\n",
       "      <th>15514</th>\n",
       "      <td>South Africa</td>\n",
       "      <td>ZAF</td>\n",
       "      <td>2018</td>\n",
       "      <td>6339.574354</td>\n",
       "      <td>Sub-Saharan Africa</td>\n",
       "      <td>Upper middle income</td>\n",
       "      <td>6339.574354</td>\n",
       "    </tr>\n",
       "    <tr>\n",
       "      <th>15515</th>\n",
       "      <td>Zambia</td>\n",
       "      <td>ZMB</td>\n",
       "      <td>2018</td>\n",
       "      <td>1539.900158</td>\n",
       "      <td>Sub-Saharan Africa</td>\n",
       "      <td>Lower middle income</td>\n",
       "      <td>1539.900158</td>\n",
       "    </tr>\n",
       "    <tr>\n",
       "      <th>15516</th>\n",
       "      <td>Zimbabwe</td>\n",
       "      <td>ZWE</td>\n",
       "      <td>2018</td>\n",
       "      <td>2146.996385</td>\n",
       "      <td>Sub-Saharan Africa</td>\n",
       "      <td>Lower middle income</td>\n",
       "      <td>2146.996385</td>\n",
       "    </tr>\n",
       "  </tbody>\n",
       "</table>\n",
       "<p>15517 rows × 7 columns</p>\n",
       "</div>"
      ],
      "text/plain": [
       "          Country_x ISO_Alpha  Year   GDP-PC-USD                      Region  \\\n",
       "0             Aruba       ABW  1960          NaN   Latin America & Caribbean   \n",
       "1       Afghanistan       AFG  1960    59.773194                  South Asia   \n",
       "2            Angola       AGO  1960          NaN          Sub-Saharan Africa   \n",
       "3           Albania       ALB  1960          NaN       Europe & Central Asia   \n",
       "4           Andorra       AND  1960          NaN       Europe & Central Asia   \n",
       "...             ...       ...   ...          ...                         ...   \n",
       "15512        Kosovo       XKX  2018  4281.292329       Europe & Central Asia   \n",
       "15513   Yemen, Rep.       YEM  2018   944.408499  Middle East & North Africa   \n",
       "15514  South Africa       ZAF  2018  6339.574354          Sub-Saharan Africa   \n",
       "15515        Zambia       ZMB  2018  1539.900158          Sub-Saharan Africa   \n",
       "15516      Zimbabwe       ZWE  2018  2146.996385          Sub-Saharan Africa   \n",
       "\n",
       "               IncomeGroup      GDP-USD  \n",
       "0              High income          NaN  \n",
       "1               Low income    59.773194  \n",
       "2      Lower middle income          NaN  \n",
       "3      Upper middle income          NaN  \n",
       "4              High income          NaN  \n",
       "...                    ...          ...  \n",
       "15512  Upper middle income  4281.292329  \n",
       "15513           Low income   944.408499  \n",
       "15514  Upper middle income  6339.574354  \n",
       "15515  Lower middle income  1539.900158  \n",
       "15516  Lower middle income  2146.996385  \n",
       "\n",
       "[15517 rows x 7 columns]"
      ]
     },
     "execution_count": 15,
     "metadata": {},
     "output_type": "execute_result"
    }
   ],
   "source": [
    "merged_df3 = \\\n",
    "    pd.merge(wb_gdppc_df5, merged_df2, on=['ISO_Alpha','Year'], how='inner').\\\n",
    "    drop(columns=['Country_y'])\n",
    "\n",
    "merged_df3"
   ]
  },
  {
   "cell_type": "code",
   "execution_count": 16,
   "metadata": {},
   "outputs": [
    {
     "data": {
      "text/html": [
       "<div>\n",
       "<style scoped>\n",
       "    .dataframe tbody tr th:only-of-type {\n",
       "        vertical-align: middle;\n",
       "    }\n",
       "\n",
       "    .dataframe tbody tr th {\n",
       "        vertical-align: top;\n",
       "    }\n",
       "\n",
       "    .dataframe thead th {\n",
       "        text-align: right;\n",
       "    }\n",
       "</style>\n",
       "<table border=\"1\" class=\"dataframe\">\n",
       "  <thead>\n",
       "    <tr style=\"text-align: right;\">\n",
       "      <th></th>\n",
       "      <th>Country</th>\n",
       "      <th>ISO_Alpha</th>\n",
       "      <th>Year</th>\n",
       "      <th>GDP-PC-USD</th>\n",
       "      <th>Region</th>\n",
       "      <th>IncomeGroup</th>\n",
       "      <th>GDP-USD</th>\n",
       "    </tr>\n",
       "  </thead>\n",
       "  <tbody>\n",
       "    <tr>\n",
       "      <th>0</th>\n",
       "      <td>Aruba</td>\n",
       "      <td>ABW</td>\n",
       "      <td>1960</td>\n",
       "      <td>NaN</td>\n",
       "      <td>Latin America &amp; Caribbean</td>\n",
       "      <td>High income</td>\n",
       "      <td>NaN</td>\n",
       "    </tr>\n",
       "    <tr>\n",
       "      <th>1</th>\n",
       "      <td>Afghanistan</td>\n",
       "      <td>AFG</td>\n",
       "      <td>1960</td>\n",
       "      <td>59.773194</td>\n",
       "      <td>South Asia</td>\n",
       "      <td>Low income</td>\n",
       "      <td>59.773194</td>\n",
       "    </tr>\n",
       "    <tr>\n",
       "      <th>2</th>\n",
       "      <td>Angola</td>\n",
       "      <td>AGO</td>\n",
       "      <td>1960</td>\n",
       "      <td>NaN</td>\n",
       "      <td>Sub-Saharan Africa</td>\n",
       "      <td>Lower middle income</td>\n",
       "      <td>NaN</td>\n",
       "    </tr>\n",
       "    <tr>\n",
       "      <th>3</th>\n",
       "      <td>Albania</td>\n",
       "      <td>ALB</td>\n",
       "      <td>1960</td>\n",
       "      <td>NaN</td>\n",
       "      <td>Europe &amp; Central Asia</td>\n",
       "      <td>Upper middle income</td>\n",
       "      <td>NaN</td>\n",
       "    </tr>\n",
       "    <tr>\n",
       "      <th>4</th>\n",
       "      <td>Andorra</td>\n",
       "      <td>AND</td>\n",
       "      <td>1960</td>\n",
       "      <td>NaN</td>\n",
       "      <td>Europe &amp; Central Asia</td>\n",
       "      <td>High income</td>\n",
       "      <td>NaN</td>\n",
       "    </tr>\n",
       "    <tr>\n",
       "      <th>...</th>\n",
       "      <td>...</td>\n",
       "      <td>...</td>\n",
       "      <td>...</td>\n",
       "      <td>...</td>\n",
       "      <td>...</td>\n",
       "      <td>...</td>\n",
       "      <td>...</td>\n",
       "    </tr>\n",
       "    <tr>\n",
       "      <th>15512</th>\n",
       "      <td>Kosovo</td>\n",
       "      <td>XKX</td>\n",
       "      <td>2018</td>\n",
       "      <td>4281.292329</td>\n",
       "      <td>Europe &amp; Central Asia</td>\n",
       "      <td>Upper middle income</td>\n",
       "      <td>4281.292329</td>\n",
       "    </tr>\n",
       "    <tr>\n",
       "      <th>15513</th>\n",
       "      <td>Yemen, Rep.</td>\n",
       "      <td>YEM</td>\n",
       "      <td>2018</td>\n",
       "      <td>944.408499</td>\n",
       "      <td>Middle East &amp; North Africa</td>\n",
       "      <td>Low income</td>\n",
       "      <td>944.408499</td>\n",
       "    </tr>\n",
       "    <tr>\n",
       "      <th>15514</th>\n",
       "      <td>South Africa</td>\n",
       "      <td>ZAF</td>\n",
       "      <td>2018</td>\n",
       "      <td>6339.574354</td>\n",
       "      <td>Sub-Saharan Africa</td>\n",
       "      <td>Upper middle income</td>\n",
       "      <td>6339.574354</td>\n",
       "    </tr>\n",
       "    <tr>\n",
       "      <th>15515</th>\n",
       "      <td>Zambia</td>\n",
       "      <td>ZMB</td>\n",
       "      <td>2018</td>\n",
       "      <td>1539.900158</td>\n",
       "      <td>Sub-Saharan Africa</td>\n",
       "      <td>Lower middle income</td>\n",
       "      <td>1539.900158</td>\n",
       "    </tr>\n",
       "    <tr>\n",
       "      <th>15516</th>\n",
       "      <td>Zimbabwe</td>\n",
       "      <td>ZWE</td>\n",
       "      <td>2018</td>\n",
       "      <td>2146.996385</td>\n",
       "      <td>Sub-Saharan Africa</td>\n",
       "      <td>Lower middle income</td>\n",
       "      <td>2146.996385</td>\n",
       "    </tr>\n",
       "  </tbody>\n",
       "</table>\n",
       "<p>15517 rows × 7 columns</p>\n",
       "</div>"
      ],
      "text/plain": [
       "            Country ISO_Alpha  Year   GDP-PC-USD                      Region  \\\n",
       "0             Aruba       ABW  1960          NaN   Latin America & Caribbean   \n",
       "1       Afghanistan       AFG  1960    59.773194                  South Asia   \n",
       "2            Angola       AGO  1960          NaN          Sub-Saharan Africa   \n",
       "3           Albania       ALB  1960          NaN       Europe & Central Asia   \n",
       "4           Andorra       AND  1960          NaN       Europe & Central Asia   \n",
       "...             ...       ...   ...          ...                         ...   \n",
       "15512        Kosovo       XKX  2018  4281.292329       Europe & Central Asia   \n",
       "15513   Yemen, Rep.       YEM  2018   944.408499  Middle East & North Africa   \n",
       "15514  South Africa       ZAF  2018  6339.574354          Sub-Saharan Africa   \n",
       "15515        Zambia       ZMB  2018  1539.900158          Sub-Saharan Africa   \n",
       "15516      Zimbabwe       ZWE  2018  2146.996385          Sub-Saharan Africa   \n",
       "\n",
       "               IncomeGroup      GDP-USD  \n",
       "0              High income          NaN  \n",
       "1               Low income    59.773194  \n",
       "2      Lower middle income          NaN  \n",
       "3      Upper middle income          NaN  \n",
       "4              High income          NaN  \n",
       "...                    ...          ...  \n",
       "15512  Upper middle income  4281.292329  \n",
       "15513           Low income   944.408499  \n",
       "15514  Upper middle income  6339.574354  \n",
       "15515  Lower middle income  1539.900158  \n",
       "15516  Lower middle income  2146.996385  \n",
       "\n",
       "[15517 rows x 7 columns]"
      ]
     },
     "execution_count": 16,
     "metadata": {},
     "output_type": "execute_result"
    }
   ],
   "source": [
    "merged_df4 = merged_df3.rename(columns={'Country_x': 'Country'})\n",
    "\n",
    "merged_df4"
   ]
  },
  {
   "cell_type": "code",
   "execution_count": 17,
   "metadata": {},
   "outputs": [
    {
     "data": {
      "text/plain": [
       "<matplotlib.axes._subplots.AxesSubplot at 0x7f1a155b5128>"
      ]
     },
     "execution_count": 17,
     "metadata": {},
     "output_type": "execute_result"
    },
    {
     "data": {
      "image/png": "[encoded data removed]",
      "text/plain": [
       "<Figure size 1728x720 with 3 Axes>"
      ]
     },
     "metadata": {
      "needs_background": "light"
     },
     "output_type": "display_data"
    }
   ],
   "source": [
    "mno.bar(merged_df4)"
   ]
  },
  {
   "cell_type": "code",
   "execution_count": 18,
   "metadata": {},
   "outputs": [
    {
     "data": {
      "text/plain": [
       "array(['AIA', 'ANT', 'BES', 'COK', 'MSR', 'NIU', 'SCG', 'TKL', 'WLF'],\n",
       "      dtype=object)"
      ]
     },
     "execution_count": 18,
     "metadata": {},
     "output_type": "execute_result"
    }
   ],
   "source": [
    "tb_nonmatch = np.setdiff1d(tb_df2.ISO_Alpha.unique(), merged_df4.ISO_Alpha.unique())\n",
    "\n",
    "tb_nonmatch"
   ]
  },
  {
   "cell_type": "markdown",
   "metadata": {},
   "source": [
    "It seems we have a few countries that did not match from the two dataframes. Let's take a closer look, and view the country names."
   ]
  },
  {
   "cell_type": "code",
   "execution_count": 19,
   "metadata": {},
   "outputs": [
    {
     "name": "stdout",
     "output_type": "stream",
     "text": [
      "AIA ['Anguilla']\n",
      "ANT ['Netherlands Antilles']\n",
      "BES ['Bonaire, Saint Eustatius and Saba']\n",
      "COK ['Cook Islands']\n",
      "MSR ['Montserrat']\n",
      "NIU ['Niue']\n",
      "SCG ['Serbia & Montenegro']\n",
      "TKL ['Tokelau']\n",
      "WLF ['Wallis and Futuna Islands']\n"
     ]
    }
   ],
   "source": [
    "for iso3 in tb_nonmatch:\n",
    "    print(iso3, tb_df2.query(\"ISO_Alpha=='\"+iso3+\"'\")['Country'].unique())"
   ]
  },
  {
   "cell_type": "markdown",
   "metadata": {},
   "source": [
    "Do you know where these countries are?"
   ]
  },
  {
   "cell_type": "markdown",
   "metadata": {},
   "source": [
    "#### Merge #3: Merge WB GDP, GDP per capita and primary completion rate"
   ]
  },
  {
   "cell_type": "code",
   "execution_count": 20,
   "metadata": {},
   "outputs": [
    {
     "data": {
      "text/html": [
       "<div>\n",
       "<style scoped>\n",
       "    .dataframe tbody tr th:only-of-type {\n",
       "        vertical-align: middle;\n",
       "    }\n",
       "\n",
       "    .dataframe tbody tr th {\n",
       "        vertical-align: top;\n",
       "    }\n",
       "\n",
       "    .dataframe thead th {\n",
       "        text-align: right;\n",
       "    }\n",
       "</style>\n",
       "<table border=\"1\" class=\"dataframe\">\n",
       "  <thead>\n",
       "    <tr style=\"text-align: right;\">\n",
       "      <th></th>\n",
       "      <th>Country_x</th>\n",
       "      <th>ISO_Alpha</th>\n",
       "      <th>Year</th>\n",
       "      <th>Value</th>\n",
       "      <th>GDP-PC-USD</th>\n",
       "      <th>Region</th>\n",
       "      <th>IncomeGroup</th>\n",
       "      <th>GDP-USD</th>\n",
       "    </tr>\n",
       "  </thead>\n",
       "  <tbody>\n",
       "    <tr>\n",
       "      <th>0</th>\n",
       "      <td>Aruba</td>\n",
       "      <td>ABW</td>\n",
       "      <td>1960</td>\n",
       "      <td>NaN</td>\n",
       "      <td>NaN</td>\n",
       "      <td>Latin America &amp; Caribbean</td>\n",
       "      <td>High income</td>\n",
       "      <td>NaN</td>\n",
       "    </tr>\n",
       "    <tr>\n",
       "      <th>1</th>\n",
       "      <td>Afghanistan</td>\n",
       "      <td>AFG</td>\n",
       "      <td>1960</td>\n",
       "      <td>NaN</td>\n",
       "      <td>59.773194</td>\n",
       "      <td>South Asia</td>\n",
       "      <td>Low income</td>\n",
       "      <td>59.773194</td>\n",
       "    </tr>\n",
       "    <tr>\n",
       "      <th>2</th>\n",
       "      <td>Angola</td>\n",
       "      <td>AGO</td>\n",
       "      <td>1960</td>\n",
       "      <td>NaN</td>\n",
       "      <td>NaN</td>\n",
       "      <td>Sub-Saharan Africa</td>\n",
       "      <td>Lower middle income</td>\n",
       "      <td>NaN</td>\n",
       "    </tr>\n",
       "    <tr>\n",
       "      <th>3</th>\n",
       "      <td>Albania</td>\n",
       "      <td>ALB</td>\n",
       "      <td>1960</td>\n",
       "      <td>NaN</td>\n",
       "      <td>NaN</td>\n",
       "      <td>Europe &amp; Central Asia</td>\n",
       "      <td>Upper middle income</td>\n",
       "      <td>NaN</td>\n",
       "    </tr>\n",
       "    <tr>\n",
       "      <th>4</th>\n",
       "      <td>Andorra</td>\n",
       "      <td>AND</td>\n",
       "      <td>1960</td>\n",
       "      <td>NaN</td>\n",
       "      <td>NaN</td>\n",
       "      <td>Europe &amp; Central Asia</td>\n",
       "      <td>High income</td>\n",
       "      <td>NaN</td>\n",
       "    </tr>\n",
       "    <tr>\n",
       "      <th>...</th>\n",
       "      <td>...</td>\n",
       "      <td>...</td>\n",
       "      <td>...</td>\n",
       "      <td>...</td>\n",
       "      <td>...</td>\n",
       "      <td>...</td>\n",
       "      <td>...</td>\n",
       "      <td>...</td>\n",
       "    </tr>\n",
       "    <tr>\n",
       "      <th>15512</th>\n",
       "      <td>Kosovo</td>\n",
       "      <td>XKX</td>\n",
       "      <td>2018</td>\n",
       "      <td>NaN</td>\n",
       "      <td>4281.292329</td>\n",
       "      <td>Europe &amp; Central Asia</td>\n",
       "      <td>Upper middle income</td>\n",
       "      <td>4281.292329</td>\n",
       "    </tr>\n",
       "    <tr>\n",
       "      <th>15513</th>\n",
       "      <td>Yemen, Rep.</td>\n",
       "      <td>YEM</td>\n",
       "      <td>2018</td>\n",
       "      <td>NaN</td>\n",
       "      <td>944.408499</td>\n",
       "      <td>Middle East &amp; North Africa</td>\n",
       "      <td>Low income</td>\n",
       "      <td>944.408499</td>\n",
       "    </tr>\n",
       "    <tr>\n",
       "      <th>15514</th>\n",
       "      <td>South Africa</td>\n",
       "      <td>ZAF</td>\n",
       "      <td>2018</td>\n",
       "      <td>NaN</td>\n",
       "      <td>6339.574354</td>\n",
       "      <td>Sub-Saharan Africa</td>\n",
       "      <td>Upper middle income</td>\n",
       "      <td>6339.574354</td>\n",
       "    </tr>\n",
       "    <tr>\n",
       "      <th>15515</th>\n",
       "      <td>Zambia</td>\n",
       "      <td>ZMB</td>\n",
       "      <td>2018</td>\n",
       "      <td>NaN</td>\n",
       "      <td>1539.900158</td>\n",
       "      <td>Sub-Saharan Africa</td>\n",
       "      <td>Lower middle income</td>\n",
       "      <td>1539.900158</td>\n",
       "    </tr>\n",
       "    <tr>\n",
       "      <th>15516</th>\n",
       "      <td>Zimbabwe</td>\n",
       "      <td>ZWE</td>\n",
       "      <td>2018</td>\n",
       "      <td>NaN</td>\n",
       "      <td>2146.996385</td>\n",
       "      <td>Sub-Saharan Africa</td>\n",
       "      <td>Lower middle income</td>\n",
       "      <td>2146.996385</td>\n",
       "    </tr>\n",
       "  </tbody>\n",
       "</table>\n",
       "<p>15517 rows × 8 columns</p>\n",
       "</div>"
      ],
      "text/plain": [
       "          Country_x ISO_Alpha  Year  Value   GDP-PC-USD  \\\n",
       "0             Aruba       ABW  1960    NaN          NaN   \n",
       "1       Afghanistan       AFG  1960    NaN    59.773194   \n",
       "2            Angola       AGO  1960    NaN          NaN   \n",
       "3           Albania       ALB  1960    NaN          NaN   \n",
       "4           Andorra       AND  1960    NaN          NaN   \n",
       "...             ...       ...   ...    ...          ...   \n",
       "15512        Kosovo       XKX  2018    NaN  4281.292329   \n",
       "15513   Yemen, Rep.       YEM  2018    NaN   944.408499   \n",
       "15514  South Africa       ZAF  2018    NaN  6339.574354   \n",
       "15515        Zambia       ZMB  2018    NaN  1539.900158   \n",
       "15516      Zimbabwe       ZWE  2018    NaN  2146.996385   \n",
       "\n",
       "                           Region          IncomeGroup      GDP-USD  \n",
       "0       Latin America & Caribbean          High income          NaN  \n",
       "1                      South Asia           Low income    59.773194  \n",
       "2              Sub-Saharan Africa  Lower middle income          NaN  \n",
       "3           Europe & Central Asia  Upper middle income          NaN  \n",
       "4           Europe & Central Asia          High income          NaN  \n",
       "...                           ...                  ...          ...  \n",
       "15512       Europe & Central Asia  Upper middle income  4281.292329  \n",
       "15513  Middle East & North Africa           Low income   944.408499  \n",
       "15514          Sub-Saharan Africa  Upper middle income  6339.574354  \n",
       "15515          Sub-Saharan Africa  Lower middle income  1539.900158  \n",
       "15516          Sub-Saharan Africa  Lower middle income  2146.996385  \n",
       "\n",
       "[15517 rows x 8 columns]"
      ]
     },
     "execution_count": 20,
     "metadata": {},
     "output_type": "execute_result"
    }
   ],
   "source": [
    "merged_df5 = \\\n",
    "    pd.merge(wb_ed_primcomp_df4, merged_df4, on=['ISO_Alpha','Year'], how='inner').\\\n",
    "    drop(columns=['Country_y'])\n",
    "\n",
    "merged_df5"
   ]
  },
  {
   "cell_type": "code",
   "execution_count": 21,
   "metadata": {},
   "outputs": [
    {
     "data": {
      "text/html": [
       "<div>\n",
       "<style scoped>\n",
       "    .dataframe tbody tr th:only-of-type {\n",
       "        vertical-align: middle;\n",
       "    }\n",
       "\n",
       "    .dataframe tbody tr th {\n",
       "        vertical-align: top;\n",
       "    }\n",
       "\n",
       "    .dataframe thead th {\n",
       "        text-align: right;\n",
       "    }\n",
       "</style>\n",
       "<table border=\"1\" class=\"dataframe\">\n",
       "  <thead>\n",
       "    <tr style=\"text-align: right;\">\n",
       "      <th></th>\n",
       "      <th>Country</th>\n",
       "      <th>ISO_Alpha</th>\n",
       "      <th>Year</th>\n",
       "      <th>Primary-Completion-Rate</th>\n",
       "      <th>GDP-PC-USD</th>\n",
       "      <th>Region</th>\n",
       "      <th>IncomeGroup</th>\n",
       "      <th>GDP-USD</th>\n",
       "    </tr>\n",
       "  </thead>\n",
       "  <tbody>\n",
       "    <tr>\n",
       "      <th>0</th>\n",
       "      <td>Aruba</td>\n",
       "      <td>ABW</td>\n",
       "      <td>1960</td>\n",
       "      <td>NaN</td>\n",
       "      <td>NaN</td>\n",
       "      <td>Latin America &amp; Caribbean</td>\n",
       "      <td>High income</td>\n",
       "      <td>NaN</td>\n",
       "    </tr>\n",
       "    <tr>\n",
       "      <th>1</th>\n",
       "      <td>Afghanistan</td>\n",
       "      <td>AFG</td>\n",
       "      <td>1960</td>\n",
       "      <td>NaN</td>\n",
       "      <td>59.773194</td>\n",
       "      <td>South Asia</td>\n",
       "      <td>Low income</td>\n",
       "      <td>59.773194</td>\n",
       "    </tr>\n",
       "    <tr>\n",
       "      <th>2</th>\n",
       "      <td>Angola</td>\n",
       "      <td>AGO</td>\n",
       "      <td>1960</td>\n",
       "      <td>NaN</td>\n",
       "      <td>NaN</td>\n",
       "      <td>Sub-Saharan Africa</td>\n",
       "      <td>Lower middle income</td>\n",
       "      <td>NaN</td>\n",
       "    </tr>\n",
       "    <tr>\n",
       "      <th>3</th>\n",
       "      <td>Albania</td>\n",
       "      <td>ALB</td>\n",
       "      <td>1960</td>\n",
       "      <td>NaN</td>\n",
       "      <td>NaN</td>\n",
       "      <td>Europe &amp; Central Asia</td>\n",
       "      <td>Upper middle income</td>\n",
       "      <td>NaN</td>\n",
       "    </tr>\n",
       "    <tr>\n",
       "      <th>4</th>\n",
       "      <td>Andorra</td>\n",
       "      <td>AND</td>\n",
       "      <td>1960</td>\n",
       "      <td>NaN</td>\n",
       "      <td>NaN</td>\n",
       "      <td>Europe &amp; Central Asia</td>\n",
       "      <td>High income</td>\n",
       "      <td>NaN</td>\n",
       "    </tr>\n",
       "    <tr>\n",
       "      <th>...</th>\n",
       "      <td>...</td>\n",
       "      <td>...</td>\n",
       "      <td>...</td>\n",
       "      <td>...</td>\n",
       "      <td>...</td>\n",
       "      <td>...</td>\n",
       "      <td>...</td>\n",
       "      <td>...</td>\n",
       "    </tr>\n",
       "    <tr>\n",
       "      <th>15512</th>\n",
       "      <td>Kosovo</td>\n",
       "      <td>XKX</td>\n",
       "      <td>2018</td>\n",
       "      <td>NaN</td>\n",
       "      <td>4281.292329</td>\n",
       "      <td>Europe &amp; Central Asia</td>\n",
       "      <td>Upper middle income</td>\n",
       "      <td>4281.292329</td>\n",
       "    </tr>\n",
       "    <tr>\n",
       "      <th>15513</th>\n",
       "      <td>Yemen, Rep.</td>\n",
       "      <td>YEM</td>\n",
       "      <td>2018</td>\n",
       "      <td>NaN</td>\n",
       "      <td>944.408499</td>\n",
       "      <td>Middle East &amp; North Africa</td>\n",
       "      <td>Low income</td>\n",
       "      <td>944.408499</td>\n",
       "    </tr>\n",
       "    <tr>\n",
       "      <th>15514</th>\n",
       "      <td>South Africa</td>\n",
       "      <td>ZAF</td>\n",
       "      <td>2018</td>\n",
       "      <td>NaN</td>\n",
       "      <td>6339.574354</td>\n",
       "      <td>Sub-Saharan Africa</td>\n",
       "      <td>Upper middle income</td>\n",
       "      <td>6339.574354</td>\n",
       "    </tr>\n",
       "    <tr>\n",
       "      <th>15515</th>\n",
       "      <td>Zambia</td>\n",
       "      <td>ZMB</td>\n",
       "      <td>2018</td>\n",
       "      <td>NaN</td>\n",
       "      <td>1539.900158</td>\n",
       "      <td>Sub-Saharan Africa</td>\n",
       "      <td>Lower middle income</td>\n",
       "      <td>1539.900158</td>\n",
       "    </tr>\n",
       "    <tr>\n",
       "      <th>15516</th>\n",
       "      <td>Zimbabwe</td>\n",
       "      <td>ZWE</td>\n",
       "      <td>2018</td>\n",
       "      <td>NaN</td>\n",
       "      <td>2146.996385</td>\n",
       "      <td>Sub-Saharan Africa</td>\n",
       "      <td>Lower middle income</td>\n",
       "      <td>2146.996385</td>\n",
       "    </tr>\n",
       "  </tbody>\n",
       "</table>\n",
       "<p>15517 rows × 8 columns</p>\n",
       "</div>"
      ],
      "text/plain": [
       "            Country ISO_Alpha  Year  Primary-Completion-Rate   GDP-PC-USD  \\\n",
       "0             Aruba       ABW  1960                      NaN          NaN   \n",
       "1       Afghanistan       AFG  1960                      NaN    59.773194   \n",
       "2            Angola       AGO  1960                      NaN          NaN   \n",
       "3           Albania       ALB  1960                      NaN          NaN   \n",
       "4           Andorra       AND  1960                      NaN          NaN   \n",
       "...             ...       ...   ...                      ...          ...   \n",
       "15512        Kosovo       XKX  2018                      NaN  4281.292329   \n",
       "15513   Yemen, Rep.       YEM  2018                      NaN   944.408499   \n",
       "15514  South Africa       ZAF  2018                      NaN  6339.574354   \n",
       "15515        Zambia       ZMB  2018                      NaN  1539.900158   \n",
       "15516      Zimbabwe       ZWE  2018                      NaN  2146.996385   \n",
       "\n",
       "                           Region          IncomeGroup      GDP-USD  \n",
       "0       Latin America & Caribbean          High income          NaN  \n",
       "1                      South Asia           Low income    59.773194  \n",
       "2              Sub-Saharan Africa  Lower middle income          NaN  \n",
       "3           Europe & Central Asia  Upper middle income          NaN  \n",
       "4           Europe & Central Asia          High income          NaN  \n",
       "...                           ...                  ...          ...  \n",
       "15512       Europe & Central Asia  Upper middle income  4281.292329  \n",
       "15513  Middle East & North Africa           Low income   944.408499  \n",
       "15514          Sub-Saharan Africa  Upper middle income  6339.574354  \n",
       "15515          Sub-Saharan Africa  Lower middle income  1539.900158  \n",
       "15516          Sub-Saharan Africa  Lower middle income  2146.996385  \n",
       "\n",
       "[15517 rows x 8 columns]"
      ]
     },
     "execution_count": 21,
     "metadata": {},
     "output_type": "execute_result"
    }
   ],
   "source": [
    "merged_df6 = \\\n",
    "    merged_df5.rename(\\\n",
    "        columns={'Country_x': 'Country','Value':'Primary-Completion-Rate'})\n",
    "\n",
    "merged_df6"
   ]
  },
  {
   "cell_type": "markdown",
   "metadata": {},
   "source": [
    "#### Merge #4: Merge TB data with WB GDP data"
   ]
  },
  {
   "cell_type": "code",
   "execution_count": 22,
   "metadata": {},
   "outputs": [
    {
     "name": "stdout",
     "output_type": "stream",
     "text": [
      "<class 'pandas.core.frame.DataFrame'>\n",
      "Int64Index: 3719 entries, 0 to 3718\n",
      "Data columns (total 53 columns):\n",
      "Country                     3719 non-null object\n",
      "ISO_Alpha                   3719 non-null object\n",
      "Year                        3719 non-null int64\n",
      "Primary-Completion-Rate     2229 non-null float64\n",
      "GDP-PC-USD                  3566 non-null float64\n",
      "Region                      3719 non-null object\n",
      "IncomeGroup                 3719 non-null object\n",
      "GDP-USD                     3566 non-null float64\n",
      "Country_y                   3719 non-null object\n",
      "iso2                        3701 non-null object\n",
      "iso_numeric                 3719 non-null int64\n",
      "g_whoregion                 3719 non-null object\n",
      "e_pop_num                   3719 non-null int64\n",
      "e_inc_100k                  3719 non-null float64\n",
      "e_inc_100k_lo               3719 non-null float64\n",
      "e_inc_100k_hi               3719 non-null float64\n",
      "e_inc_num                   3719 non-null int64\n",
      "e_inc_num_lo                3719 non-null int64\n",
      "e_inc_num_hi                3719 non-null int64\n",
      "e_tbhiv_prct                3513 non-null float64\n",
      "e_tbhiv_prct_lo             3513 non-null float64\n",
      "e_tbhiv_prct_hi             3513 non-null float64\n",
      "e_inc_tbhiv_100k            3513 non-null float64\n",
      "e_inc_tbhiv_100k_lo         3513 non-null float64\n",
      "e_inc_tbhiv_100k_hi         3513 non-null float64\n",
      "e_inc_tbhiv_num             3513 non-null float64\n",
      "e_inc_tbhiv_num_lo          3513 non-null float64\n",
      "e_inc_tbhiv_num_hi          3513 non-null float64\n",
      "e_mort_exc_tbhiv_100k       3719 non-null float64\n",
      "e_mort_exc_tbhiv_100k_lo    3703 non-null float64\n",
      "e_mort_exc_tbhiv_100k_hi    3703 non-null float64\n",
      "e_mort_exc_tbhiv_num        3719 non-null int64\n",
      "e_mort_exc_tbhiv_num_lo     3703 non-null float64\n",
      "e_mort_exc_tbhiv_num_hi     3703 non-null float64\n",
      "e_mort_tbhiv_100k           3719 non-null float64\n",
      "e_mort_tbhiv_100k_lo        3719 non-null float64\n",
      "e_mort_tbhiv_100k_hi        3719 non-null float64\n",
      "e_mort_tbhiv_num            3719 non-null int64\n",
      "e_mort_tbhiv_num_lo         3719 non-null int64\n",
      "e_mort_tbhiv_num_hi         3719 non-null int64\n",
      "e_mort_100k                 3719 non-null float64\n",
      "e_mort_100k_lo              3719 non-null float64\n",
      "e_mort_100k_hi              3719 non-null float64\n",
      "e_mort_num                  3719 non-null int64\n",
      "e_mort_num_lo               3719 non-null int64\n",
      "e_mort_num_hi               3719 non-null int64\n",
      "cfr                         203 non-null float64\n",
      "cfr_lo                      203 non-null float64\n",
      "cfr_hi                      203 non-null float64\n",
      "c_newinc_100k               3591 non-null float64\n",
      "c_cdr                       3554 non-null float64\n",
      "c_cdr_lo                    3554 non-null float64\n",
      "c_cdr_hi                    3554 non-null float64\n",
      "dtypes: float64(33), int64(13), object(7)\n",
      "memory usage: 1.5+ MB\n"
     ]
    }
   ],
   "source": [
    "merged_df7 = pd.merge(merged_df6, tb_df2, on=['ISO_Alpha', 'Year'], how='inner')\n",
    "merged_df8 = merged_df7.rename(columns={'Country_x': 'Country'})\n",
    "\n",
    "merged_df8.info()"
   ]
  },
  {
   "cell_type": "code",
   "execution_count": 23,
   "metadata": {
    "scrolled": false
   },
   "outputs": [
    {
     "data": {
      "text/plain": [
       "<matplotlib.axes._subplots.AxesSubplot at 0x7f1a145454e0>"
      ]
     },
     "execution_count": 23,
     "metadata": {},
     "output_type": "execute_result"
    },
    {
     "data": {
      "image/png": "[encoded data removed]",
      "text/plain": [
       "<Figure size 1728x720 with 2 Axes>"
      ]
     },
     "metadata": {
      "needs_background": "light"
     },
     "output_type": "display_data"
    }
   ],
   "source": [
    "mno.bar(merged_df8)"
   ]
  },
  {
   "cell_type": "code",
   "execution_count": 24,
   "metadata": {},
   "outputs": [
    {
     "data": {
      "text/plain": [
       "<matplotlib.axes._subplots.AxesSubplot at 0x7f1a1018b0f0>"
      ]
     },
     "execution_count": 24,
     "metadata": {},
     "output_type": "execute_result"
    },
    {
     "data": {
      "image/png": "[encoded data removed]",
      "text/plain": [
       "<Figure size 1440x864 with 2 Axes>"
      ]
     },
     "metadata": {
      "needs_background": "light"
     },
     "output_type": "display_data"
    }
   ],
   "source": [
    "mno.heatmap(merged_df8)"
   ]
  },
  {
   "cell_type": "markdown",
   "metadata": {},
   "source": [
    "### 2016 subset of second-merge dataframe"
   ]
  },
  {
   "cell_type": "code",
   "execution_count": 25,
   "metadata": {},
   "outputs": [],
   "source": [
    "is_2016 = merged_df8['Year'] == 2016"
   ]
  },
  {
   "cell_type": "code",
   "execution_count": 26,
   "metadata": {},
   "outputs": [],
   "source": [
    "merged_df8_2016 = merged_df8[is_2016]"
   ]
  },
  {
   "cell_type": "code",
   "execution_count": 27,
   "metadata": {},
   "outputs": [
    {
     "name": "stdout",
     "output_type": "stream",
     "text": [
      "<class 'pandas.core.frame.DataFrame'>\n",
      "Int64Index: 209 entries, 3301 to 3509\n",
      "Data columns (total 53 columns):\n",
      "Country                     209 non-null object\n",
      "ISO_Alpha                   209 non-null object\n",
      "Year                        209 non-null int64\n",
      "Primary-Completion-Rate     125 non-null float64\n",
      "GDP-PC-USD                  199 non-null float64\n",
      "Region                      209 non-null object\n",
      "IncomeGroup                 209 non-null object\n",
      "GDP-USD                     199 non-null float64\n",
      "Country_y                   209 non-null object\n",
      "iso2                        208 non-null object\n",
      "iso_numeric                 209 non-null int64\n",
      "g_whoregion                 209 non-null object\n",
      "e_pop_num                   209 non-null int64\n",
      "e_inc_100k                  209 non-null float64\n",
      "e_inc_100k_lo               209 non-null float64\n",
      "e_inc_100k_hi               209 non-null float64\n",
      "e_inc_num                   209 non-null int64\n",
      "e_inc_num_lo                209 non-null int64\n",
      "e_inc_num_hi                209 non-null int64\n",
      "e_tbhiv_prct                197 non-null float64\n",
      "e_tbhiv_prct_lo             197 non-null float64\n",
      "e_tbhiv_prct_hi             197 non-null float64\n",
      "e_inc_tbhiv_100k            197 non-null float64\n",
      "e_inc_tbhiv_100k_lo         197 non-null float64\n",
      "e_inc_tbhiv_100k_hi         197 non-null float64\n",
      "e_inc_tbhiv_num             197 non-null float64\n",
      "e_inc_tbhiv_num_lo          197 non-null float64\n",
      "e_inc_tbhiv_num_hi          197 non-null float64\n",
      "e_mort_exc_tbhiv_100k       209 non-null float64\n",
      "e_mort_exc_tbhiv_100k_lo    207 non-null float64\n",
      "e_mort_exc_tbhiv_100k_hi    207 non-null float64\n",
      "e_mort_exc_tbhiv_num        209 non-null int64\n",
      "e_mort_exc_tbhiv_num_lo     207 non-null float64\n",
      "e_mort_exc_tbhiv_num_hi     207 non-null float64\n",
      "e_mort_tbhiv_100k           209 non-null float64\n",
      "e_mort_tbhiv_100k_lo        209 non-null float64\n",
      "e_mort_tbhiv_100k_hi        209 non-null float64\n",
      "e_mort_tbhiv_num            209 non-null int64\n",
      "e_mort_tbhiv_num_lo         209 non-null int64\n",
      "e_mort_tbhiv_num_hi         209 non-null int64\n",
      "e_mort_100k                 209 non-null float64\n",
      "e_mort_100k_lo              209 non-null float64\n",
      "e_mort_100k_hi              209 non-null float64\n",
      "e_mort_num                  209 non-null int64\n",
      "e_mort_num_lo               209 non-null int64\n",
      "e_mort_num_hi               209 non-null int64\n",
      "cfr                         0 non-null float64\n",
      "cfr_lo                      0 non-null float64\n",
      "cfr_hi                      0 non-null float64\n",
      "c_newinc_100k               207 non-null float64\n",
      "c_cdr                       203 non-null float64\n",
      "c_cdr_lo                    203 non-null float64\n",
      "c_cdr_hi                    203 non-null float64\n",
      "dtypes: float64(33), int64(13), object(7)\n",
      "memory usage: 88.2+ KB\n"
     ]
    }
   ],
   "source": [
    "merged_df8_2016.info()"
   ]
  },
  {
   "cell_type": "markdown",
   "metadata": {},
   "source": [
    "#### Pickle merged files"
   ]
  },
  {
   "cell_type": "code",
   "execution_count": 28,
   "metadata": {},
   "outputs": [],
   "source": [
    "merged_df8_2016.to_pickle('outputs/merged_df8_2016.pickle')\n",
    "merged_df4.to_pickle('outputs/merged_df4.pickle')\n",
    "merged_df8.to_pickle('outputs/merged_df8.pickle')"
   ]
  },
  {
   "cell_type": "markdown",
   "metadata": {},
   "source": [
    "## You finished Notebook 3!"
   ]
  },
  {
   "cell_type": "markdown",
   "metadata": {},
   "source": [
    "Please proceed to Notebook 4 to see the visualizations."
   ]
  },
  {
   "cell_type": "code",
   "execution_count": null,
   "metadata": {},
   "outputs": [],
   "source": []
  }
 ],
 "metadata": {
  "kernelspec": {
   "display_name": "Python 3",
   "language": "python",
   "name": "python3"
  },
  "language_info": {
   "codemirror_mode": {
    "name": "ipython",
    "version": 3
   },
   "file_extension": ".py",
   "mimetype": "text/x-python",
   "name": "python",
   "nbconvert_exporter": "python",
   "pygments_lexer": "ipython3",
   "version": "3.7.3"
  },
  "nbTranslate": {
   "displayLangs": [
    "*"
   ],
   "hotkey": "alt-t",
   "langInMainMenu": true,
   "sourceLang": "en",
   "targetLang": "fr",
   "useGoogleTranslate": true
  }
 },
 "nbformat": 4,
 "nbformat_minor": 2
}
