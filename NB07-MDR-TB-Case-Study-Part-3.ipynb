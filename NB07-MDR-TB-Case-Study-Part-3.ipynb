{
 "cells": [
  {
   "cell_type": "code",
   "execution_count": 94,
   "metadata": {},
   "outputs": [],
   "source": [
    "%run ./resources/library.py"
   ]
  },
  {
   "cell_type": "code",
   "execution_count": 95,
   "metadata": {},
   "outputs": [
    {
     "data": {
      "text/html": [
       "<style> \n",
       "div.text_cell_render { /* Customize text cells */ \n",
       "    font-family: 'Arial'; \n",
       "    font-size:20px;\n",
       "    line-height: 1.5em;\n",
       "    padding-left:3em; \n",
       "    padding-right:3em; \n",
       "}\n",
       ".CodeMirror {\n",
       "    font-family:  'Source Code Pro', monospace;\n",
       "    font-size: 18px;\n",
       "}\n",
       "\n",
       "/* Cell output */\n",
       "\n",
       ".rendered_html pre, .rendered_html code {\n",
       "    color: inherit !important;\n",
       "    background-color: inherit !important;\n",
       "}\n",
       "div.output_area pre {\n",
       "    line-height: 1.2em;\n",
       "    color: #93a1a1 !important;\n",
       "    font-family: 'Source Code Pro', monospace;\n",
       "    font-size: 16px;\n",
       "}\n",
       ".rendered_html table, .rendered_html td, .rendered_html th {\n",
       "    border: 1px solid #586e75 !important;\n",
       "    font-family: 'Arial';\n",
       "    font-size: 16px;\n",
       "}\n",
       "</style>"
      ],
      "text/plain": [
       "<IPython.core.display.HTML object>"
      ]
     },
     "execution_count": 95,
     "metadata": {},
     "output_type": "execute_result"
    }
   ],
   "source": [
    "style_notebook()"
   ]
  },
  {
   "cell_type": "markdown",
   "metadata": {},
   "source": [
    "Digital Case Study: Multidrug-Resistant Tuberculosis (MDR-TB) Outbreak - Revisiting the 2005 Outbreak Investigation in Thailand by John Oeltmann"
   ]
  },
  {
   "cell_type": "markdown",
   "metadata": {},
   "source": [
    "## Note: Work in progress..."
   ]
  },
  {
   "cell_type": "markdown",
   "metadata": {},
   "source": [
    "# Notebook 7, Part 3: Social Network Analysis"
   ]
  },
  {
   "cell_type": "markdown",
   "metadata": {},
   "source": [
    "## Social Network Analysis"
   ]
  },
  {
   "cell_type": "code",
   "execution_count": 104,
   "metadata": {},
   "outputs": [
    {
     "data": {
      "text/plain": [
       "'0.24.2'"
      ]
     },
     "execution_count": 104,
     "metadata": {},
     "output_type": "execute_result"
    }
   ],
   "source": [
    "import pandas as pd\n",
    "\n",
    "pd.__version__"
   ]
  },
  {
   "cell_type": "markdown",
   "metadata": {},
   "source": [
    "Let's load the two batches of data for nodes and edges."
   ]
  },
  {
   "cell_type": "markdown",
   "metadata": {},
   "source": [
    "## Using `pyvis` for Network Visualization"
   ]
  },
  {
   "cell_type": "markdown",
   "metadata": {},
   "source": [
    "https://pyvis.readthedocs.io/en/latest/tutorial.html"
   ]
  },
  {
   "cell_type": "code",
   "execution_count": 111,
   "metadata": {},
   "outputs": [
    {
     "data": {
      "text/plain": [
       "array(['TH-101579', 'TH-101823', 'TH-101783', 'TH-102445', 'TH-102460',\n",
       "       'TH-102637', 'TH-103347', 'TH-103009', 'TH-102909', 'TH-103773',\n",
       "       'TH-104039', 'TH-103927'], dtype=object)"
      ]
     },
     "execution_count": 111,
     "metadata": {},
     "output_type": "execute_result"
    }
   ],
   "source": [
    "nodelist_orig = df12.ORIGNO.unique()\n",
    "\n",
    "nodelist_orig"
   ]
  },
  {
   "cell_type": "code",
   "execution_count": 89,
   "metadata": {},
   "outputs": [
    {
     "data": {
      "text/plain": [
       "[['TH-101579',\n",
       "  'TH-101823',\n",
       "  'TH-101783',\n",
       "  'TH-102445',\n",
       "  'TH-102460',\n",
       "  'TH-102637',\n",
       "  'TH-103347',\n",
       "  'TH-103009',\n",
       "  'TH-102909',\n",
       "  'TH-103773',\n",
       "  'TH-104039',\n",
       "  'TH-103927'],\n",
       " [1, 1, 1, 1, 1, 1, 1, 1, 1, 1, 2, 2],\n",
       " [100.82844,\n",
       "  100.828917,\n",
       "  100.828634,\n",
       "  100.82895,\n",
       "  100.827556,\n",
       "  100.829703,\n",
       "  100.830247,\n",
       "  100.831095,\n",
       "  100.830151,\n",
       "  100.82848,\n",
       "  100.829623,\n",
       "  100.829917],\n",
       " [14.702731,\n",
       "  14.699857,\n",
       "  14.696434,\n",
       "  14.696133,\n",
       "  14.700809,\n",
       "  14.696637,\n",
       "  14.697342,\n",
       "  14.699261,\n",
       "  14.69898,\n",
       "  14.700229,\n",
       "  14.697903,\n",
       "  14.700072],\n",
       " [4, 4, 1, 1, 1, 1, 3, 1, 1, 1, 1, 2],\n",
       " ['MDR-TB',\n",
       "  'MDR-TB',\n",
       "  'MDR-TB',\n",
       "  'MDR-TB',\n",
       "  'MDR-TB',\n",
       "  'MDR-TB',\n",
       "  'MDR-TB',\n",
       "  'MDR-TB',\n",
       "  'MDR-TB',\n",
       "  'MDR-TB',\n",
       "  'MDR-TB',\n",
       "  'MDR-TB']]"
      ]
     },
     "execution_count": 89,
     "metadata": {},
     "output_type": "execute_result"
    }
   ],
   "source": [
    "nodes = []\n",
    "batches = []\n",
    "lons = [] # x\n",
    "lats = [] # y\n",
    "links = []\n",
    "drtypes = []\n",
    "\n",
    "node_colors =  []\n",
    "for each in df12.iterrows():\n",
    "    origno = each[1]['ORIGNO']\n",
    "    batch = each[1]['batch']\n",
    "    lon = each[1]['OLON']\n",
    "    lat = each[1]['OLAT']\n",
    "    link_count = each[1]['link_count']\n",
    "    drtype = 'MDR-TB'\n",
    "    if origno not in nodes:\n",
    "        nodes.append(origno)\n",
    "        batches.append(batch)\n",
    "        lons.append(lon)\n",
    "        lats.append(lat)\n",
    "        links.append(link_count)\n",
    "        drtypes.append(drtype)\n",
    "\n",
    "[nodes, batches, lons, lats, links, drtypes]"
   ]
  },
  {
   "cell_type": "code",
   "execution_count": 90,
   "metadata": {},
   "outputs": [],
   "source": [
    "from pyvis.network import Network\n",
    "net = Network(notebook=True, \\\n",
    "              height=\"700px\", \\\n",
    "              width=\"500px\", \\\n",
    "              bgcolor=\"white\", \\\n",
    "              font_color=\"black\")"
   ]
  },
  {
   "cell_type": "markdown",
   "metadata": {},
   "source": [
    "### Add nodes and attributes"
   ]
  },
  {
   "cell_type": "code",
   "execution_count": 91,
   "metadata": {},
   "outputs": [],
   "source": [
    "net.add_nodes(nodes, value=links, title=nodes, x=lons, y=lats, label=nodes)"
   ]
  },
  {
   "cell_type": "markdown",
   "metadata": {},
   "source": [
    "### Add edges"
   ]
  },
  {
   "cell_type": "code",
   "execution_count": 92,
   "metadata": {},
   "outputs": [
    {
     "data": {
      "text/html": [
       "<div>\n",
       "<style scoped>\n",
       "    .dataframe tbody tr th:only-of-type {\n",
       "        vertical-align: middle;\n",
       "    }\n",
       "\n",
       "    .dataframe tbody tr th {\n",
       "        vertical-align: top;\n",
       "    }\n",
       "\n",
       "    .dataframe thead th {\n",
       "        text-align: right;\n",
       "    }\n",
       "</style>\n",
       "<table border=\"1\" class=\"dataframe\">\n",
       "  <thead>\n",
       "    <tr style=\"text-align: right;\">\n",
       "      <th></th>\n",
       "      <th>ORIGNO</th>\n",
       "      <th>DESTNO</th>\n",
       "      <th>link_count</th>\n",
       "    </tr>\n",
       "  </thead>\n",
       "  <tbody>\n",
       "    <tr>\n",
       "      <th>0</th>\n",
       "      <td>TH-101579</td>\n",
       "      <td>TH-101823</td>\n",
       "      <td>4</td>\n",
       "    </tr>\n",
       "    <tr>\n",
       "      <th>1</th>\n",
       "      <td>TH-101579</td>\n",
       "      <td>TH-102637</td>\n",
       "      <td>4</td>\n",
       "    </tr>\n",
       "    <tr>\n",
       "      <th>2</th>\n",
       "      <td>TH-101823</td>\n",
       "      <td>TH-101579</td>\n",
       "      <td>4</td>\n",
       "    </tr>\n",
       "    <tr>\n",
       "      <th>3</th>\n",
       "      <td>TH-101823</td>\n",
       "      <td>TH-101783</td>\n",
       "      <td>4</td>\n",
       "    </tr>\n",
       "    <tr>\n",
       "      <th>4</th>\n",
       "      <td>TH-101823</td>\n",
       "      <td>TH-102445</td>\n",
       "      <td>4</td>\n",
       "    </tr>\n",
       "    <tr>\n",
       "      <th>5</th>\n",
       "      <td>TH-101823</td>\n",
       "      <td>TH-102460</td>\n",
       "      <td>4</td>\n",
       "    </tr>\n",
       "    <tr>\n",
       "      <th>6</th>\n",
       "      <td>TH-101783</td>\n",
       "      <td>TH-101823</td>\n",
       "      <td>1</td>\n",
       "    </tr>\n",
       "    <tr>\n",
       "      <th>7</th>\n",
       "      <td>TH-102445</td>\n",
       "      <td>TH-101823</td>\n",
       "      <td>1</td>\n",
       "    </tr>\n",
       "    <tr>\n",
       "      <th>8</th>\n",
       "      <td>TH-102460</td>\n",
       "      <td>TH-101823</td>\n",
       "      <td>1</td>\n",
       "    </tr>\n",
       "    <tr>\n",
       "      <th>9</th>\n",
       "      <td>TH-102637</td>\n",
       "      <td>TH-101579</td>\n",
       "      <td>1</td>\n",
       "    </tr>\n",
       "    <tr>\n",
       "      <th>10</th>\n",
       "      <td>TH-103347</td>\n",
       "      <td>TH-103009</td>\n",
       "      <td>3</td>\n",
       "    </tr>\n",
       "    <tr>\n",
       "      <th>11</th>\n",
       "      <td>TH-103347</td>\n",
       "      <td>TH-102909</td>\n",
       "      <td>3</td>\n",
       "    </tr>\n",
       "    <tr>\n",
       "      <th>12</th>\n",
       "      <td>TH-103347</td>\n",
       "      <td>TH-103773</td>\n",
       "      <td>3</td>\n",
       "    </tr>\n",
       "    <tr>\n",
       "      <th>13</th>\n",
       "      <td>TH-103009</td>\n",
       "      <td>TH-103347</td>\n",
       "      <td>1</td>\n",
       "    </tr>\n",
       "    <tr>\n",
       "      <th>14</th>\n",
       "      <td>TH-102909</td>\n",
       "      <td>TH-103347</td>\n",
       "      <td>1</td>\n",
       "    </tr>\n",
       "    <tr>\n",
       "      <th>15</th>\n",
       "      <td>TH-103773</td>\n",
       "      <td>TH-103347</td>\n",
       "      <td>1</td>\n",
       "    </tr>\n",
       "    <tr>\n",
       "      <th>16</th>\n",
       "      <td>TH-101579</td>\n",
       "      <td>TH-103927</td>\n",
       "      <td>4</td>\n",
       "    </tr>\n",
       "    <tr>\n",
       "      <th>17</th>\n",
       "      <td>TH-101579</td>\n",
       "      <td>TH-104039</td>\n",
       "      <td>4</td>\n",
       "    </tr>\n",
       "    <tr>\n",
       "      <th>18</th>\n",
       "      <td>TH-104039</td>\n",
       "      <td>TH-101579</td>\n",
       "      <td>1</td>\n",
       "    </tr>\n",
       "    <tr>\n",
       "      <th>19</th>\n",
       "      <td>TH-103927</td>\n",
       "      <td>TH-104090</td>\n",
       "      <td>2</td>\n",
       "    </tr>\n",
       "    <tr>\n",
       "      <th>20</th>\n",
       "      <td>TH-103927</td>\n",
       "      <td>TH-104090</td>\n",
       "      <td>1</td>\n",
       "    </tr>\n",
       "    <tr>\n",
       "      <th>21</th>\n",
       "      <td>TH-103927</td>\n",
       "      <td>TH-101579</td>\n",
       "      <td>2</td>\n",
       "    </tr>\n",
       "    <tr>\n",
       "      <th>22</th>\n",
       "      <td>TH-103927</td>\n",
       "      <td>TH-101579</td>\n",
       "      <td>1</td>\n",
       "    </tr>\n",
       "  </tbody>\n",
       "</table>\n",
       "</div>"
      ],
      "text/plain": [
       "       ORIGNO     DESTNO  link_count\n",
       "0   TH-101579  TH-101823           4\n",
       "1   TH-101579  TH-102637           4\n",
       "2   TH-101823  TH-101579           4\n",
       "3   TH-101823  TH-101783           4\n",
       "4   TH-101823  TH-102445           4\n",
       "5   TH-101823  TH-102460           4\n",
       "6   TH-101783  TH-101823           1\n",
       "7   TH-102445  TH-101823           1\n",
       "8   TH-102460  TH-101823           1\n",
       "9   TH-102637  TH-101579           1\n",
       "10  TH-103347  TH-103009           3\n",
       "11  TH-103347  TH-102909           3\n",
       "12  TH-103347  TH-103773           3\n",
       "13  TH-103009  TH-103347           1\n",
       "14  TH-102909  TH-103347           1\n",
       "15  TH-103773  TH-103347           1\n",
       "16  TH-101579  TH-103927           4\n",
       "17  TH-101579  TH-104039           4\n",
       "18  TH-104039  TH-101579           1\n",
       "19  TH-103927  TH-104090           2\n",
       "20  TH-103927  TH-104090           1\n",
       "21  TH-103927  TH-101579           2\n",
       "22  TH-103927  TH-101579           1"
      ]
     },
     "execution_count": 92,
     "metadata": {},
     "output_type": "execute_result"
    }
   ],
   "source": [
    "df12[['ORIGNO','DESTNO','link_count']]"
   ]
  },
  {
   "cell_type": "code",
   "execution_count": 93,
   "metadata": {},
   "outputs": [
    {
     "ename": "AssertionError",
     "evalue": "non existent node '['TH-101579', 'TH-101579', 'TH-101823', 'TH-101823', 'TH-101823', 'TH-101823', 'TH-101783', 'TH-102445', 'TH-102460', 'TH-102637', 'TH-103347', 'TH-103347', 'TH-103347', 'TH-103009', 'TH-102909', 'TH-103773', 'TH-101579', 'TH-101579', 'TH-104039', 'TH-103927', 'TH-103927', 'TH-103927', 'TH-103927']'",
     "output_type": "error",
     "traceback": [
      "\u001b[0;31m---------------------------------------------------------------------------\u001b[0m",
      "\u001b[0;31mAssertionError\u001b[0m                            Traceback (most recent call last)",
      "\u001b[0;32m<ipython-input-93-61764660fe44>\u001b[0m in \u001b[0;36m<module>\u001b[0;34m()\u001b[0m\n\u001b[1;32m     10\u001b[0m     \u001b[0mweights\u001b[0m\u001b[0;34m.\u001b[0m\u001b[0mappend\u001b[0m\u001b[0;34m(\u001b[0m\u001b[0mweight\u001b[0m\u001b[0;34m)\u001b[0m\u001b[0;34m\u001b[0m\u001b[0;34m\u001b[0m\u001b[0m\n\u001b[1;32m     11\u001b[0m \u001b[0;34m\u001b[0m\u001b[0m\n\u001b[0;32m---> 12\u001b[0;31m \u001b[0mnet\u001b[0m\u001b[0;34m.\u001b[0m\u001b[0madd_edge\u001b[0m\u001b[0;34m(\u001b[0m\u001b[0msources\u001b[0m\u001b[0;34m,\u001b[0m \u001b[0mdestinations\u001b[0m\u001b[0;34m,\u001b[0m \u001b[0mvalue\u001b[0m\u001b[0;34m=\u001b[0m\u001b[0mweights\u001b[0m\u001b[0;34m)\u001b[0m\u001b[0;34m\u001b[0m\u001b[0;34m\u001b[0m\u001b[0m\n\u001b[0m",
      "\u001b[0;32m/opt/conda/lib/python3.6/site-packages/pyvis/network.py\u001b[0m in \u001b[0;36madd_edge\u001b[0;34m(self, source, to, **options)\u001b[0m\n\u001b[1;32m    329\u001b[0m         \u001b[0;31m# verify nodes exists\u001b[0m\u001b[0;34m\u001b[0m\u001b[0;34m\u001b[0m\u001b[0;34m\u001b[0m\u001b[0m\n\u001b[1;32m    330\u001b[0m         \u001b[0;32massert\u001b[0m \u001b[0msource\u001b[0m \u001b[0;32min\u001b[0m \u001b[0mself\u001b[0m\u001b[0;34m.\u001b[0m\u001b[0mget_nodes\u001b[0m\u001b[0;34m(\u001b[0m\u001b[0;34m)\u001b[0m\u001b[0;34m,\u001b[0m\u001b[0;31m \u001b[0m\u001b[0;31m\\\u001b[0m\u001b[0;34m\u001b[0m\u001b[0;34m\u001b[0m\u001b[0m\n\u001b[0;32m--> 331\u001b[0;31m             \u001b[0;34m\"non existent node '\"\u001b[0m \u001b[0;34m+\u001b[0m \u001b[0mstr\u001b[0m\u001b[0;34m(\u001b[0m\u001b[0msource\u001b[0m\u001b[0;34m)\u001b[0m \u001b[0;34m+\u001b[0m \u001b[0;34m\"'\"\u001b[0m\u001b[0;34m\u001b[0m\u001b[0;34m\u001b[0m\u001b[0m\n\u001b[0m\u001b[1;32m    332\u001b[0m \u001b[0;34m\u001b[0m\u001b[0m\n\u001b[1;32m    333\u001b[0m         \u001b[0;32massert\u001b[0m \u001b[0mto\u001b[0m \u001b[0;32min\u001b[0m \u001b[0mself\u001b[0m\u001b[0;34m.\u001b[0m\u001b[0mget_nodes\u001b[0m\u001b[0;34m(\u001b[0m\u001b[0;34m)\u001b[0m\u001b[0;34m,\u001b[0m\u001b[0;31m \u001b[0m\u001b[0;31m\\\u001b[0m\u001b[0;34m\u001b[0m\u001b[0;34m\u001b[0m\u001b[0m\n",
      "\u001b[0;31mAssertionError\u001b[0m: non existent node '['TH-101579', 'TH-101579', 'TH-101823', 'TH-101823', 'TH-101823', 'TH-101823', 'TH-101783', 'TH-102445', 'TH-102460', 'TH-102637', 'TH-103347', 'TH-103347', 'TH-103347', 'TH-103009', 'TH-102909', 'TH-103773', 'TH-101579', 'TH-101579', 'TH-104039', 'TH-103927', 'TH-103927', 'TH-103927', 'TH-103927']'"
     ]
    }
   ],
   "source": [
    "sources = []\n",
    "destinations = []\n",
    "weights = []\n",
    "for each in df12.iterrows():\n",
    "    source = each[1]['ORIGNO']\n",
    "    destination = each[1]['DESTNO']\n",
    "    weight = each[1]['link_count']\n",
    "    sources.append(source)\n",
    "    destinations.append(destination)\n",
    "    weights.append(weight)\n",
    "    \n",
    "net.add_edge(sources, destinations, value=weights)"
   ]
  },
  {
   "cell_type": "markdown",
   "metadata": {},
   "source": [
    "### Show netork graph"
   ]
  },
  {
   "cell_type": "code",
   "execution_count": 82,
   "metadata": {},
   "outputs": [
    {
     "data": {
      "text/html": [
       "\n",
       "        <iframe\n",
       "            width=\"500px\"\n",
       "            height=\"700px\"\n",
       "            src=\"outputs/net.html\"\n",
       "            frameborder=\"0\"\n",
       "            allowfullscreen\n",
       "        ></iframe>\n",
       "        "
      ],
      "text/plain": [
       "<IPython.lib.display.IFrame at 0x7f21158d4320>"
      ]
     },
     "execution_count": 82,
     "metadata": {},
     "output_type": "execute_result"
    }
   ],
   "source": [
    "net.show('outputs/net.html')"
   ]
  },
  {
   "cell_type": "code",
   "execution_count": null,
   "metadata": {},
   "outputs": [],
   "source": []
  },
  {
   "cell_type": "code",
   "execution_count": null,
   "metadata": {},
   "outputs": [],
   "source": []
  }
 ],
 "metadata": {
  "kernelspec": {
   "display_name": "Python 3",
   "language": "python",
   "name": "python3"
  },
  "language_info": {
   "codemirror_mode": {
    "name": "ipython",
    "version": 3
   },
   "file_extension": ".py",
   "mimetype": "text/x-python",
   "name": "python",
   "nbconvert_exporter": "python",
   "pygments_lexer": "ipython3",
   "version": "3.6.8"
  }
 },
 "nbformat": 4,
 "nbformat_minor": 2
}
