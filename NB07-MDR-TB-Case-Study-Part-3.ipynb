{
 "cells": [
  {
   "cell_type": "code",
   "execution_count": 1,
   "metadata": {},
   "outputs": [],
   "source": [
    "%run ./resources/library.py"
   ]
  },
  {
   "cell_type": "code",
   "execution_count": 2,
   "metadata": {},
   "outputs": [
    {
     "data": {
      "text/html": [
       "<style> \n",
       "div.text_cell_render { /* Customize text cells */ \n",
       "    font-family: 'Arial'; \n",
       "    font-size:20px;\n",
       "    line-height: 1.5em;\n",
       "    padding-left:3em; \n",
       "    padding-right:3em; \n",
       "}\n",
       ".CodeMirror {\n",
       "    font-family:  'Source Code Pro', monospace;\n",
       "    font-size: 18px;\n",
       "}\n",
       "\n",
       "/* Cell output */\n",
       "\n",
       ".rendered_html pre, .rendered_html code {\n",
       "    color: inherit !important;\n",
       "    background-color: inherit !important;\n",
       "}\n",
       "div.output_area pre {\n",
       "    line-height: 1.2em;\n",
       "    color: #93a1a1 !important;\n",
       "    font-family: 'Source Code Pro', monospace;\n",
       "    font-size: 16px;\n",
       "}\n",
       ".rendered_html table, .rendered_html td, .rendered_html th {\n",
       "    border: 1px solid #586e75 !important;\n",
       "    font-family: 'Arial';\n",
       "    font-size: 16px;\n",
       "}\n",
       "</style>"
      ],
      "text/plain": [
       "<IPython.core.display.HTML object>"
      ]
     },
     "execution_count": 2,
     "metadata": {},
     "output_type": "execute_result"
    }
   ],
   "source": [
    "style_notebook()"
   ]
  },
  {
   "cell_type": "markdown",
   "metadata": {},
   "source": [
    "Digital Case Study: Multidrug-Resistant Tuberculosis (MDR-TB) Outbreak - Revisiting the 2005 Outbreak Investigation in Thailand by John Oeltmann"
   ]
  },
  {
   "cell_type": "markdown",
   "metadata": {},
   "source": [
    "# Notebook 7, Part 3: Social Network Analysis"
   ]
  },
  {
   "cell_type": "markdown",
   "metadata": {},
   "source": [
    "## Set up environment, load data"
   ]
  },
  {
   "cell_type": "code",
   "execution_count": 3,
   "metadata": {},
   "outputs": [
    {
     "data": {
      "text/plain": [
       "'0.25.3'"
      ]
     },
     "execution_count": 3,
     "metadata": {},
     "output_type": "execute_result"
    }
   ],
   "source": [
    "import pandas as pd\n",
    "\n",
    "pd.__version__"
   ]
  },
  {
   "cell_type": "code",
   "execution_count": 4,
   "metadata": {},
   "outputs": [],
   "source": [
    "pd.set_option('display.max_rows', None)  \n",
    "pd.set_option('display.max_columns', None)  \n",
    "pd.set_option('max_colwidth', -1)  \n",
    "pd.set_option('display.width', 1000)"
   ]
  },
  {
   "cell_type": "markdown",
   "metadata": {},
   "source": [
    "Let's load the two batches of data for nodes and edges."
   ]
  },
  {
   "cell_type": "code",
   "execution_count": 5,
   "metadata": {},
   "outputs": [],
   "source": [
    "nodes_df5 = pd.read_pickle('outputs/nodes_df5.pickle') # nodes / cases (MDR-TB only)\n",
    "edges_df6 = pd.read_pickle('outputs/edges_df6.pickle') # edges / links"
   ]
  },
  {
   "cell_type": "code",
   "execution_count": 6,
   "metadata": {},
   "outputs": [
    {
     "name": "stdout",
     "output_type": "stream",
     "text": [
      "<class 'pandas.core.frame.DataFrame'>\n",
      "Int64Index: 13 entries, 0 to 12\n",
      "Data columns (total 9 columns):\n",
      "CaseNo          13 non-null object\n",
      "links           13 non-null int64\n",
      "FAKEMIRUVNTR    13 non-null object\n",
      "FAKEMIRUID      13 non-null int64\n",
      "DRTYPE          13 non-null object\n",
      "LON             13 non-null float64\n",
      "LAT             13 non-null float64\n",
      "COORDS          13 non-null object\n",
      "SYMBOL          13 non-null object\n",
      "dtypes: float64(2), int64(2), object(5)\n",
      "memory usage: 1.0+ KB\n"
     ]
    }
   ],
   "source": [
    "nodes_df5.info()"
   ]
  },
  {
   "cell_type": "code",
   "execution_count": 7,
   "metadata": {},
   "outputs": [
    {
     "data": {
      "text/html": [
       "<div>\n",
       "<style scoped>\n",
       "    .dataframe tbody tr th:only-of-type {\n",
       "        vertical-align: middle;\n",
       "    }\n",
       "\n",
       "    .dataframe tbody tr th {\n",
       "        vertical-align: top;\n",
       "    }\n",
       "\n",
       "    .dataframe thead th {\n",
       "        text-align: right;\n",
       "    }\n",
       "</style>\n",
       "<table border=\"1\" class=\"dataframe\">\n",
       "  <thead>\n",
       "    <tr style=\"text-align: right;\">\n",
       "      <th></th>\n",
       "      <th>CaseNo</th>\n",
       "      <th>links</th>\n",
       "      <th>FAKEMIRUVNTR</th>\n",
       "      <th>FAKEMIRUID</th>\n",
       "      <th>DRTYPE</th>\n",
       "      <th>LON</th>\n",
       "      <th>LAT</th>\n",
       "      <th>COORDS</th>\n",
       "      <th>SYMBOL</th>\n",
       "    </tr>\n",
       "  </thead>\n",
       "  <tbody>\n",
       "    <tr>\n",
       "      <th>0</th>\n",
       "      <td>TH-101579</td>\n",
       "      <td>4</td>\n",
       "      <td>012345678901234567890123</td>\n",
       "      <td>1</td>\n",
       "      <td>MDR-TB</td>\n",
       "      <td>100.828440</td>\n",
       "      <td>14.702731</td>\n",
       "      <td>14.702731,100.82844</td>\n",
       "      <td>Red Triangle</td>\n",
       "    </tr>\n",
       "    <tr>\n",
       "      <th>1</th>\n",
       "      <td>TH-103927</td>\n",
       "      <td>2</td>\n",
       "      <td>012345678901234567890123</td>\n",
       "      <td>1</td>\n",
       "      <td>MDR-TB</td>\n",
       "      <td>100.829917</td>\n",
       "      <td>14.700072</td>\n",
       "      <td>14.700072,100.829917</td>\n",
       "      <td>Red Triangle</td>\n",
       "    </tr>\n",
       "    <tr>\n",
       "      <th>2</th>\n",
       "      <td>TH-102909</td>\n",
       "      <td>1</td>\n",
       "      <td>012345678901234567890123</td>\n",
       "      <td>1</td>\n",
       "      <td>MDR-TB</td>\n",
       "      <td>100.830151</td>\n",
       "      <td>14.698980</td>\n",
       "      <td>14.69898,100.830151</td>\n",
       "      <td>Red Triangle</td>\n",
       "    </tr>\n",
       "    <tr>\n",
       "      <th>3</th>\n",
       "      <td>TH-101783</td>\n",
       "      <td>1</td>\n",
       "      <td>012345678901234567890123</td>\n",
       "      <td>1</td>\n",
       "      <td>MDR-TB</td>\n",
       "      <td>100.828634</td>\n",
       "      <td>14.696434</td>\n",
       "      <td>14.696434,100.828634</td>\n",
       "      <td>Red Triangle</td>\n",
       "    </tr>\n",
       "    <tr>\n",
       "      <th>4</th>\n",
       "      <td>TH-101823</td>\n",
       "      <td>4</td>\n",
       "      <td>012345678901234567890123</td>\n",
       "      <td>1</td>\n",
       "      <td>MDR-TB</td>\n",
       "      <td>100.828917</td>\n",
       "      <td>14.699857</td>\n",
       "      <td>14.699857,100.828917</td>\n",
       "      <td>Red Triangle</td>\n",
       "    </tr>\n",
       "  </tbody>\n",
       "</table>\n",
       "</div>"
      ],
      "text/plain": [
       "      CaseNo  links              FAKEMIRUVNTR  FAKEMIRUID  DRTYPE         LON        LAT                COORDS        SYMBOL\n",
       "0  TH-101579  4      012345678901234567890123  1           MDR-TB  100.828440  14.702731  14.702731,100.82844   Red Triangle\n",
       "1  TH-103927  2      012345678901234567890123  1           MDR-TB  100.829917  14.700072  14.700072,100.829917  Red Triangle\n",
       "2  TH-102909  1      012345678901234567890123  1           MDR-TB  100.830151  14.698980  14.69898,100.830151   Red Triangle\n",
       "3  TH-101783  1      012345678901234567890123  1           MDR-TB  100.828634  14.696434  14.696434,100.828634  Red Triangle\n",
       "4  TH-101823  4      012345678901234567890123  1           MDR-TB  100.828917  14.699857  14.699857,100.828917  Red Triangle"
      ]
     },
     "execution_count": 7,
     "metadata": {},
     "output_type": "execute_result"
    }
   ],
   "source": [
    "nodes_df5.head()"
   ]
  },
  {
   "cell_type": "markdown",
   "metadata": {},
   "source": [
    "## Using `bokeh` and `networkx` for Network Visualization"
   ]
  },
  {
   "cell_type": "markdown",
   "metadata": {},
   "source": [
    "From Wikipedia, on [bokeh](https://en.wikipedia.org/wiki/Bokeh): \n",
    "> In photography, bokeh (/ˈboʊkeɪ/ BOH-kay; Japanese: [boke]) is the aesthetic quality of the blur produced in the out-of-focus parts of an image produced by a lens. Bokeh has been defined as \"the way the lens renders out-of-focus points of light\".\n",
    "\n",
    "From the Python bokeh [website](https://bokeh.pydata.org/en/latest/):\n",
    "> Bokeh is an interactive visualization library that targets modern web browsers for presentation. Its goal is to provide elegant, concise construction of versatile graphics, and to extend this capability with high-performance interactivity over very large or streaming datasets. Bokeh can help anyone who would like to quickly and easily create interactive plots, dashboards, and data applications.\n",
    "\n",
    "On [NetworkX](https://networkx.github.io/):\n",
    "> NetworkX is a Python package for the creation, manipulation, and study of the structure, dynamics, and functions of complex networks."
   ]
  },
  {
   "cell_type": "markdown",
   "metadata": {},
   "source": [
    "## Graphs, nodes and edges"
   ]
  },
  {
   "cell_type": "markdown",
   "metadata": {},
   "source": [
    "A graph is made of nodes and edges. \n",
    "\n",
    "Let's set these up using our loaded dataframes."
   ]
  },
  {
   "cell_type": "code",
   "execution_count": 8,
   "metadata": {
    "scrolled": true
   },
   "outputs": [
    {
     "data": {
      "text/plain": [
       "['TH-101579',\n",
       " 'TH-103927',\n",
       " 'TH-102909',\n",
       " 'TH-101783',\n",
       " 'TH-101823',\n",
       " 'TH-103347',\n",
       " 'TH-103009',\n",
       " 'TH-102637',\n",
       " 'TH-104090',\n",
       " 'TH-104039',\n",
       " 'TH-102445',\n",
       " 'TH-102460',\n",
       " 'TH-103773']"
      ]
     },
     "execution_count": 8,
     "metadata": {},
     "output_type": "execute_result"
    }
   ],
   "source": [
    "nodes = list(nodes_df5['CaseNo'])\n",
    "\n",
    "nodes"
   ]
  },
  {
   "cell_type": "code",
   "execution_count": 9,
   "metadata": {},
   "outputs": [
    {
     "data": {
      "text/plain": [
       "[('TH-101579', 'TH-102637'),\n",
       " ('TH-101579', 'TH-101823'),\n",
       " ('TH-101783', 'TH-101823'),\n",
       " ('TH-101579', 'TH-104039'),\n",
       " ('TH-101579', 'TH-103927'),\n",
       " ('TH-103927', 'TH-104090'),\n",
       " ('TH-102909', 'TH-103347'),\n",
       " ('TH-103009', 'TH-103347'),\n",
       " ('TH-101823', 'TH-102445'),\n",
       " ('TH-101823', 'TH-102460'),\n",
       " ('TH-103347', 'TH-103773')]"
      ]
     },
     "execution_count": 9,
     "metadata": {},
     "output_type": "execute_result"
    }
   ],
   "source": [
    "edges = [ tuple(x) for x in edges_df6[['CaseNo1', 'CaseNo2']].values ]\n",
    "\n",
    "edges"
   ]
  },
  {
   "cell_type": "markdown",
   "metadata": {},
   "source": [
    "Let's set up the attributes for our node interactive pop-ups."
   ]
  },
  {
   "cell_type": "code",
   "execution_count": 10,
   "metadata": {},
   "outputs": [
    {
     "data": {
      "text/plain": [
       "{'TH-101579': {'CaseNo': 'TH-101579', 'DrugResType': 'MDR-TB', 'Links': 4},\n",
       " 'TH-103927': {'CaseNo': 'TH-103927', 'DrugResType': 'MDR-TB', 'Links': 2},\n",
       " 'TH-102909': {'CaseNo': 'TH-102909', 'DrugResType': 'MDR-TB', 'Links': 1},\n",
       " 'TH-101783': {'CaseNo': 'TH-101783', 'DrugResType': 'MDR-TB', 'Links': 1},\n",
       " 'TH-101823': {'CaseNo': 'TH-101823', 'DrugResType': 'MDR-TB', 'Links': 4},\n",
       " 'TH-103347': {'CaseNo': 'TH-103347', 'DrugResType': 'MDR-TB', 'Links': 3},\n",
       " 'TH-103009': {'CaseNo': 'TH-103009', 'DrugResType': 'MDR-TB', 'Links': 1},\n",
       " 'TH-102637': {'CaseNo': 'TH-102637', 'DrugResType': 'MDR-TB', 'Links': 1},\n",
       " 'TH-104090': {'CaseNo': 'TH-104090', 'DrugResType': 'MDR-TB', 'Links': 1},\n",
       " 'TH-104039': {'CaseNo': 'TH-104039', 'DrugResType': 'MDR-TB', 'Links': 1},\n",
       " 'TH-102445': {'CaseNo': 'TH-102445', 'DrugResType': 'MDR-TB', 'Links': 1},\n",
       " 'TH-102460': {'CaseNo': 'TH-102460', 'DrugResType': 'MDR-TB', 'Links': 1},\n",
       " 'TH-103773': {'CaseNo': 'TH-103773', 'DrugResType': 'MDR-TB', 'Links': 1}}"
      ]
     },
     "execution_count": 10,
     "metadata": {},
     "output_type": "execute_result"
    }
   ],
   "source": [
    "attributes = {}\n",
    "for each in nodes_df5.iterrows():\n",
    "    new_dict = {each[1]['CaseNo']: {'CaseNo': each[1]['CaseNo'],\\\n",
    "                              'DrugResType': each[1]['DRTYPE'],\\\n",
    "                              'Links': each[1]['links']}}\n",
    "    attributes.update(new_dict)\n",
    "\n",
    "attributes"
   ]
  },
  {
   "cell_type": "markdown",
   "metadata": {},
   "source": [
    "... and the tooltips where these will appear."
   ]
  },
  {
   "cell_type": "code",
   "execution_count": 11,
   "metadata": {},
   "outputs": [],
   "source": [
    "tooltips = [\n",
    "    (\"Case No:\", \"@CaseNo\"),\n",
    "    (\"Drug Res Type:\", \"@DrugResType\"),\n",
    "    (\"Links:\", \"@Links\")\n",
    "]"
   ]
  },
  {
   "cell_type": "markdown",
   "metadata": {},
   "source": [
    "Let's run our `bokeh` and `networkx` Python code."
   ]
  },
  {
   "cell_type": "code",
   "execution_count": 12,
   "metadata": {},
   "outputs": [],
   "source": [
    "import networkx as nx\n",
    "\n",
    "from bokeh.io import show, output_notebook\n",
    "from bokeh.models import Plot, Range1d, MultiLine, \\\n",
    "    Circle, HoverTool, TapTool, BoxSelectTool, \\\n",
    "    ColumnDataSource, LabelSet\n",
    "from bokeh.models.graphs import from_networkx, \\\n",
    "    NodesAndLinkedEdges, EdgesAndLinkedNodes\n",
    "from bokeh.palettes import Spectral4\n",
    "from bokeh.layouts import row"
   ]
  },
  {
   "cell_type": "code",
   "execution_count": 13,
   "metadata": {},
   "outputs": [
    {
     "data": {
      "text/html": [
       "\n",
       "    <div class=\"bk-root\">\n",
       "        <a href=\"https://bokeh.pydata.org\" target=\"_blank\" class=\"bk-logo bk-logo-small bk-logo-notebook\"></a>\n",
       "        <span id=\"1001\">Loading BokehJS ...</span>\n",
       "    </div>"
      ]
     },
     "metadata": {},
     "output_type": "display_data"
    },
    {
     "data": {
      "application/javascript": [
       "\n",
       "(function(root) {\n",
       "  function now() {\n",
       "    return new Date();\n",
       "  }\n",
       "\n",
       "  var force = true;\n",
       "\n",
       "  if (typeof root._bokeh_onload_callbacks === \"undefined\" || force === true) {\n",
       "    root._bokeh_onload_callbacks = [];\n",
       "    root._bokeh_is_loading = undefined;\n",
       "  }\n",
       "\n",
       "  var JS_MIME_TYPE = 'application/javascript';\n",
       "  var HTML_MIME_TYPE = 'text/html';\n",
       "  var EXEC_MIME_TYPE = 'application/vnd.bokehjs_exec.v0+json';\n",
       "  var CLASS_NAME = 'output_bokeh rendered_html';\n",
       "\n",
       "  /**\n",
       "   * Render data to the DOM node\n",
       "   */\n",
       "  function render(props, node) {\n",
       "    var script = document.createElement(\"script\");\n",
       "    node.appendChild(script);\n",
       "  }\n",
       "\n",
       "  /**\n",
       "   * Handle when an output is cleared or removed\n",
       "   */\n",
       "  function handleClearOutput(event, handle) {\n",
       "    var cell = handle.cell;\n",
       "\n",
       "    var id = cell.output_area._bokeh_element_id;\n",
       "    var server_id = cell.output_area._bokeh_server_id;\n",
       "    // Clean up Bokeh references\n",
       "    if (id != null && id in Bokeh.index) {\n",
       "      Bokeh.index[id].model.document.clear();\n",
       "      delete Bokeh.index[id];\n",
       "    }\n",
       "\n",
       "    if (server_id !== undefined) {\n",
       "      // Clean up Bokeh references\n",
       "      var cmd = \"from bokeh.io.state import curstate; print(curstate().uuid_to_server['\" + server_id + \"'].get_sessions()[0].document.roots[0]._id)\";\n",
       "      cell.notebook.kernel.execute(cmd, {\n",
       "        iopub: {\n",
       "          output: function(msg) {\n",
       "            var id = msg.content.text.trim();\n",
       "            if (id in Bokeh.index) {\n",
       "              Bokeh.index[id].model.document.clear();\n",
       "              delete Bokeh.index[id];\n",
       "            }\n",
       "          }\n",
       "        }\n",
       "      });\n",
       "      // Destroy server and session\n",
       "      var cmd = \"import bokeh.io.notebook as ion; ion.destroy_server('\" + server_id + \"')\";\n",
       "      cell.notebook.kernel.execute(cmd);\n",
       "    }\n",
       "  }\n",
       "\n",
       "  /**\n",
       "   * Handle when a new output is added\n",
       "   */\n",
       "  function handleAddOutput(event, handle) {\n",
       "    var output_area = handle.output_area;\n",
       "    var output = handle.output;\n",
       "\n",
       "    // limit handleAddOutput to display_data with EXEC_MIME_TYPE content only\n",
       "    if ((output.output_type != \"display_data\") || (!output.data.hasOwnProperty(EXEC_MIME_TYPE))) {\n",
       "      return\n",
       "    }\n",
       "\n",
       "    var toinsert = output_area.element.find(\".\" + CLASS_NAME.split(' ')[0]);\n",
       "\n",
       "    if (output.metadata[EXEC_MIME_TYPE][\"id\"] !== undefined) {\n",
       "      toinsert[toinsert.length - 1].firstChild.textContent = output.data[JS_MIME_TYPE];\n",
       "      // store reference to embed id on output_area\n",
       "      output_area._bokeh_element_id = output.metadata[EXEC_MIME_TYPE][\"id\"];\n",
       "    }\n",
       "    if (output.metadata[EXEC_MIME_TYPE][\"server_id\"] !== undefined) {\n",
       "      var bk_div = document.createElement(\"div\");\n",
       "      bk_div.innerHTML = output.data[HTML_MIME_TYPE];\n",
       "      var script_attrs = bk_div.children[0].attributes;\n",
       "      for (var i = 0; i < script_attrs.length; i++) {\n",
       "        toinsert[toinsert.length - 1].firstChild.setAttribute(script_attrs[i].name, script_attrs[i].value);\n",
       "      }\n",
       "      // store reference to server id on output_area\n",
       "      output_area._bokeh_server_id = output.metadata[EXEC_MIME_TYPE][\"server_id\"];\n",
       "    }\n",
       "  }\n",
       "\n",
       "  function register_renderer(events, OutputArea) {\n",
       "\n",
       "    function append_mime(data, metadata, element) {\n",
       "      // create a DOM node to render to\n",
       "      var toinsert = this.create_output_subarea(\n",
       "        metadata,\n",
       "        CLASS_NAME,\n",
       "        EXEC_MIME_TYPE\n",
       "      );\n",
       "      this.keyboard_manager.register_events(toinsert);\n",
       "      // Render to node\n",
       "      var props = {data: data, metadata: metadata[EXEC_MIME_TYPE]};\n",
       "      render(props, toinsert[toinsert.length - 1]);\n",
       "      element.append(toinsert);\n",
       "      return toinsert\n",
       "    }\n",
       "\n",
       "    /* Handle when an output is cleared or removed */\n",
       "    events.on('clear_output.CodeCell', handleClearOutput);\n",
       "    events.on('delete.Cell', handleClearOutput);\n",
       "\n",
       "    /* Handle when a new output is added */\n",
       "    events.on('output_added.OutputArea', handleAddOutput);\n",
       "\n",
       "    /**\n",
       "     * Register the mime type and append_mime function with output_area\n",
       "     */\n",
       "    OutputArea.prototype.register_mime_type(EXEC_MIME_TYPE, append_mime, {\n",
       "      /* Is output safe? */\n",
       "      safe: true,\n",
       "      /* Index of renderer in `output_area.display_order` */\n",
       "      index: 0\n",
       "    });\n",
       "  }\n",
       "\n",
       "  // register the mime type if in Jupyter Notebook environment and previously unregistered\n",
       "  if (root.Jupyter !== undefined) {\n",
       "    var events = require('base/js/events');\n",
       "    var OutputArea = require('notebook/js/outputarea').OutputArea;\n",
       "\n",
       "    if (OutputArea.prototype.mime_types().indexOf(EXEC_MIME_TYPE) == -1) {\n",
       "      register_renderer(events, OutputArea);\n",
       "    }\n",
       "  }\n",
       "\n",
       "  \n",
       "  if (typeof (root._bokeh_timeout) === \"undefined\" || force === true) {\n",
       "    root._bokeh_timeout = Date.now() + 5000;\n",
       "    root._bokeh_failed_load = false;\n",
       "  }\n",
       "\n",
       "  var NB_LOAD_WARNING = {'data': {'text/html':\n",
       "     \"<div style='background-color: #fdd'>\\n\"+\n",
       "     \"<p>\\n\"+\n",
       "     \"BokehJS does not appear to have successfully loaded. If loading BokehJS from CDN, this \\n\"+\n",
       "     \"may be due to a slow or bad network connection. Possible fixes:\\n\"+\n",
       "     \"</p>\\n\"+\n",
       "     \"<ul>\\n\"+\n",
       "     \"<li>re-rerun `output_notebook()` to attempt to load from CDN again, or</li>\\n\"+\n",
       "     \"<li>use INLINE resources instead, as so:</li>\\n\"+\n",
       "     \"</ul>\\n\"+\n",
       "     \"<code>\\n\"+\n",
       "     \"from bokeh.resources import INLINE\\n\"+\n",
       "     \"output_notebook(resources=INLINE)\\n\"+\n",
       "     \"</code>\\n\"+\n",
       "     \"</div>\"}};\n",
       "\n",
       "  function display_loaded() {\n",
       "    var el = document.getElementById(\"1001\");\n",
       "    if (el != null) {\n",
       "      el.textContent = \"BokehJS is loading...\";\n",
       "    }\n",
       "    if (root.Bokeh !== undefined) {\n",
       "      if (el != null) {\n",
       "        el.textContent = \"BokehJS \" + root.Bokeh.version + \" successfully loaded.\";\n",
       "      }\n",
       "    } else if (Date.now() < root._bokeh_timeout) {\n",
       "      setTimeout(display_loaded, 100)\n",
       "    }\n",
       "  }\n",
       "\n",
       "\n",
       "  function run_callbacks() {\n",
       "    try {\n",
       "      root._bokeh_onload_callbacks.forEach(function(callback) {\n",
       "        if (callback != null)\n",
       "          callback();\n",
       "      });\n",
       "    } finally {\n",
       "      delete root._bokeh_onload_callbacks\n",
       "    }\n",
       "    console.debug(\"Bokeh: all callbacks have finished\");\n",
       "  }\n",
       "\n",
       "  function load_libs(css_urls, js_urls, callback) {\n",
       "    if (css_urls == null) css_urls = [];\n",
       "    if (js_urls == null) js_urls = [];\n",
       "\n",
       "    root._bokeh_onload_callbacks.push(callback);\n",
       "    if (root._bokeh_is_loading > 0) {\n",
       "      console.debug(\"Bokeh: BokehJS is being loaded, scheduling callback at\", now());\n",
       "      return null;\n",
       "    }\n",
       "    if (js_urls == null || js_urls.length === 0) {\n",
       "      run_callbacks();\n",
       "      return null;\n",
       "    }\n",
       "    console.debug(\"Bokeh: BokehJS not loaded, scheduling load and callback at\", now());\n",
       "    root._bokeh_is_loading = css_urls.length + js_urls.length;\n",
       "\n",
       "    function on_load() {\n",
       "      root._bokeh_is_loading--;\n",
       "      if (root._bokeh_is_loading === 0) {\n",
       "        console.debug(\"Bokeh: all BokehJS libraries/stylesheets loaded\");\n",
       "        run_callbacks()\n",
       "      }\n",
       "    }\n",
       "\n",
       "    function on_error() {\n",
       "      console.error(\"failed to load \" + url);\n",
       "    }\n",
       "\n",
       "    for (var i = 0; i < css_urls.length; i++) {\n",
       "      var url = css_urls[i];\n",
       "      const element = document.createElement(\"link\");\n",
       "      element.onload = on_load;\n",
       "      element.onerror = on_error;\n",
       "      element.rel = \"stylesheet\";\n",
       "      element.type = \"text/css\";\n",
       "      element.href = url;\n",
       "      console.debug(\"Bokeh: injecting link tag for BokehJS stylesheet: \", url);\n",
       "      document.body.appendChild(element);\n",
       "    }\n",
       "\n",
       "    for (var i = 0; i < js_urls.length; i++) {\n",
       "      var url = js_urls[i];\n",
       "      var element = document.createElement('script');\n",
       "      element.onload = on_load;\n",
       "      element.onerror = on_error;\n",
       "      element.async = false;\n",
       "      element.src = url;\n",
       "      console.debug(\"Bokeh: injecting script tag for BokehJS library: \", url);\n",
       "      document.head.appendChild(element);\n",
       "    }\n",
       "  };var element = document.getElementById(\"1001\");\n",
       "  if (element == null) {\n",
       "    console.error(\"Bokeh: ERROR: autoload.js configured with elementid '1001' but no matching script tag was found. \")\n",
       "    return false;\n",
       "  }\n",
       "\n",
       "  function inject_raw_css(css) {\n",
       "    const element = document.createElement(\"style\");\n",
       "    element.appendChild(document.createTextNode(css));\n",
       "    document.body.appendChild(element);\n",
       "  }\n",
       "\n",
       "  var js_urls = [\"https://cdn.pydata.org/bokeh/release/bokeh-1.3.4.min.js\", \"https://cdn.pydata.org/bokeh/release/bokeh-widgets-1.3.4.min.js\", \"https://cdn.pydata.org/bokeh/release/bokeh-tables-1.3.4.min.js\", \"https://cdn.pydata.org/bokeh/release/bokeh-gl-1.3.4.min.js\"];\n",
       "  var css_urls = [];\n",
       "\n",
       "  var inline_js = [\n",
       "    function(Bokeh) {\n",
       "      Bokeh.set_log_level(\"info\");\n",
       "    },\n",
       "    \n",
       "    function(Bokeh) {\n",
       "      \n",
       "    },\n",
       "    function(Bokeh) {} // ensure no trailing comma for IE\n",
       "  ];\n",
       "\n",
       "  function run_inline_js() {\n",
       "    \n",
       "    if ((root.Bokeh !== undefined) || (force === true)) {\n",
       "      for (var i = 0; i < inline_js.length; i++) {\n",
       "        inline_js[i].call(root, root.Bokeh);\n",
       "      }if (force === true) {\n",
       "        display_loaded();\n",
       "      }} else if (Date.now() < root._bokeh_timeout) {\n",
       "      setTimeout(run_inline_js, 100);\n",
       "    } else if (!root._bokeh_failed_load) {\n",
       "      console.log(\"Bokeh: BokehJS failed to load within specified timeout.\");\n",
       "      root._bokeh_failed_load = true;\n",
       "    } else if (force !== true) {\n",
       "      var cell = $(document.getElementById(\"1001\")).parents('.cell').data().cell;\n",
       "      cell.output_area.append_execute_result(NB_LOAD_WARNING)\n",
       "    }\n",
       "\n",
       "  }\n",
       "\n",
       "  if (root._bokeh_is_loading === 0) {\n",
       "    console.debug(\"Bokeh: BokehJS loaded, going straight to plotting\");\n",
       "    run_inline_js();\n",
       "  } else {\n",
       "    load_libs(css_urls, js_urls, function() {\n",
       "      console.debug(\"Bokeh: BokehJS plotting callback run at\", now());\n",
       "      run_inline_js();\n",
       "    });\n",
       "  }\n",
       "}(window));"
      ],
      "application/vnd.bokehjs_load.v0+json": "\n(function(root) {\n  function now() {\n    return new Date();\n  }\n\n  var force = true;\n\n  if (typeof root._bokeh_onload_callbacks === \"undefined\" || force === true) {\n    root._bokeh_onload_callbacks = [];\n    root._bokeh_is_loading = undefined;\n  }\n\n  \n\n  \n  if (typeof (root._bokeh_timeout) === \"undefined\" || force === true) {\n    root._bokeh_timeout = Date.now() + 5000;\n    root._bokeh_failed_load = false;\n  }\n\n  var NB_LOAD_WARNING = {'data': {'text/html':\n     \"<div style='background-color: #fdd'>\\n\"+\n     \"<p>\\n\"+\n     \"BokehJS does not appear to have successfully loaded. If loading BokehJS from CDN, this \\n\"+\n     \"may be due to a slow or bad network connection. Possible fixes:\\n\"+\n     \"</p>\\n\"+\n     \"<ul>\\n\"+\n     \"<li>re-rerun `output_notebook()` to attempt to load from CDN again, or</li>\\n\"+\n     \"<li>use INLINE resources instead, as so:</li>\\n\"+\n     \"</ul>\\n\"+\n     \"<code>\\n\"+\n     \"from bokeh.resources import INLINE\\n\"+\n     \"output_notebook(resources=INLINE)\\n\"+\n     \"</code>\\n\"+\n     \"</div>\"}};\n\n  function display_loaded() {\n    var el = document.getElementById(\"1001\");\n    if (el != null) {\n      el.textContent = \"BokehJS is loading...\";\n    }\n    if (root.Bokeh !== undefined) {\n      if (el != null) {\n        el.textContent = \"BokehJS \" + root.Bokeh.version + \" successfully loaded.\";\n      }\n    } else if (Date.now() < root._bokeh_timeout) {\n      setTimeout(display_loaded, 100)\n    }\n  }\n\n\n  function run_callbacks() {\n    try {\n      root._bokeh_onload_callbacks.forEach(function(callback) {\n        if (callback != null)\n          callback();\n      });\n    } finally {\n      delete root._bokeh_onload_callbacks\n    }\n    console.debug(\"Bokeh: all callbacks have finished\");\n  }\n\n  function load_libs(css_urls, js_urls, callback) {\n    if (css_urls == null) css_urls = [];\n    if (js_urls == null) js_urls = [];\n\n    root._bokeh_onload_callbacks.push(callback);\n    if (root._bokeh_is_loading > 0) {\n      console.debug(\"Bokeh: BokehJS is being loaded, scheduling callback at\", now());\n      return null;\n    }\n    if (js_urls == null || js_urls.length === 0) {\n      run_callbacks();\n      return null;\n    }\n    console.debug(\"Bokeh: BokehJS not loaded, scheduling load and callback at\", now());\n    root._bokeh_is_loading = css_urls.length + js_urls.length;\n\n    function on_load() {\n      root._bokeh_is_loading--;\n      if (root._bokeh_is_loading === 0) {\n        console.debug(\"Bokeh: all BokehJS libraries/stylesheets loaded\");\n        run_callbacks()\n      }\n    }\n\n    function on_error() {\n      console.error(\"failed to load \" + url);\n    }\n\n    for (var i = 0; i < css_urls.length; i++) {\n      var url = css_urls[i];\n      const element = document.createElement(\"link\");\n      element.onload = on_load;\n      element.onerror = on_error;\n      element.rel = \"stylesheet\";\n      element.type = \"text/css\";\n      element.href = url;\n      console.debug(\"Bokeh: injecting link tag for BokehJS stylesheet: \", url);\n      document.body.appendChild(element);\n    }\n\n    for (var i = 0; i < js_urls.length; i++) {\n      var url = js_urls[i];\n      var element = document.createElement('script');\n      element.onload = on_load;\n      element.onerror = on_error;\n      element.async = false;\n      element.src = url;\n      console.debug(\"Bokeh: injecting script tag for BokehJS library: \", url);\n      document.head.appendChild(element);\n    }\n  };var element = document.getElementById(\"1001\");\n  if (element == null) {\n    console.error(\"Bokeh: ERROR: autoload.js configured with elementid '1001' but no matching script tag was found. \")\n    return false;\n  }\n\n  function inject_raw_css(css) {\n    const element = document.createElement(\"style\");\n    element.appendChild(document.createTextNode(css));\n    document.body.appendChild(element);\n  }\n\n  var js_urls = [\"https://cdn.pydata.org/bokeh/release/bokeh-1.3.4.min.js\", \"https://cdn.pydata.org/bokeh/release/bokeh-widgets-1.3.4.min.js\", \"https://cdn.pydata.org/bokeh/release/bokeh-tables-1.3.4.min.js\", \"https://cdn.pydata.org/bokeh/release/bokeh-gl-1.3.4.min.js\"];\n  var css_urls = [];\n\n  var inline_js = [\n    function(Bokeh) {\n      Bokeh.set_log_level(\"info\");\n    },\n    \n    function(Bokeh) {\n      \n    },\n    function(Bokeh) {} // ensure no trailing comma for IE\n  ];\n\n  function run_inline_js() {\n    \n    if ((root.Bokeh !== undefined) || (force === true)) {\n      for (var i = 0; i < inline_js.length; i++) {\n        inline_js[i].call(root, root.Bokeh);\n      }if (force === true) {\n        display_loaded();\n      }} else if (Date.now() < root._bokeh_timeout) {\n      setTimeout(run_inline_js, 100);\n    } else if (!root._bokeh_failed_load) {\n      console.log(\"Bokeh: BokehJS failed to load within specified timeout.\");\n      root._bokeh_failed_load = true;\n    } else if (force !== true) {\n      var cell = $(document.getElementById(\"1001\")).parents('.cell').data().cell;\n      cell.output_area.append_execute_result(NB_LOAD_WARNING)\n    }\n\n  }\n\n  if (root._bokeh_is_loading === 0) {\n    console.debug(\"Bokeh: BokehJS loaded, going straight to plotting\");\n    run_inline_js();\n  } else {\n    load_libs(css_urls, js_urls, function() {\n      console.debug(\"Bokeh: BokehJS plotting callback run at\", now());\n      run_inline_js();\n    });\n  }\n}(window));"
     },
     "metadata": {},
     "output_type": "display_data"
    }
   ],
   "source": [
    "output_notebook()"
   ]
  },
  {
   "cell_type": "markdown",
   "metadata": {},
   "source": [
    "## Visualizing networks"
   ]
  },
  {
   "cell_type": "markdown",
   "metadata": {},
   "source": [
    "### Setting up `G` as a `networkx` graph and adding nodes and edges"
   ]
  },
  {
   "cell_type": "code",
   "execution_count": 14,
   "metadata": {},
   "outputs": [],
   "source": [
    "G = nx.Graph()\n",
    "G.add_nodes_from(nodes)\n",
    "G.add_edges_from(edges)\n",
    "\n",
    "nx.set_node_attributes(G, attributes)"
   ]
  },
  {
   "cell_type": "markdown",
   "metadata": {},
   "source": [
    "### Visualizing using NetworkX (quick check)"
   ]
  },
  {
   "cell_type": "code",
   "execution_count": 15,
   "metadata": {},
   "outputs": [
    {
     "data": {
      "image/png": "[encoded data removed]",
      "text/plain": [
       "<Figure size 360x360 with 1 Axes>"
      ]
     },
     "metadata": {},
     "output_type": "display_data"
    },
    {
     "data": {
      "image/png": "[encoded data removed]",
      "text/plain": [
       "<Figure size 360x360 with 1 Axes>"
      ]
     },
     "metadata": {},
     "output_type": "display_data"
    }
   ],
   "source": [
    "import matplotlib.pyplot as plt\n",
    "%matplotlib inline\n",
    "\n",
    "pos1 = nx.circular_layout(G)\n",
    "pos2 = nx.spring_layout(G)\n",
    "\n",
    "plt.figure(1, figsize=(5,5))\n",
    "plt.title='Test'\n",
    "nx.draw(G, pos1)\n",
    "\n",
    "plt.figure(2, figsize=(5,5))\n",
    "nx.draw(G,pos2) \n",
    "\n",
    "plt.show()\n"
   ]
  },
  {
   "cell_type": "markdown",
   "metadata": {},
   "source": [
    "### Interactive visualization using Bokeh"
   ]
  },
  {
   "cell_type": "markdown",
   "metadata": {},
   "source": [
    "#### Spring layout"
   ]
  },
  {
   "cell_type": "code",
   "execution_count": 16,
   "metadata": {},
   "outputs": [],
   "source": [
    "# spring layout\n",
    "\n",
    "plot1 = Plot(plot_width=450, plot_height=450,\n",
    "            x_range=Range1d(-1.1,1.1), y_range=Range1d(-1.1,1.1))\n",
    "plot1.title.text = \"MDR-TB Links - Spring Layout\"\n",
    "plot1.add_tools(HoverTool(tooltips=tooltips), TapTool(), BoxSelectTool())\n",
    "\n",
    "graph_renderer1 = from_networkx(G, nx.spring_layout, scale=1, center=(0,0))\n",
    "graph_renderer1.node_renderer.glyph = \\\n",
    "    Circle(size=20, fill_color=Spectral4[0])\n",
    "graph_renderer1.node_renderer.selection_glyph = \\\n",
    "    Circle(size=20, fill_color=Spectral4[2])\n",
    "graph_renderer1.node_renderer.hover_glyph = \\\n",
    "    Circle(size=20, fill_color=Spectral4[1])\n",
    "graph_renderer1.edge_renderer.glyph = \\\n",
    "    MultiLine(line_color=\"#CCCCCC\", line_alpha=0.8, line_width=2)\n",
    "graph_renderer1.edge_renderer.selection_glyph = \\\n",
    "    MultiLine(line_color=Spectral4[2], line_width=5)\n",
    "graph_renderer1.edge_renderer.hover_glyph = \\\n",
    "    MultiLine(line_color=Spectral4[1], line_width=5)\n",
    "graph_renderer1.selection_policy = NodesAndLinkedEdges()\n",
    "graph_renderer1.inspection_policy = NodesAndLinkedEdges()\n",
    "\n",
    "plot1.renderers.append(graph_renderer1)"
   ]
  },
  {
   "cell_type": "markdown",
   "metadata": {},
   "source": [
    "#### Circular layout"
   ]
  },
  {
   "cell_type": "code",
   "execution_count": 17,
   "metadata": {},
   "outputs": [],
   "source": [
    "# circular layout\n",
    "\n",
    "plot2 = Plot(plot_width=450, plot_height=450,\n",
    "            x_range=Range1d(-1.1,1.1), y_range=Range1d(-1.1,1.1))\n",
    "plot2.title.text = \"MDR-TB Links - Circular Layout\"\n",
    "plot2.add_tools(HoverTool(tooltips=tooltips), TapTool(), BoxSelectTool())\n",
    "\n",
    "graph_renderer2 = from_networkx(G, nx.circular_layout, scale=1, center=(0,0))\n",
    "graph_renderer2.node_renderer.glyph = \\\n",
    "    Circle(size=20, fill_color=Spectral4[0])\n",
    "graph_renderer2.node_renderer.selection_glyph = \\\n",
    "    Circle(size=20, fill_color=Spectral4[2])\n",
    "graph_renderer2.node_renderer.hover_glyph = \\\n",
    "    Circle(size=20, fill_color=Spectral4[1])\n",
    "graph_renderer2.edge_renderer.glyph = \\\n",
    "    MultiLine(line_color=\"#CCCCCC\", line_alpha=0.8, line_width=2)\n",
    "graph_renderer2.edge_renderer.selection_glyph = \\\n",
    "    MultiLine(line_color=Spectral4[2], line_width=5)\n",
    "graph_renderer2.edge_renderer.hover_glyph = \\\n",
    "    MultiLine(line_color=Spectral4[1], line_width=5)\n",
    "graph_renderer2.selection_policy = NodesAndLinkedEdges()\n",
    "graph_renderer2.inspection_policy = NodesAndLinkedEdges()\n",
    "\n",
    "plot2.renderers.append(graph_renderer2)"
   ]
  },
  {
   "cell_type": "markdown",
   "metadata": {},
   "source": [
    "#### Showing spring and circular layouts side by  side"
   ]
  },
  {
   "cell_type": "code",
   "execution_count": 18,
   "metadata": {},
   "outputs": [
    {
     "data": {
      "text/html": [
       "\n",
       "\n",
       "\n",
       "\n",
       "\n",
       "\n",
       "  <div class=\"bk-root\" id=\"a31a18a4-b0c6-4326-9eaa-e4cd3bd9fb69\" data-root-id=\"1118\"></div>\n"
      ]
     },
     "metadata": {},
     "output_type": "display_data"
    },
    {
     "data": {
      "application/javascript": [
       "(function(root) {\n",
       "  function embed_document(root) {\n",
       "    \n",
       "  var docs_json = {\"8cecfc0d-f3f2-427b-b061-06547b6f5500\":{\"roots\":{\"references\":[{\"attributes\":{\"children\":[{\"id\":\"1004\",\"type\":\"Plot\"},{\"id\":\"1062\",\"type\":\"Plot\"}]},\"id\":\"1118\",\"type\":\"Row\"},{\"attributes\":{\"plot_height\":450,\"plot_width\":450,\"renderers\":[{\"id\":\"1074\",\"type\":\"GraphRenderer\"}],\"title\":{\"id\":\"1065\",\"type\":\"Title\"},\"toolbar\":{\"id\":\"1069\",\"type\":\"Toolbar\"},\"x_range\":{\"id\":\"1060\",\"type\":\"Range1d\"},\"x_scale\":{\"id\":\"1124\",\"type\":\"LinearScale\"},\"y_range\":{\"id\":\"1061\",\"type\":\"Range1d\"},\"y_scale\":{\"id\":\"1125\",\"type\":\"LinearScale\"}},\"id\":\"1062\",\"type\":\"Plot\"},{\"attributes\":{},\"id\":\"1150\",\"type\":\"Selection\"},{\"attributes\":{\"fill_color\":{\"value\":\"#fdae61\"},\"size\":{\"units\":\"screen\",\"value\":20}},\"id\":\"1031\",\"type\":\"Circle\"},{\"attributes\":{\"fill_color\":{\"value\":\"#2b83ba\"},\"size\":{\"units\":\"screen\",\"value\":20}},\"id\":\"1026\",\"type\":\"Circle\"},{\"attributes\":{\"active_drag\":\"auto\",\"active_inspect\":\"auto\",\"active_multi\":null,\"active_scroll\":\"auto\",\"active_tap\":\"auto\",\"tools\":[{\"id\":\"1008\",\"type\":\"HoverTool\"},{\"id\":\"1009\",\"type\":\"TapTool\"},{\"id\":\"1010\",\"type\":\"BoxSelectTool\"}]},\"id\":\"1011\",\"type\":\"Toolbar\"},{\"attributes\":{\"fill_color\":{\"value\":\"#abdda4\"},\"size\":{\"units\":\"screen\",\"value\":20}},\"id\":\"1094\",\"type\":\"Circle\"},{\"attributes\":{\"line_color\":{\"value\":\"#fdae61\"},\"line_width\":{\"value\":5}},\"id\":\"1046\",\"type\":\"MultiLine\"},{\"attributes\":{\"graph_layout\":{\"TH-101579\":[0.5063745456781109,-0.4275096210690877],\"TH-101783\":[0.034833247386750664,-0.376301129845282],\"TH-101823\":[0.23083187000807975,-0.4437757067589186],\"TH-102445\":[0.17165401697482327,-0.2873469413436552],\"TH-102460\":[0.11006028861139415,-0.6031851758290928],\"TH-102637\":[0.704868393204408,-0.4720396519268992],\"TH-102909\":[-1.0,0.7429727334869232],\"TH-103009\":[-0.7001212458884377,0.8709178312104895],\"TH-103347\":[-0.8550882598363049,0.830863387066612],\"TH-103773\":[-0.9344286118820396,0.9842972712974978],\"TH-103927\":[0.5770345222704997,-0.19962464975907623],\"TH-104039\":[0.5710861982044132,-0.6154100313077139],\"TH-104090\":[0.5828950352683023,-0.0038583152217971537]}},\"id\":\"1025\",\"type\":\"StaticLayoutProvider\"},{\"attributes\":{\"callback\":null,\"overlay\":{\"id\":\"1143\",\"type\":\"BoxAnnotation\"}},\"id\":\"1010\",\"type\":\"BoxSelectTool\"},{\"attributes\":{\"callback\":null},\"id\":\"1067\",\"type\":\"TapTool\"},{\"attributes\":{\"callback\":null},\"id\":\"1009\",\"type\":\"TapTool\"},{\"attributes\":{\"callback\":null,\"data\":{\"CaseNo\":[\"TH-101579\",\"TH-103927\",\"TH-102909\",\"TH-101783\",\"TH-101823\",\"TH-103347\",\"TH-103009\",\"TH-102637\",\"TH-104090\",\"TH-104039\",\"TH-102445\",\"TH-102460\",\"TH-103773\"],\"DrugResType\":[\"MDR-TB\",\"MDR-TB\",\"MDR-TB\",\"MDR-TB\",\"MDR-TB\",\"MDR-TB\",\"MDR-TB\",\"MDR-TB\",\"MDR-TB\",\"MDR-TB\",\"MDR-TB\",\"MDR-TB\",\"MDR-TB\"],\"Links\":[4,2,1,1,4,3,1,1,1,1,1,1,1],\"index\":[\"TH-101579\",\"TH-103927\",\"TH-102909\",\"TH-101783\",\"TH-101823\",\"TH-103347\",\"TH-103009\",\"TH-102637\",\"TH-104090\",\"TH-104039\",\"TH-102445\",\"TH-102460\",\"TH-103773\"]},\"selected\":{\"id\":\"1146\",\"type\":\"Selection\"},\"selection_policy\":{\"id\":\"1145\",\"type\":\"UnionRenderers\"}},\"id\":\"1018\",\"type\":\"ColumnDataSource\"},{\"attributes\":{\"callback\":null,\"data\":{\"CaseNo\":[\"TH-101579\",\"TH-103927\",\"TH-102909\",\"TH-101783\",\"TH-101823\",\"TH-103347\",\"TH-103009\",\"TH-102637\",\"TH-104090\",\"TH-104039\",\"TH-102445\",\"TH-102460\",\"TH-103773\"],\"DrugResType\":[\"MDR-TB\",\"MDR-TB\",\"MDR-TB\",\"MDR-TB\",\"MDR-TB\",\"MDR-TB\",\"MDR-TB\",\"MDR-TB\",\"MDR-TB\",\"MDR-TB\",\"MDR-TB\",\"MDR-TB\",\"MDR-TB\"],\"Links\":[4,2,1,1,4,3,1,1,1,1,1,1,1],\"index\":[\"TH-101579\",\"TH-103927\",\"TH-102909\",\"TH-101783\",\"TH-101823\",\"TH-103347\",\"TH-103009\",\"TH-102637\",\"TH-104090\",\"TH-104039\",\"TH-102445\",\"TH-102460\",\"TH-103773\"]},\"selected\":{\"id\":\"1150\",\"type\":\"Selection\"},\"selection_policy\":{\"id\":\"1149\",\"type\":\"UnionRenderers\"}},\"id\":\"1076\",\"type\":\"ColumnDataSource\"},{\"attributes\":{\"fill_color\":{\"value\":\"#2b83ba\"},\"size\":{\"units\":\"screen\",\"value\":20}},\"id\":\"1084\",\"type\":\"Circle\"},{\"attributes\":{},\"id\":\"1121\",\"type\":\"LinearScale\"},{\"attributes\":{\"edge_renderer\":{\"id\":\"1081\",\"type\":\"GlyphRenderer\"},\"inspection_policy\":{\"id\":\"1116\",\"type\":\"NodesAndLinkedEdges\"},\"layout_provider\":{\"id\":\"1083\",\"type\":\"StaticLayoutProvider\"},\"node_renderer\":{\"id\":\"1077\",\"type\":\"GlyphRenderer\"},\"selection_policy\":{\"id\":\"1114\",\"type\":\"NodesAndLinkedEdges\"}},\"id\":\"1074\",\"type\":\"GraphRenderer\"},{\"attributes\":{\"callback\":null,\"overlay\":{\"id\":\"1144\",\"type\":\"BoxAnnotation\"}},\"id\":\"1068\",\"type\":\"BoxSelectTool\"},{\"attributes\":{\"active_drag\":\"auto\",\"active_inspect\":\"auto\",\"active_multi\":null,\"active_scroll\":\"auto\",\"active_tap\":\"auto\",\"tools\":[{\"id\":\"1066\",\"type\":\"HoverTool\"},{\"id\":\"1067\",\"type\":\"TapTool\"},{\"id\":\"1068\",\"type\":\"BoxSelectTool\"}]},\"id\":\"1069\",\"type\":\"Toolbar\"},{\"attributes\":{\"line_color\":{\"value\":\"#abdda4\"},\"line_width\":{\"value\":5}},\"id\":\"1109\",\"type\":\"MultiLine\"},{\"attributes\":{\"source\":{\"id\":\"1076\",\"type\":\"ColumnDataSource\"}},\"id\":\"1078\",\"type\":\"CDSView\"},{\"attributes\":{\"line_alpha\":{\"value\":0.8},\"line_color\":{\"value\":\"#CCCCCC\"},\"line_width\":{\"value\":2}},\"id\":\"1099\",\"type\":\"MultiLine\"},{\"attributes\":{},\"id\":\"1151\",\"type\":\"UnionRenderers\"},{\"attributes\":{},\"id\":\"1152\",\"type\":\"Selection\"},{\"attributes\":{\"line_alpha\":{\"value\":0.8},\"line_color\":{\"value\":\"#CCCCCC\"},\"line_width\":{\"value\":2}},\"id\":\"1041\",\"type\":\"MultiLine\"},{\"attributes\":{},\"id\":\"1145\",\"type\":\"UnionRenderers\"},{\"attributes\":{\"callback\":null,\"data\":{\"end\":[\"TH-102637\",\"TH-101823\",\"TH-104039\",\"TH-103927\",\"TH-104090\",\"TH-103347\",\"TH-101823\",\"TH-102445\",\"TH-102460\",\"TH-103009\",\"TH-103773\"],\"start\":[\"TH-101579\",\"TH-101579\",\"TH-101579\",\"TH-101579\",\"TH-103927\",\"TH-102909\",\"TH-101783\",\"TH-101823\",\"TH-101823\",\"TH-103347\",\"TH-103347\"]},\"selected\":{\"id\":\"1148\",\"type\":\"Selection\"},\"selection_policy\":{\"id\":\"1147\",\"type\":\"UnionRenderers\"}},\"id\":\"1022\",\"type\":\"ColumnDataSource\"},{\"attributes\":{\"source\":{\"id\":\"1080\",\"type\":\"ColumnDataSource\"}},\"id\":\"1082\",\"type\":\"CDSView\"},{\"attributes\":{\"data_source\":{\"id\":\"1080\",\"type\":\"ColumnDataSource\"},\"glyph\":{\"id\":\"1099\",\"type\":\"MultiLine\"},\"hover_glyph\":{\"id\":\"1109\",\"type\":\"MultiLine\"},\"muted_glyph\":null,\"selection_glyph\":{\"id\":\"1104\",\"type\":\"MultiLine\"},\"view\":{\"id\":\"1082\",\"type\":\"CDSView\"}},\"id\":\"1081\",\"type\":\"GlyphRenderer\"},{\"attributes\":{},\"id\":\"1056\",\"type\":\"NodesAndLinkedEdges\"},{\"attributes\":{\"source\":{\"id\":\"1018\",\"type\":\"ColumnDataSource\"}},\"id\":\"1020\",\"type\":\"CDSView\"},{\"attributes\":{\"callback\":null,\"tooltips\":[[\"Case No:\",\"@CaseNo\"],[\"Drug Res Type:\",\"@DrugResType\"],[\"Links:\",\"@Links\"]]},\"id\":\"1008\",\"type\":\"HoverTool\"},{\"attributes\":{\"callback\":null,\"data\":{\"end\":[\"TH-102637\",\"TH-101823\",\"TH-104039\",\"TH-103927\",\"TH-104090\",\"TH-103347\",\"TH-101823\",\"TH-102445\",\"TH-102460\",\"TH-103009\",\"TH-103773\"],\"start\":[\"TH-101579\",\"TH-101579\",\"TH-101579\",\"TH-101579\",\"TH-103927\",\"TH-102909\",\"TH-101783\",\"TH-101823\",\"TH-101823\",\"TH-103347\",\"TH-103347\"]},\"selected\":{\"id\":\"1152\",\"type\":\"Selection\"},\"selection_policy\":{\"id\":\"1151\",\"type\":\"UnionRenderers\"}},\"id\":\"1080\",\"type\":\"ColumnDataSource\"},{\"attributes\":{},\"id\":\"1146\",\"type\":\"Selection\"},{\"attributes\":{\"plot_height\":450,\"plot_width\":450,\"renderers\":[{\"id\":\"1016\",\"type\":\"GraphRenderer\"}],\"title\":{\"id\":\"1007\",\"type\":\"Title\"},\"toolbar\":{\"id\":\"1011\",\"type\":\"Toolbar\"},\"x_range\":{\"id\":\"1002\",\"type\":\"Range1d\"},\"x_scale\":{\"id\":\"1120\",\"type\":\"LinearScale\"},\"y_range\":{\"id\":\"1003\",\"type\":\"Range1d\"},\"y_scale\":{\"id\":\"1121\",\"type\":\"LinearScale\"}},\"id\":\"1004\",\"type\":\"Plot\"},{\"attributes\":{\"bottom_units\":\"screen\",\"fill_alpha\":{\"value\":0.5},\"fill_color\":{\"value\":\"lightgrey\"},\"left_units\":\"screen\",\"level\":\"overlay\",\"line_alpha\":{\"value\":1.0},\"line_color\":{\"value\":\"black\"},\"line_dash\":[4,4],\"line_width\":{\"value\":2},\"render_mode\":\"css\",\"right_units\":\"screen\",\"top_units\":\"screen\"},\"id\":\"1143\",\"type\":\"BoxAnnotation\"},{\"attributes\":{},\"id\":\"1116\",\"type\":\"NodesAndLinkedEdges\"},{\"attributes\":{\"bottom_units\":\"screen\",\"fill_alpha\":{\"value\":0.5},\"fill_color\":{\"value\":\"lightgrey\"},\"left_units\":\"screen\",\"level\":\"overlay\",\"line_alpha\":{\"value\":1.0},\"line_color\":{\"value\":\"black\"},\"line_dash\":[4,4],\"line_width\":{\"value\":2},\"render_mode\":\"css\",\"right_units\":\"screen\",\"top_units\":\"screen\"},\"id\":\"1144\",\"type\":\"BoxAnnotation\"},{\"attributes\":{\"fill_color\":{\"value\":\"#abdda4\"},\"size\":{\"units\":\"screen\",\"value\":20}},\"id\":\"1036\",\"type\":\"Circle\"},{\"attributes\":{\"line_color\":{\"value\":\"#fdae61\"},\"line_width\":{\"value\":5}},\"id\":\"1104\",\"type\":\"MultiLine\"},{\"attributes\":{\"callback\":null,\"end\":1.1,\"start\":-1.1},\"id\":\"1003\",\"type\":\"Range1d\"},{\"attributes\":{},\"id\":\"1149\",\"type\":\"UnionRenderers\"},{\"attributes\":{},\"id\":\"1058\",\"type\":\"NodesAndLinkedEdges\"},{\"attributes\":{},\"id\":\"1120\",\"type\":\"LinearScale\"},{\"attributes\":{\"data_source\":{\"id\":\"1076\",\"type\":\"ColumnDataSource\"},\"glyph\":{\"id\":\"1084\",\"type\":\"Circle\"},\"hover_glyph\":{\"id\":\"1094\",\"type\":\"Circle\"},\"muted_glyph\":null,\"selection_glyph\":{\"id\":\"1089\",\"type\":\"Circle\"},\"view\":{\"id\":\"1078\",\"type\":\"CDSView\"}},\"id\":\"1077\",\"type\":\"GlyphRenderer\"},{\"attributes\":{\"source\":{\"id\":\"1022\",\"type\":\"ColumnDataSource\"}},\"id\":\"1024\",\"type\":\"CDSView\"},{\"attributes\":{\"edge_renderer\":{\"id\":\"1023\",\"type\":\"GlyphRenderer\"},\"inspection_policy\":{\"id\":\"1058\",\"type\":\"NodesAndLinkedEdges\"},\"layout_provider\":{\"id\":\"1025\",\"type\":\"StaticLayoutProvider\"},\"node_renderer\":{\"id\":\"1019\",\"type\":\"GlyphRenderer\"},\"selection_policy\":{\"id\":\"1056\",\"type\":\"NodesAndLinkedEdges\"}},\"id\":\"1016\",\"type\":\"GraphRenderer\"},{\"attributes\":{\"text\":\"MDR-TB Links - Circular Layout\"},\"id\":\"1065\",\"type\":\"Title\"},{\"attributes\":{},\"id\":\"1114\",\"type\":\"NodesAndLinkedEdges\"},{\"attributes\":{\"data_source\":{\"id\":\"1018\",\"type\":\"ColumnDataSource\"},\"glyph\":{\"id\":\"1026\",\"type\":\"Circle\"},\"hover_glyph\":{\"id\":\"1036\",\"type\":\"Circle\"},\"muted_glyph\":null,\"selection_glyph\":{\"id\":\"1031\",\"type\":\"Circle\"},\"view\":{\"id\":\"1020\",\"type\":\"CDSView\"}},\"id\":\"1019\",\"type\":\"GlyphRenderer\"},{\"attributes\":{\"text\":\"MDR-TB Links - Spring Layout\"},\"id\":\"1007\",\"type\":\"Title\"},{\"attributes\":{\"graph_layout\":{\"TH-101579\":[1.0,-2.292486274449103e-09],\"TH-101783\":[0.12053670918382015,0.992708832226107],\"TH-101823\":[-0.3546048030136695,0.9350162464375796],\"TH-102445\":[0.12053676878846328,-0.9927088368110795],\"TH-102460\":[0.5680645823094135,-0.8229839598311656],\"TH-102637\":[-0.9709417873820401,-0.2393156098132241],\"TH-102909\":[0.5680647611233429,0.8229838360369068],\"TH-103009\":[-0.9709417873820401,0.23931566483289468],\"TH-103347\":[-0.7485107298490434,0.6631226334263005],\"TH-103773\":[0.8854560287515193,-0.46472318911396937],\"TH-103927\":[0.8854560287515193,0.4647231547266753],\"TH-104039\":[-0.35460498182759886,-0.9350161914179089],\"TH-104090\":[-0.7485107894536865,-0.6631225784066298]}},\"id\":\"1083\",\"type\":\"StaticLayoutProvider\"},{\"attributes\":{\"callback\":null,\"end\":1.1,\"start\":-1.1},\"id\":\"1060\",\"type\":\"Range1d\"},{\"attributes\":{\"callback\":null,\"end\":1.1,\"start\":-1.1},\"id\":\"1002\",\"type\":\"Range1d\"},{\"attributes\":{\"data_source\":{\"id\":\"1022\",\"type\":\"ColumnDataSource\"},\"glyph\":{\"id\":\"1041\",\"type\":\"MultiLine\"},\"hover_glyph\":{\"id\":\"1051\",\"type\":\"MultiLine\"},\"muted_glyph\":null,\"selection_glyph\":{\"id\":\"1046\",\"type\":\"MultiLine\"},\"view\":{\"id\":\"1024\",\"type\":\"CDSView\"}},\"id\":\"1023\",\"type\":\"GlyphRenderer\"},{\"attributes\":{\"line_color\":{\"value\":\"#abdda4\"},\"line_width\":{\"value\":5}},\"id\":\"1051\",\"type\":\"MultiLine\"},{\"attributes\":{},\"id\":\"1125\",\"type\":\"LinearScale\"},{\"attributes\":{\"fill_color\":{\"value\":\"#fdae61\"},\"size\":{\"units\":\"screen\",\"value\":20}},\"id\":\"1089\",\"type\":\"Circle\"},{\"attributes\":{},\"id\":\"1147\",\"type\":\"UnionRenderers\"},{\"attributes\":{\"callback\":null,\"tooltips\":[[\"Case No:\",\"@CaseNo\"],[\"Drug Res Type:\",\"@DrugResType\"],[\"Links:\",\"@Links\"]]},\"id\":\"1066\",\"type\":\"HoverTool\"},{\"attributes\":{},\"id\":\"1148\",\"type\":\"Selection\"},{\"attributes\":{\"callback\":null,\"end\":1.1,\"start\":-1.1},\"id\":\"1061\",\"type\":\"Range1d\"},{\"attributes\":{},\"id\":\"1124\",\"type\":\"LinearScale\"}],\"root_ids\":[\"1118\"]},\"title\":\"Bokeh Application\",\"version\":\"1.3.4\"}};\n",
       "  var render_items = [{\"docid\":\"8cecfc0d-f3f2-427b-b061-06547b6f5500\",\"roots\":{\"1118\":\"a31a18a4-b0c6-4326-9eaa-e4cd3bd9fb69\"}}];\n",
       "  root.Bokeh.embed.embed_items_notebook(docs_json, render_items);\n",
       "\n",
       "  }\n",
       "  if (root.Bokeh !== undefined) {\n",
       "    embed_document(root);\n",
       "  } else {\n",
       "    var attempts = 0;\n",
       "    var timer = setInterval(function(root) {\n",
       "      if (root.Bokeh !== undefined) {\n",
       "        embed_document(root);\n",
       "        clearInterval(timer);\n",
       "      }\n",
       "      attempts++;\n",
       "      if (attempts > 100) {\n",
       "        console.log(\"Bokeh: ERROR: Unable to run BokehJS code because BokehJS library is missing\");\n",
       "        clearInterval(timer);\n",
       "      }\n",
       "    }, 10, root)\n",
       "  }\n",
       "})(window);"
      ],
      "application/vnd.bokehjs_exec.v0+json": ""
     },
     "metadata": {
      "application/vnd.bokehjs_exec.v0+json": {
       "id": "1118"
      }
     },
     "output_type": "display_data"
    }
   ],
   "source": [
    "show(row(plot1, plot2))"
   ]
  },
  {
   "cell_type": "markdown",
   "metadata": {},
   "source": [
    "### Underlying data"
   ]
  },
  {
   "cell_type": "code",
   "execution_count": 19,
   "metadata": {},
   "outputs": [
    {
     "data": {
      "text/plain": [
       "{'DrugResType': ['MDR-TB',\n",
       "  'MDR-TB',\n",
       "  'MDR-TB',\n",
       "  'MDR-TB',\n",
       "  'MDR-TB',\n",
       "  'MDR-TB',\n",
       "  'MDR-TB',\n",
       "  'MDR-TB',\n",
       "  'MDR-TB',\n",
       "  'MDR-TB',\n",
       "  'MDR-TB',\n",
       "  'MDR-TB',\n",
       "  'MDR-TB'],\n",
       " 'Links': [4, 2, 1, 1, 4, 3, 1, 1, 1, 1, 1, 1, 1],\n",
       " 'CaseNo': ['TH-101579',\n",
       "  'TH-103927',\n",
       "  'TH-102909',\n",
       "  'TH-101783',\n",
       "  'TH-101823',\n",
       "  'TH-103347',\n",
       "  'TH-103009',\n",
       "  'TH-102637',\n",
       "  'TH-104090',\n",
       "  'TH-104039',\n",
       "  'TH-102445',\n",
       "  'TH-102460',\n",
       "  'TH-103773'],\n",
       " 'index': ['TH-101579',\n",
       "  'TH-103927',\n",
       "  'TH-102909',\n",
       "  'TH-101783',\n",
       "  'TH-101823',\n",
       "  'TH-103347',\n",
       "  'TH-103009',\n",
       "  'TH-102637',\n",
       "  'TH-104090',\n",
       "  'TH-104039',\n",
       "  'TH-102445',\n",
       "  'TH-102460',\n",
       "  'TH-103773']}"
      ]
     },
     "execution_count": 19,
     "metadata": {},
     "output_type": "execute_result"
    }
   ],
   "source": [
    "graph_renderer1.node_renderer.data_source.data"
   ]
  },
  {
   "cell_type": "markdown",
   "metadata": {},
   "source": [
    "### Graph information"
   ]
  },
  {
   "cell_type": "code",
   "execution_count": 20,
   "metadata": {},
   "outputs": [
    {
     "data": {
      "text/plain": [
       "13"
      ]
     },
     "execution_count": 20,
     "metadata": {},
     "output_type": "execute_result"
    }
   ],
   "source": [
    "G.number_of_nodes()"
   ]
  },
  {
   "cell_type": "code",
   "execution_count": 21,
   "metadata": {},
   "outputs": [
    {
     "data": {
      "text/plain": [
       "11"
      ]
     },
     "execution_count": 21,
     "metadata": {},
     "output_type": "execute_result"
    }
   ],
   "source": [
    "G.number_of_edges()"
   ]
  },
  {
   "cell_type": "markdown",
   "metadata": {},
   "source": [
    "## Case Study Questions"
   ]
  },
  {
   "cell_type": "markdown",
   "metadata": {},
   "source": [
    "1. What information can you glean from the two network displays?"
   ]
  },
  {
   "cell_type": "markdown",
   "metadata": {},
   "source": [
    "Type answer here."
   ]
  },
  {
   "cell_type": "markdown",
   "metadata": {},
   "source": [
    "## References"
   ]
  },
  {
   "cell_type": "markdown",
   "metadata": {},
   "source": [
    "1. Kapoor A. Social Network Analysis in Python. URL: https://www.datacamp.com/community/tutorials/social-network-analysis-python (last accessed 7/21/2019)"
   ]
  },
  {
   "cell_type": "code",
   "execution_count": null,
   "metadata": {},
   "outputs": [],
   "source": []
  }
 ],
 "metadata": {
  "kernelspec": {
   "display_name": "Python 3",
   "language": "python",
   "name": "python3"
  },
  "language_info": {
   "codemirror_mode": {
    "name": "ipython",
    "version": 3
   },
   "file_extension": ".py",
   "mimetype": "text/x-python",
   "name": "python",
   "nbconvert_exporter": "python",
   "pygments_lexer": "ipython3",
   "version": "3.7.3"
  }
 },
 "nbformat": 4,
 "nbformat_minor": 2
}
