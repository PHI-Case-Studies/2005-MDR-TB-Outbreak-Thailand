{
 "cells": [
  {
   "cell_type": "code",
   "execution_count": 18,
   "metadata": {},
   "outputs": [],
   "source": [
    "%run ./resources/library.py"
   ]
  },
  {
   "cell_type": "code",
   "execution_count": 2,
   "metadata": {},
   "outputs": [
    {
     "data": {
      "text/html": [
       "<style> \n",
       "div.text_cell_render { /* Customize text cells */ \n",
       "    font-family: 'Arial'; \n",
       "    font-size:20px;\n",
       "    line-height: 1.5em;\n",
       "    padding-left:3em; \n",
       "    padding-right:3em; \n",
       "}\n",
       ".CodeMirror {\n",
       "    font-family:  'Source Code Pro', monospace;\n",
       "    font-size: 18px;\n",
       "}\n",
       "\n",
       "/* Cell output */\n",
       "\n",
       ".rendered_html pre, .rendered_html code {\n",
       "    color: inherit !important;\n",
       "    background-color: inherit !important;\n",
       "}\n",
       "div.output_area pre {\n",
       "    line-height: 1.2em;\n",
       "    color: #93a1a1 !important;\n",
       "    font-family: 'Source Code Pro', monospace;\n",
       "    font-size: 16px;\n",
       "}\n",
       ".rendered_html table, .rendered_html td, .rendered_html th {\n",
       "    border: 1px solid #586e75 !important;\n",
       "    font-family: 'Arial';\n",
       "    font-size: 16px;\n",
       "}\n",
       "</style>"
      ],
      "text/plain": [
       "<IPython.core.display.HTML object>"
      ]
     },
     "execution_count": 2,
     "metadata": {},
     "output_type": "execute_result"
    }
   ],
   "source": [
    "style_notebook()"
   ]
  },
  {
   "cell_type": "markdown",
   "metadata": {},
   "source": [
    "Digital Case Study: Multidrug-Resistant Tuberculosis (MDR-TB) Outbreak - Revisiting the 2005 Outbreak Investigation in Thailand by John Oeltmann"
   ]
  },
  {
   "cell_type": "markdown",
   "metadata": {},
   "source": [
    "# Notebook 7, Part 3: Social Network Analysis"
   ]
  },
  {
   "cell_type": "markdown",
   "metadata": {},
   "source": [
    "## Set up environment, load data"
   ]
  },
  {
   "cell_type": "code",
   "execution_count": 3,
   "metadata": {},
   "outputs": [
    {
     "data": {
      "text/plain": [
       "'0.24.2'"
      ]
     },
     "execution_count": 3,
     "metadata": {},
     "output_type": "execute_result"
    }
   ],
   "source": [
    "import pandas as pd\n",
    "\n",
    "pd.__version__"
   ]
  },
  {
   "cell_type": "code",
   "execution_count": 4,
   "metadata": {},
   "outputs": [],
   "source": [
    "pd.set_option('display.max_rows', None)  \n",
    "pd.set_option('display.max_columns', None)  \n",
    "pd.set_option('max_colwidth', -1)  \n",
    "pd.set_option('display.width', 1000)"
   ]
  },
  {
   "cell_type": "markdown",
   "metadata": {},
   "source": [
    "Let's load the two batches of data for nodes and edges."
   ]
  },
  {
   "cell_type": "code",
   "execution_count": 5,
   "metadata": {},
   "outputs": [],
   "source": [
    "nodes_df5 = pd.read_pickle('outputs/nodes_df5.pickle') # nodes / cases (MDR-TB only)\n",
    "edges_df6 = pd.read_pickle('outputs/edges_df6.pickle') # edges / links"
   ]
  },
  {
   "cell_type": "code",
   "execution_count": 6,
   "metadata": {},
   "outputs": [
    {
     "name": "stdout",
     "output_type": "stream",
     "text": [
      "<class 'pandas.core.frame.DataFrame'>\n",
      "Int64Index: 13 entries, 0 to 12\n",
      "Data columns (total 9 columns):\n",
      "CaseNo          13 non-null object\n",
      "links           13 non-null int64\n",
      "FAKEMIRUVNTR    13 non-null object\n",
      "FAKEMIRUID      13 non-null int64\n",
      "DRTYPE          13 non-null object\n",
      "LON             13 non-null float64\n",
      "LAT             13 non-null float64\n",
      "COORDS          13 non-null object\n",
      "SYMBOL          13 non-null object\n",
      "dtypes: float64(2), int64(2), object(5)\n",
      "memory usage: 1.0+ KB\n"
     ]
    }
   ],
   "source": [
    "nodes_df5.info()"
   ]
  },
  {
   "cell_type": "code",
   "execution_count": 57,
   "metadata": {},
   "outputs": [
    {
     "data": {
      "text/html": [
       "<div>\n",
       "<style scoped>\n",
       "    .dataframe tbody tr th:only-of-type {\n",
       "        vertical-align: middle;\n",
       "    }\n",
       "\n",
       "    .dataframe tbody tr th {\n",
       "        vertical-align: top;\n",
       "    }\n",
       "\n",
       "    .dataframe thead th {\n",
       "        text-align: right;\n",
       "    }\n",
       "</style>\n",
       "<table border=\"1\" class=\"dataframe\">\n",
       "  <thead>\n",
       "    <tr style=\"text-align: right;\">\n",
       "      <th></th>\n",
       "      <th>CaseNo</th>\n",
       "      <th>links</th>\n",
       "      <th>FAKEMIRUVNTR</th>\n",
       "      <th>FAKEMIRUID</th>\n",
       "      <th>DRTYPE</th>\n",
       "      <th>LON</th>\n",
       "      <th>LAT</th>\n",
       "      <th>COORDS</th>\n",
       "      <th>SYMBOL</th>\n",
       "    </tr>\n",
       "  </thead>\n",
       "  <tbody>\n",
       "    <tr>\n",
       "      <th>0</th>\n",
       "      <td>TH-101579</td>\n",
       "      <td>4</td>\n",
       "      <td>012345678901234567890123</td>\n",
       "      <td>1</td>\n",
       "      <td>MDR-TB</td>\n",
       "      <td>100.828440</td>\n",
       "      <td>14.702731</td>\n",
       "      <td>14.702731,100.82844</td>\n",
       "      <td>Red Triangle</td>\n",
       "    </tr>\n",
       "    <tr>\n",
       "      <th>1</th>\n",
       "      <td>TH-103347</td>\n",
       "      <td>3</td>\n",
       "      <td>012345678901234567890123</td>\n",
       "      <td>1</td>\n",
       "      <td>MDR-TB</td>\n",
       "      <td>100.830247</td>\n",
       "      <td>14.697342</td>\n",
       "      <td>14.697342,100.830247</td>\n",
       "      <td>Red Triangle</td>\n",
       "    </tr>\n",
       "    <tr>\n",
       "      <th>2</th>\n",
       "      <td>TH-103927</td>\n",
       "      <td>2</td>\n",
       "      <td>012345678901234567890123</td>\n",
       "      <td>1</td>\n",
       "      <td>MDR-TB</td>\n",
       "      <td>100.829917</td>\n",
       "      <td>14.700072</td>\n",
       "      <td>14.700072,100.829917</td>\n",
       "      <td>Red Triangle</td>\n",
       "    </tr>\n",
       "    <tr>\n",
       "      <th>3</th>\n",
       "      <td>TH-103009</td>\n",
       "      <td>1</td>\n",
       "      <td>012345678901234567890123</td>\n",
       "      <td>1</td>\n",
       "      <td>MDR-TB</td>\n",
       "      <td>100.831095</td>\n",
       "      <td>14.699261</td>\n",
       "      <td>14.699261,100.831095</td>\n",
       "      <td>Red Triangle</td>\n",
       "    </tr>\n",
       "    <tr>\n",
       "      <th>4</th>\n",
       "      <td>TH-101783</td>\n",
       "      <td>1</td>\n",
       "      <td>012345678901234567890123</td>\n",
       "      <td>1</td>\n",
       "      <td>MDR-TB</td>\n",
       "      <td>100.828634</td>\n",
       "      <td>14.696434</td>\n",
       "      <td>14.696434,100.828634</td>\n",
       "      <td>Red Triangle</td>\n",
       "    </tr>\n",
       "  </tbody>\n",
       "</table>\n",
       "</div>"
      ],
      "text/plain": [
       "      CaseNo  links              FAKEMIRUVNTR  FAKEMIRUID  DRTYPE         LON        LAT                COORDS        SYMBOL\n",
       "0  TH-101579  4      012345678901234567890123  1           MDR-TB  100.828440  14.702731  14.702731,100.82844   Red Triangle\n",
       "1  TH-103347  3      012345678901234567890123  1           MDR-TB  100.830247  14.697342  14.697342,100.830247  Red Triangle\n",
       "2  TH-103927  2      012345678901234567890123  1           MDR-TB  100.829917  14.700072  14.700072,100.829917  Red Triangle\n",
       "3  TH-103009  1      012345678901234567890123  1           MDR-TB  100.831095  14.699261  14.699261,100.831095  Red Triangle\n",
       "4  TH-101783  1      012345678901234567890123  1           MDR-TB  100.828634  14.696434  14.696434,100.828634  Red Triangle"
      ]
     },
     "execution_count": 57,
     "metadata": {},
     "output_type": "execute_result"
    }
   ],
   "source": [
    "nodes_df5.head()"
   ]
  },
  {
   "cell_type": "markdown",
   "metadata": {},
   "source": [
    "## Using `bokeh` and `networkx` for Network Visualization"
   ]
  },
  {
   "cell_type": "markdown",
   "metadata": {},
   "source": [
    "A graph is made of nodes and edges. Let's set these up using our loaded dataframes."
   ]
  },
  {
   "cell_type": "code",
   "execution_count": 66,
   "metadata": {
    "scrolled": true
   },
   "outputs": [
    {
     "data": {
      "text/plain": [
       "['TH-101579',\n",
       " 'TH-103347',\n",
       " 'TH-103927',\n",
       " 'TH-103009',\n",
       " 'TH-101783',\n",
       " 'TH-102909',\n",
       " 'TH-101823',\n",
       " 'TH-103773',\n",
       " 'TH-104039',\n",
       " 'TH-104090',\n",
       " 'TH-102637',\n",
       " 'TH-102445',\n",
       " 'TH-102460']"
      ]
     },
     "execution_count": 66,
     "metadata": {},
     "output_type": "execute_result"
    }
   ],
   "source": [
    "nodes = list(nodes_df5['CaseNo'])\n",
    "\n",
    "nodes"
   ]
  },
  {
   "cell_type": "code",
   "execution_count": 40,
   "metadata": {},
   "outputs": [
    {
     "data": {
      "text/plain": [
       "[('TH-101579', 'TH-101823'),\n",
       " ('TH-101783', 'TH-101823'),\n",
       " ('TH-101579', 'TH-104039'),\n",
       " ('TH-101579', 'TH-103927'),\n",
       " ('TH-101579', 'TH-102637'),\n",
       " ('TH-103347', 'TH-103773'),\n",
       " ('TH-103927', 'TH-104090'),\n",
       " ('TH-103009', 'TH-103347'),\n",
       " ('TH-102909', 'TH-103347'),\n",
       " ('TH-101823', 'TH-102445'),\n",
       " ('TH-101823', 'TH-102460')]"
      ]
     },
     "execution_count": 40,
     "metadata": {},
     "output_type": "execute_result"
    }
   ],
   "source": [
    "edges = [ tuple(x) for x in edges_df6[['CaseNo1', 'CaseNo2']].values ]\n",
    "\n",
    "edges"
   ]
  },
  {
   "cell_type": "markdown",
   "metadata": {},
   "source": [
    "Let's set up the attributes for our node interactive pop-ups."
   ]
  },
  {
   "cell_type": "code",
   "execution_count": 34,
   "metadata": {},
   "outputs": [
    {
     "data": {
      "text/plain": [
       "{'TH-101579': {'CaseNo': 'TH-101579', 'DrugResType': 'MDR-TB', 'Links': 4},\n",
       " 'TH-101783': {'CaseNo': 'TH-101783', 'DrugResType': 'MDR-TB', 'Links': 1},\n",
       " 'TH-101823': {'CaseNo': 'TH-101823', 'DrugResType': 'MDR-TB', 'Links': 4},\n",
       " 'TH-102445': {'CaseNo': 'TH-102445', 'DrugResType': 'MDR-TB', 'Links': 1},\n",
       " 'TH-102460': {'CaseNo': 'TH-102460', 'DrugResType': 'MDR-TB', 'Links': 1},\n",
       " 'TH-102637': {'CaseNo': 'TH-102637', 'DrugResType': 'MDR-TB', 'Links': 1},\n",
       " 'TH-102909': {'CaseNo': 'TH-102909', 'DrugResType': 'MDR-TB', 'Links': 1},\n",
       " 'TH-103009': {'CaseNo': 'TH-103009', 'DrugResType': 'MDR-TB', 'Links': 1},\n",
       " 'TH-103347': {'CaseNo': 'TH-103347', 'DrugResType': 'MDR-TB', 'Links': 3},\n",
       " 'TH-103773': {'CaseNo': 'TH-103773', 'DrugResType': 'MDR-TB', 'Links': 1},\n",
       " 'TH-103927': {'CaseNo': 'TH-103927', 'DrugResType': 'MDR-TB', 'Links': 2},\n",
       " 'TH-104039': {'CaseNo': 'TH-104039', 'DrugResType': 'MDR-TB', 'Links': 1},\n",
       " 'TH-104090': {'CaseNo': 'TH-104090', 'DrugResType': 'MDR-TB', 'Links': 1}}"
      ]
     },
     "execution_count": 34,
     "metadata": {},
     "output_type": "execute_result"
    }
   ],
   "source": [
    "attributes = {}\n",
    "for each in nodes_df5.iterrows():\n",
    "    new_dict = {each[1]['CaseNo']: {'CaseNo': each[1]['CaseNo'],\\\n",
    "                              'DrugResType': each[1]['DRTYPE'],\\\n",
    "                              'Links': each[1]['links']}}\n",
    "    attributes.update(new_dict)\n",
    "\n",
    "attributes"
   ]
  },
  {
   "cell_type": "markdown",
   "metadata": {},
   "source": [
    "... and the tooltips where these will appear."
   ]
  },
  {
   "cell_type": "code",
   "execution_count": 39,
   "metadata": {},
   "outputs": [],
   "source": [
    "tooltips = [\n",
    "    (\"Case No:\", \"@CaseNo\"),\n",
    "    (\"Drug Res Type:\", \"@DrugResType\"),\n",
    "    (\"Links:\", \"@Links\")\n",
    "]"
   ]
  },
  {
   "cell_type": "markdown",
   "metadata": {},
   "source": [
    "Let's run our `bokeh` and `networkx` Python code."
   ]
  },
  {
   "cell_type": "code",
   "execution_count": 67,
   "metadata": {},
   "outputs": [],
   "source": [
    "import networkx as nx\n",
    "\n",
    "from bokeh.io import show, output_notebook\n",
    "from bokeh.models import Plot, Range1d, MultiLine, \\\n",
    "    Circle, HoverTool, TapTool, BoxSelectTool, \\\n",
    "    ColumnDataSource, LabelSet\n",
    "from bokeh.models.graphs import from_networkx, \\\n",
    "    NodesAndLinkedEdges, EdgesAndLinkedNodes\n",
    "from bokeh.palettes import Spectral4\n",
    "from bokeh.layouts import row"
   ]
  },
  {
   "cell_type": "code",
   "execution_count": 68,
   "metadata": {},
   "outputs": [
    {
     "data": {
      "text/html": [
       "\n",
       "    <div class=\"bk-root\">\n",
       "        <a href=\"https://bokeh.pydata.org\" target=\"_blank\" class=\"bk-logo bk-logo-small bk-logo-notebook\"></a>\n",
       "        <span id=\"19158\">Loading BokehJS ...</span>\n",
       "    </div>"
      ]
     },
     "metadata": {},
     "output_type": "display_data"
    },
    {
     "data": {
      "application/javascript": [
       "\n",
       "(function(root) {\n",
       "  function now() {\n",
       "    return new Date();\n",
       "  }\n",
       "\n",
       "  var force = true;\n",
       "\n",
       "  if (typeof root._bokeh_onload_callbacks === \"undefined\" || force === true) {\n",
       "    root._bokeh_onload_callbacks = [];\n",
       "    root._bokeh_is_loading = undefined;\n",
       "  }\n",
       "\n",
       "  var JS_MIME_TYPE = 'application/javascript';\n",
       "  var HTML_MIME_TYPE = 'text/html';\n",
       "  var EXEC_MIME_TYPE = 'application/vnd.bokehjs_exec.v0+json';\n",
       "  var CLASS_NAME = 'output_bokeh rendered_html';\n",
       "\n",
       "  /**\n",
       "   * Render data to the DOM node\n",
       "   */\n",
       "  function render(props, node) {\n",
       "    var script = document.createElement(\"script\");\n",
       "    node.appendChild(script);\n",
       "  }\n",
       "\n",
       "  /**\n",
       "   * Handle when an output is cleared or removed\n",
       "   */\n",
       "  function handleClearOutput(event, handle) {\n",
       "    var cell = handle.cell;\n",
       "\n",
       "    var id = cell.output_area._bokeh_element_id;\n",
       "    var server_id = cell.output_area._bokeh_server_id;\n",
       "    // Clean up Bokeh references\n",
       "    if (id != null && id in Bokeh.index) {\n",
       "      Bokeh.index[id].model.document.clear();\n",
       "      delete Bokeh.index[id];\n",
       "    }\n",
       "\n",
       "    if (server_id !== undefined) {\n",
       "      // Clean up Bokeh references\n",
       "      var cmd = \"from bokeh.io.state import curstate; print(curstate().uuid_to_server['\" + server_id + \"'].get_sessions()[0].document.roots[0]._id)\";\n",
       "      cell.notebook.kernel.execute(cmd, {\n",
       "        iopub: {\n",
       "          output: function(msg) {\n",
       "            var id = msg.content.text.trim();\n",
       "            if (id in Bokeh.index) {\n",
       "              Bokeh.index[id].model.document.clear();\n",
       "              delete Bokeh.index[id];\n",
       "            }\n",
       "          }\n",
       "        }\n",
       "      });\n",
       "      // Destroy server and session\n",
       "      var cmd = \"import bokeh.io.notebook as ion; ion.destroy_server('\" + server_id + \"')\";\n",
       "      cell.notebook.kernel.execute(cmd);\n",
       "    }\n",
       "  }\n",
       "\n",
       "  /**\n",
       "   * Handle when a new output is added\n",
       "   */\n",
       "  function handleAddOutput(event, handle) {\n",
       "    var output_area = handle.output_area;\n",
       "    var output = handle.output;\n",
       "\n",
       "    // limit handleAddOutput to display_data with EXEC_MIME_TYPE content only\n",
       "    if ((output.output_type != \"display_data\") || (!output.data.hasOwnProperty(EXEC_MIME_TYPE))) {\n",
       "      return\n",
       "    }\n",
       "\n",
       "    var toinsert = output_area.element.find(\".\" + CLASS_NAME.split(' ')[0]);\n",
       "\n",
       "    if (output.metadata[EXEC_MIME_TYPE][\"id\"] !== undefined) {\n",
       "      toinsert[toinsert.length - 1].firstChild.textContent = output.data[JS_MIME_TYPE];\n",
       "      // store reference to embed id on output_area\n",
       "      output_area._bokeh_element_id = output.metadata[EXEC_MIME_TYPE][\"id\"];\n",
       "    }\n",
       "    if (output.metadata[EXEC_MIME_TYPE][\"server_id\"] !== undefined) {\n",
       "      var bk_div = document.createElement(\"div\");\n",
       "      bk_div.innerHTML = output.data[HTML_MIME_TYPE];\n",
       "      var script_attrs = bk_div.children[0].attributes;\n",
       "      for (var i = 0; i < script_attrs.length; i++) {\n",
       "        toinsert[toinsert.length - 1].firstChild.setAttribute(script_attrs[i].name, script_attrs[i].value);\n",
       "      }\n",
       "      // store reference to server id on output_area\n",
       "      output_area._bokeh_server_id = output.metadata[EXEC_MIME_TYPE][\"server_id\"];\n",
       "    }\n",
       "  }\n",
       "\n",
       "  function register_renderer(events, OutputArea) {\n",
       "\n",
       "    function append_mime(data, metadata, element) {\n",
       "      // create a DOM node to render to\n",
       "      var toinsert = this.create_output_subarea(\n",
       "        metadata,\n",
       "        CLASS_NAME,\n",
       "        EXEC_MIME_TYPE\n",
       "      );\n",
       "      this.keyboard_manager.register_events(toinsert);\n",
       "      // Render to node\n",
       "      var props = {data: data, metadata: metadata[EXEC_MIME_TYPE]};\n",
       "      render(props, toinsert[toinsert.length - 1]);\n",
       "      element.append(toinsert);\n",
       "      return toinsert\n",
       "    }\n",
       "\n",
       "    /* Handle when an output is cleared or removed */\n",
       "    events.on('clear_output.CodeCell', handleClearOutput);\n",
       "    events.on('delete.Cell', handleClearOutput);\n",
       "\n",
       "    /* Handle when a new output is added */\n",
       "    events.on('output_added.OutputArea', handleAddOutput);\n",
       "\n",
       "    /**\n",
       "     * Register the mime type and append_mime function with output_area\n",
       "     */\n",
       "    OutputArea.prototype.register_mime_type(EXEC_MIME_TYPE, append_mime, {\n",
       "      /* Is output safe? */\n",
       "      safe: true,\n",
       "      /* Index of renderer in `output_area.display_order` */\n",
       "      index: 0\n",
       "    });\n",
       "  }\n",
       "\n",
       "  // register the mime type if in Jupyter Notebook environment and previously unregistered\n",
       "  if (root.Jupyter !== undefined) {\n",
       "    var events = require('base/js/events');\n",
       "    var OutputArea = require('notebook/js/outputarea').OutputArea;\n",
       "\n",
       "    if (OutputArea.prototype.mime_types().indexOf(EXEC_MIME_TYPE) == -1) {\n",
       "      register_renderer(events, OutputArea);\n",
       "    }\n",
       "  }\n",
       "\n",
       "  \n",
       "  if (typeof (root._bokeh_timeout) === \"undefined\" || force === true) {\n",
       "    root._bokeh_timeout = Date.now() + 5000;\n",
       "    root._bokeh_failed_load = false;\n",
       "  }\n",
       "\n",
       "  var NB_LOAD_WARNING = {'data': {'text/html':\n",
       "     \"<div style='background-color: #fdd'>\\n\"+\n",
       "     \"<p>\\n\"+\n",
       "     \"BokehJS does not appear to have successfully loaded. If loading BokehJS from CDN, this \\n\"+\n",
       "     \"may be due to a slow or bad network connection. Possible fixes:\\n\"+\n",
       "     \"</p>\\n\"+\n",
       "     \"<ul>\\n\"+\n",
       "     \"<li>re-rerun `output_notebook()` to attempt to load from CDN again, or</li>\\n\"+\n",
       "     \"<li>use INLINE resources instead, as so:</li>\\n\"+\n",
       "     \"</ul>\\n\"+\n",
       "     \"<code>\\n\"+\n",
       "     \"from bokeh.resources import INLINE\\n\"+\n",
       "     \"output_notebook(resources=INLINE)\\n\"+\n",
       "     \"</code>\\n\"+\n",
       "     \"</div>\"}};\n",
       "\n",
       "  function display_loaded() {\n",
       "    var el = document.getElementById(\"19158\");\n",
       "    if (el != null) {\n",
       "      el.textContent = \"BokehJS is loading...\";\n",
       "    }\n",
       "    if (root.Bokeh !== undefined) {\n",
       "      if (el != null) {\n",
       "        el.textContent = \"BokehJS \" + root.Bokeh.version + \" successfully loaded.\";\n",
       "      }\n",
       "    } else if (Date.now() < root._bokeh_timeout) {\n",
       "      setTimeout(display_loaded, 100)\n",
       "    }\n",
       "  }\n",
       "\n",
       "\n",
       "  function run_callbacks() {\n",
       "    try {\n",
       "      root._bokeh_onload_callbacks.forEach(function(callback) {\n",
       "        if (callback != null)\n",
       "          callback();\n",
       "      });\n",
       "    } finally {\n",
       "      delete root._bokeh_onload_callbacks\n",
       "    }\n",
       "    console.debug(\"Bokeh: all callbacks have finished\");\n",
       "  }\n",
       "\n",
       "  function load_libs(css_urls, js_urls, callback) {\n",
       "    if (css_urls == null) css_urls = [];\n",
       "    if (js_urls == null) js_urls = [];\n",
       "\n",
       "    root._bokeh_onload_callbacks.push(callback);\n",
       "    if (root._bokeh_is_loading > 0) {\n",
       "      console.debug(\"Bokeh: BokehJS is being loaded, scheduling callback at\", now());\n",
       "      return null;\n",
       "    }\n",
       "    if (js_urls == null || js_urls.length === 0) {\n",
       "      run_callbacks();\n",
       "      return null;\n",
       "    }\n",
       "    console.debug(\"Bokeh: BokehJS not loaded, scheduling load and callback at\", now());\n",
       "    root._bokeh_is_loading = css_urls.length + js_urls.length;\n",
       "\n",
       "    function on_load() {\n",
       "      root._bokeh_is_loading--;\n",
       "      if (root._bokeh_is_loading === 0) {\n",
       "        console.debug(\"Bokeh: all BokehJS libraries/stylesheets loaded\");\n",
       "        run_callbacks()\n",
       "      }\n",
       "    }\n",
       "\n",
       "    function on_error() {\n",
       "      console.error(\"failed to load \" + url);\n",
       "    }\n",
       "\n",
       "    for (var i = 0; i < css_urls.length; i++) {\n",
       "      var url = css_urls[i];\n",
       "      const element = document.createElement(\"link\");\n",
       "      element.onload = on_load;\n",
       "      element.onerror = on_error;\n",
       "      element.rel = \"stylesheet\";\n",
       "      element.type = \"text/css\";\n",
       "      element.href = url;\n",
       "      console.debug(\"Bokeh: injecting link tag for BokehJS stylesheet: \", url);\n",
       "      document.body.appendChild(element);\n",
       "    }\n",
       "\n",
       "    for (var i = 0; i < js_urls.length; i++) {\n",
       "      var url = js_urls[i];\n",
       "      var element = document.createElement('script');\n",
       "      element.onload = on_load;\n",
       "      element.onerror = on_error;\n",
       "      element.async = false;\n",
       "      element.src = url;\n",
       "      console.debug(\"Bokeh: injecting script tag for BokehJS library: \", url);\n",
       "      document.head.appendChild(element);\n",
       "    }\n",
       "  };var element = document.getElementById(\"19158\");\n",
       "  if (element == null) {\n",
       "    console.error(\"Bokeh: ERROR: autoload.js configured with elementid '19158' but no matching script tag was found. \")\n",
       "    return false;\n",
       "  }\n",
       "\n",
       "  function inject_raw_css(css) {\n",
       "    const element = document.createElement(\"style\");\n",
       "    element.appendChild(document.createTextNode(css));\n",
       "    document.body.appendChild(element);\n",
       "  }\n",
       "\n",
       "  var js_urls = [\"https://cdn.pydata.org/bokeh/release/bokeh-1.2.0.min.js\", \"https://cdn.pydata.org/bokeh/release/bokeh-widgets-1.2.0.min.js\", \"https://cdn.pydata.org/bokeh/release/bokeh-tables-1.2.0.min.js\", \"https://cdn.pydata.org/bokeh/release/bokeh-gl-1.2.0.min.js\"];\n",
       "  var css_urls = [\"https://cdn.pydata.org/bokeh/release/bokeh-1.2.0.min.css\", \"https://cdn.pydata.org/bokeh/release/bokeh-widgets-1.2.0.min.css\", \"https://cdn.pydata.org/bokeh/release/bokeh-tables-1.2.0.min.css\"];\n",
       "\n",
       "  var inline_js = [\n",
       "    function(Bokeh) {\n",
       "      Bokeh.set_log_level(\"info\");\n",
       "    },\n",
       "    \n",
       "    function(Bokeh) {\n",
       "      \n",
       "    },\n",
       "    function(Bokeh) {} // ensure no trailing comma for IE\n",
       "  ];\n",
       "\n",
       "  function run_inline_js() {\n",
       "    \n",
       "    if ((root.Bokeh !== undefined) || (force === true)) {\n",
       "      for (var i = 0; i < inline_js.length; i++) {\n",
       "        inline_js[i].call(root, root.Bokeh);\n",
       "      }if (force === true) {\n",
       "        display_loaded();\n",
       "      }} else if (Date.now() < root._bokeh_timeout) {\n",
       "      setTimeout(run_inline_js, 100);\n",
       "    } else if (!root._bokeh_failed_load) {\n",
       "      console.log(\"Bokeh: BokehJS failed to load within specified timeout.\");\n",
       "      root._bokeh_failed_load = true;\n",
       "    } else if (force !== true) {\n",
       "      var cell = $(document.getElementById(\"19158\")).parents('.cell').data().cell;\n",
       "      cell.output_area.append_execute_result(NB_LOAD_WARNING)\n",
       "    }\n",
       "\n",
       "  }\n",
       "\n",
       "  if (root._bokeh_is_loading === 0) {\n",
       "    console.debug(\"Bokeh: BokehJS loaded, going straight to plotting\");\n",
       "    run_inline_js();\n",
       "  } else {\n",
       "    load_libs(css_urls, js_urls, function() {\n",
       "      console.debug(\"Bokeh: BokehJS plotting callback run at\", now());\n",
       "      run_inline_js();\n",
       "    });\n",
       "  }\n",
       "}(window));"
      ],
      "application/vnd.bokehjs_load.v0+json": "\n(function(root) {\n  function now() {\n    return new Date();\n  }\n\n  var force = true;\n\n  if (typeof root._bokeh_onload_callbacks === \"undefined\" || force === true) {\n    root._bokeh_onload_callbacks = [];\n    root._bokeh_is_loading = undefined;\n  }\n\n  \n\n  \n  if (typeof (root._bokeh_timeout) === \"undefined\" || force === true) {\n    root._bokeh_timeout = Date.now() + 5000;\n    root._bokeh_failed_load = false;\n  }\n\n  var NB_LOAD_WARNING = {'data': {'text/html':\n     \"<div style='background-color: #fdd'>\\n\"+\n     \"<p>\\n\"+\n     \"BokehJS does not appear to have successfully loaded. If loading BokehJS from CDN, this \\n\"+\n     \"may be due to a slow or bad network connection. Possible fixes:\\n\"+\n     \"</p>\\n\"+\n     \"<ul>\\n\"+\n     \"<li>re-rerun `output_notebook()` to attempt to load from CDN again, or</li>\\n\"+\n     \"<li>use INLINE resources instead, as so:</li>\\n\"+\n     \"</ul>\\n\"+\n     \"<code>\\n\"+\n     \"from bokeh.resources import INLINE\\n\"+\n     \"output_notebook(resources=INLINE)\\n\"+\n     \"</code>\\n\"+\n     \"</div>\"}};\n\n  function display_loaded() {\n    var el = document.getElementById(\"19158\");\n    if (el != null) {\n      el.textContent = \"BokehJS is loading...\";\n    }\n    if (root.Bokeh !== undefined) {\n      if (el != null) {\n        el.textContent = \"BokehJS \" + root.Bokeh.version + \" successfully loaded.\";\n      }\n    } else if (Date.now() < root._bokeh_timeout) {\n      setTimeout(display_loaded, 100)\n    }\n  }\n\n\n  function run_callbacks() {\n    try {\n      root._bokeh_onload_callbacks.forEach(function(callback) {\n        if (callback != null)\n          callback();\n      });\n    } finally {\n      delete root._bokeh_onload_callbacks\n    }\n    console.debug(\"Bokeh: all callbacks have finished\");\n  }\n\n  function load_libs(css_urls, js_urls, callback) {\n    if (css_urls == null) css_urls = [];\n    if (js_urls == null) js_urls = [];\n\n    root._bokeh_onload_callbacks.push(callback);\n    if (root._bokeh_is_loading > 0) {\n      console.debug(\"Bokeh: BokehJS is being loaded, scheduling callback at\", now());\n      return null;\n    }\n    if (js_urls == null || js_urls.length === 0) {\n      run_callbacks();\n      return null;\n    }\n    console.debug(\"Bokeh: BokehJS not loaded, scheduling load and callback at\", now());\n    root._bokeh_is_loading = css_urls.length + js_urls.length;\n\n    function on_load() {\n      root._bokeh_is_loading--;\n      if (root._bokeh_is_loading === 0) {\n        console.debug(\"Bokeh: all BokehJS libraries/stylesheets loaded\");\n        run_callbacks()\n      }\n    }\n\n    function on_error() {\n      console.error(\"failed to load \" + url);\n    }\n\n    for (var i = 0; i < css_urls.length; i++) {\n      var url = css_urls[i];\n      const element = document.createElement(\"link\");\n      element.onload = on_load;\n      element.onerror = on_error;\n      element.rel = \"stylesheet\";\n      element.type = \"text/css\";\n      element.href = url;\n      console.debug(\"Bokeh: injecting link tag for BokehJS stylesheet: \", url);\n      document.body.appendChild(element);\n    }\n\n    for (var i = 0; i < js_urls.length; i++) {\n      var url = js_urls[i];\n      var element = document.createElement('script');\n      element.onload = on_load;\n      element.onerror = on_error;\n      element.async = false;\n      element.src = url;\n      console.debug(\"Bokeh: injecting script tag for BokehJS library: \", url);\n      document.head.appendChild(element);\n    }\n  };var element = document.getElementById(\"19158\");\n  if (element == null) {\n    console.error(\"Bokeh: ERROR: autoload.js configured with elementid '19158' but no matching script tag was found. \")\n    return false;\n  }\n\n  function inject_raw_css(css) {\n    const element = document.createElement(\"style\");\n    element.appendChild(document.createTextNode(css));\n    document.body.appendChild(element);\n  }\n\n  var js_urls = [\"https://cdn.pydata.org/bokeh/release/bokeh-1.2.0.min.js\", \"https://cdn.pydata.org/bokeh/release/bokeh-widgets-1.2.0.min.js\", \"https://cdn.pydata.org/bokeh/release/bokeh-tables-1.2.0.min.js\", \"https://cdn.pydata.org/bokeh/release/bokeh-gl-1.2.0.min.js\"];\n  var css_urls = [\"https://cdn.pydata.org/bokeh/release/bokeh-1.2.0.min.css\", \"https://cdn.pydata.org/bokeh/release/bokeh-widgets-1.2.0.min.css\", \"https://cdn.pydata.org/bokeh/release/bokeh-tables-1.2.0.min.css\"];\n\n  var inline_js = [\n    function(Bokeh) {\n      Bokeh.set_log_level(\"info\");\n    },\n    \n    function(Bokeh) {\n      \n    },\n    function(Bokeh) {} // ensure no trailing comma for IE\n  ];\n\n  function run_inline_js() {\n    \n    if ((root.Bokeh !== undefined) || (force === true)) {\n      for (var i = 0; i < inline_js.length; i++) {\n        inline_js[i].call(root, root.Bokeh);\n      }if (force === true) {\n        display_loaded();\n      }} else if (Date.now() < root._bokeh_timeout) {\n      setTimeout(run_inline_js, 100);\n    } else if (!root._bokeh_failed_load) {\n      console.log(\"Bokeh: BokehJS failed to load within specified timeout.\");\n      root._bokeh_failed_load = true;\n    } else if (force !== true) {\n      var cell = $(document.getElementById(\"19158\")).parents('.cell').data().cell;\n      cell.output_area.append_execute_result(NB_LOAD_WARNING)\n    }\n\n  }\n\n  if (root._bokeh_is_loading === 0) {\n    console.debug(\"Bokeh: BokehJS loaded, going straight to plotting\");\n    run_inline_js();\n  } else {\n    load_libs(css_urls, js_urls, function() {\n      console.debug(\"Bokeh: BokehJS plotting callback run at\", now());\n      run_inline_js();\n    });\n  }\n}(window));"
     },
     "metadata": {},
     "output_type": "display_data"
    }
   ],
   "source": [
    "output_notebook()"
   ]
  },
  {
   "cell_type": "code",
   "execution_count": 69,
   "metadata": {},
   "outputs": [],
   "source": [
    "G = nx.Graph()\n",
    "G.add_nodes_from(nodes)\n",
    "G.add_edges_from(edges)\n",
    "\n",
    "nx.set_node_attributes(G, attributes)"
   ]
  },
  {
   "cell_type": "code",
   "execution_count": null,
   "metadata": {},
   "outputs": [],
   "source": [
    "# spring layout\n",
    "\n",
    "plot1 = Plot(plot_width=450, plot_height=450,\n",
    "            x_range=Range1d(-1.1,1.1), y_range=Range1d(-1.1,1.1))\n",
    "plot1.title.text = \"MDR-TB Links - Spring Layout\"\n",
    "plot1.add_tools(HoverTool(tooltips=tooltips), TapTool(), BoxSelectTool())\n",
    "\n",
    "graph_renderer1 = from_networkx(G, nx.spring_layout, scale=1, center=(0,0))\n",
    "graph_renderer1.node_renderer.glyph = \\\n",
    "    Circle(size=20, fill_color=Spectral4[0])\n",
    "graph_renderer1.node_renderer.selection_glyph = \\\n",
    "    Circle(size=20, fill_color=Spectral4[2])\n",
    "graph_renderer1.node_renderer.hover_glyph = \\\n",
    "    Circle(size=20, fill_color=Spectral4[1])\n",
    "graph_renderer1.edge_renderer.glyph = \\\n",
    "    MultiLine(line_color=\"#CCCCCC\", line_alpha=0.8, line_width=2)\n",
    "graph_renderer1.edge_renderer.selection_glyph = \\\n",
    "    MultiLine(line_color=Spectral4[2], line_width=5)\n",
    "graph_renderer1.edge_renderer.hover_glyph = \\\n",
    "    MultiLine(line_color=Spectral4[1], line_width=5)\n",
    "graph_renderer1.selection_policy = NodesAndLinkedEdges()\n",
    "graph_renderer1.inspection_policy = NodesAndLinkedEdges()\n",
    "\n",
    "plot1.renderers.append(graph_renderer1)"
   ]
  },
  {
   "cell_type": "code",
   "execution_count": 71,
   "metadata": {},
   "outputs": [],
   "source": [
    "# circular layout\n",
    "\n",
    "plot2 = Plot(plot_width=450, plot_height=450,\n",
    "            x_range=Range1d(-1.1,1.1), y_range=Range1d(-1.1,1.1))\n",
    "plot2.title.text = \"MDR-TB Links - Circular Layout\"\n",
    "plot2.add_tools(HoverTool(tooltips=tooltips), TapTool(), BoxSelectTool())\n",
    "\n",
    "graph_renderer2 = from_networkx(G, nx.circular_layout, scale=1, center=(0,0))\n",
    "graph_renderer2.node_renderer.glyph = \\\n",
    "    Circle(size=20, fill_color=Spectral4[0])\n",
    "graph_renderer2.node_renderer.selection_glyph = \\\n",
    "    Circle(size=20, fill_color=Spectral4[2])\n",
    "graph_renderer2.node_renderer.hover_glyph = \\\n",
    "    Circle(size=20, fill_color=Spectral4[1])\n",
    "graph_renderer2.edge_renderer.glyph = \\\n",
    "    MultiLine(line_color=\"#CCCCCC\", line_alpha=0.8, line_width=2)\n",
    "graph_renderer2.edge_renderer.selection_glyph = \\\n",
    "    MultiLine(line_color=Spectral4[2], line_width=5)\n",
    "graph_renderer2.edge_renderer.hover_glyph = \\\n",
    "    MultiLine(line_color=Spectral4[1], line_width=5)\n",
    "graph_renderer2.selection_policy = NodesAndLinkedEdges()\n",
    "graph_renderer2.inspection_policy = NodesAndLinkedEdges()\n",
    "\n",
    "plot2.renderers.append(graph_renderer2)"
   ]
  },
  {
   "cell_type": "code",
   "execution_count": 72,
   "metadata": {},
   "outputs": [
    {
     "data": {
      "text/html": [
       "\n",
       "\n",
       "\n",
       "\n",
       "\n",
       "\n",
       "  <div class=\"bk-root\" id=\"f535bb59-2841-4be9-b441-174792b59dda\" data-root-id=\"20233\"></div>\n"
      ]
     },
     "metadata": {},
     "output_type": "display_data"
    },
    {
     "data": {
      "application/javascript": [
       "(function(root) {\n",
       "  function embed_document(root) {\n",
       "    \n",
       "  var docs_json = {\"8cde972b-1b53-4e00-a9c5-644016a123a3\":{\"roots\":{\"references\":[{\"attributes\":{\"children\":[{\"id\":\"18062\",\"type\":\"Plot\"},{\"id\":\"20177\",\"type\":\"Plot\"}]},\"id\":\"20233\",\"type\":\"Row\"},{\"attributes\":{\"fill_color\":{\"value\":\"#abdda4\"},\"size\":{\"units\":\"screen\",\"value\":20}},\"id\":\"18094\",\"type\":\"Circle\"},{\"attributes\":{},\"id\":\"21012\",\"type\":\"LinearScale\"},{\"attributes\":{\"graph_layout\":{\"TH-101579\":[0.2772953744587068,-0.40439148911374506],\"TH-101783\":[0.49692228161513524,0.21321876891008415],\"TH-101823\":[0.5277143350601482,-0.055116836891515454],\"TH-102445\":[0.807916216085154,-0.11318932393277263],\"TH-102460\":[0.744335374435902,0.15322484411692233],\"TH-102637\":[0.040148539448611284,-0.3764477694416166],\"TH-102909\":[-1.0,0.9686794107232206],\"TH-103009\":[-0.556369704834337,0.6133961594158261],\"TH-103347\":[-0.8307016895588203,0.750608570007136],\"TH-103773\":[-0.9293871748488404,0.5325092286963925],\"TH-103927\":[0.06011396172153217,-0.7067406655464503],\"TH-104039\":[0.4526276937103175,-0.6242162210636644],\"TH-104090\":[-0.09061520729351051,-0.9515346758798171]}},\"id\":\"18083\",\"type\":\"StaticLayoutProvider\"},{\"attributes\":{},\"id\":\"20231\",\"type\":\"NodesAndLinkedEdges\"},{\"attributes\":{\"bottom_units\":\"screen\",\"fill_alpha\":{\"value\":0.5},\"fill_color\":{\"value\":\"lightgrey\"},\"left_units\":\"screen\",\"level\":\"overlay\",\"line_alpha\":{\"value\":1.0},\"line_color\":{\"value\":\"black\"},\"line_dash\":[4,4],\"line_width\":{\"value\":2},\"render_mode\":\"css\",\"right_units\":\"screen\",\"top_units\":\"screen\"},\"id\":\"18904\",\"type\":\"BoxAnnotation\"},{\"attributes\":{\"callback\":null,\"data\":{\"end\":[\"TH-101823\",\"TH-104039\",\"TH-103927\",\"TH-102637\",\"TH-103773\",\"TH-103009\",\"TH-102909\",\"TH-104090\",\"TH-101823\",\"TH-102445\",\"TH-102460\"],\"start\":[\"TH-101579\",\"TH-101579\",\"TH-101579\",\"TH-101579\",\"TH-103347\",\"TH-103347\",\"TH-103347\",\"TH-103927\",\"TH-101783\",\"TH-101823\",\"TH-101823\"]},\"selected\":{\"id\":\"18909\",\"type\":\"Selection\"},\"selection_policy\":{\"id\":\"18908\",\"type\":\"UnionRenderers\"}},\"id\":\"18080\",\"type\":\"ColumnDataSource\"},{\"attributes\":{\"source\":{\"id\":\"18076\",\"type\":\"ColumnDataSource\"}},\"id\":\"18078\",\"type\":\"CDSView\"},{\"attributes\":{\"data_source\":{\"id\":\"18080\",\"type\":\"ColumnDataSource\"},\"glyph\":{\"id\":\"18099\",\"type\":\"MultiLine\"},\"hover_glyph\":{\"id\":\"18109\",\"type\":\"MultiLine\"},\"muted_glyph\":null,\"selection_glyph\":{\"id\":\"18104\",\"type\":\"MultiLine\"},\"view\":{\"id\":\"18082\",\"type\":\"CDSView\"}},\"id\":\"18081\",\"type\":\"GlyphRenderer\"},{\"attributes\":{\"fill_color\":{\"value\":\"#fdae61\"},\"size\":{\"units\":\"screen\",\"value\":20}},\"id\":\"18089\",\"type\":\"Circle\"},{\"attributes\":{\"callback\":null,\"end\":1.1,\"start\":-1.1},\"id\":\"20176\",\"type\":\"Range1d\"},{\"attributes\":{\"source\":{\"id\":\"18080\",\"type\":\"ColumnDataSource\"}},\"id\":\"18082\",\"type\":\"CDSView\"},{\"attributes\":{\"line_alpha\":{\"value\":0.8},\"line_color\":{\"value\":\"#CCCCCC\"},\"line_width\":{\"value\":2}},\"id\":\"20214\",\"type\":\"MultiLine\"},{\"attributes\":{},\"id\":\"18908\",\"type\":\"UnionRenderers\"},{\"attributes\":{\"callback\":null,\"data\":{\"CaseNo\":[\"TH-101579\",\"TH-103347\",\"TH-103927\",\"TH-103009\",\"TH-101783\",\"TH-102909\",\"TH-101823\",\"TH-103773\",\"TH-104039\",\"TH-104090\",\"TH-102637\",\"TH-102445\",\"TH-102460\"],\"DrugResType\":[\"MDR-TB\",\"MDR-TB\",\"MDR-TB\",\"MDR-TB\",\"MDR-TB\",\"MDR-TB\",\"MDR-TB\",\"MDR-TB\",\"MDR-TB\",\"MDR-TB\",\"MDR-TB\",\"MDR-TB\",\"MDR-TB\"],\"Links\":[4,3,2,1,1,1,4,1,1,1,1,1,1],\"index\":[\"TH-101579\",\"TH-103347\",\"TH-103927\",\"TH-103009\",\"TH-101783\",\"TH-102909\",\"TH-101823\",\"TH-103773\",\"TH-104039\",\"TH-104090\",\"TH-102637\",\"TH-102445\",\"TH-102460\"]},\"selected\":{\"id\":\"18907\",\"type\":\"Selection\"},\"selection_policy\":{\"id\":\"18906\",\"type\":\"UnionRenderers\"}},\"id\":\"18076\",\"type\":\"ColumnDataSource\"},{\"attributes\":{},\"id\":\"21038\",\"type\":\"Selection\"},{\"attributes\":{\"callback\":null,\"data\":{\"end\":[\"TH-101823\",\"TH-104039\",\"TH-103927\",\"TH-102637\",\"TH-103773\",\"TH-103009\",\"TH-102909\",\"TH-104090\",\"TH-101823\",\"TH-102445\",\"TH-102460\"],\"start\":[\"TH-101579\",\"TH-101579\",\"TH-101579\",\"TH-101579\",\"TH-103347\",\"TH-103347\",\"TH-103347\",\"TH-103927\",\"TH-101783\",\"TH-101823\",\"TH-101823\"]},\"selected\":{\"id\":\"21038\",\"type\":\"Selection\"},\"selection_policy\":{\"id\":\"21037\",\"type\":\"UnionRenderers\"}},\"id\":\"20195\",\"type\":\"ColumnDataSource\"},{\"attributes\":{},\"id\":\"21037\",\"type\":\"UnionRenderers\"},{\"attributes\":{\"fill_color\":{\"value\":\"#abdda4\"},\"size\":{\"units\":\"screen\",\"value\":20}},\"id\":\"20209\",\"type\":\"Circle\"},{\"attributes\":{},\"id\":\"20229\",\"type\":\"NodesAndLinkedEdges\"},{\"attributes\":{\"callback\":null,\"overlay\":{\"id\":\"18904\",\"type\":\"BoxAnnotation\"}},\"id\":\"18068\",\"type\":\"BoxSelectTool\"},{\"attributes\":{},\"id\":\"18883\",\"type\":\"LinearScale\"},{\"attributes\":{\"callback\":null,\"tooltips\":[[\"Case No:\",\"@CaseNo\"],[\"Drug Res Type:\",\"@DrugResType\"],[\"Links:\",\"@Links\"]]},\"id\":\"20181\",\"type\":\"HoverTool\"},{\"attributes\":{\"fill_color\":{\"value\":\"#2b83ba\"},\"size\":{\"units\":\"screen\",\"value\":20}},\"id\":\"18084\",\"type\":\"Circle\"},{\"attributes\":{\"source\":{\"id\":\"20191\",\"type\":\"ColumnDataSource\"}},\"id\":\"20193\",\"type\":\"CDSView\"},{\"attributes\":{\"edge_renderer\":{\"id\":\"20196\",\"type\":\"GlyphRenderer\"},\"inspection_policy\":{\"id\":\"20231\",\"type\":\"NodesAndLinkedEdges\"},\"layout_provider\":{\"id\":\"20198\",\"type\":\"StaticLayoutProvider\"},\"node_renderer\":{\"id\":\"20192\",\"type\":\"GlyphRenderer\"},\"selection_policy\":{\"id\":\"20229\",\"type\":\"NodesAndLinkedEdges\"}},\"id\":\"20189\",\"type\":\"GraphRenderer\"},{\"attributes\":{\"line_color\":{\"value\":\"#fdae61\"},\"line_width\":{\"value\":5}},\"id\":\"18104\",\"type\":\"MultiLine\"},{\"attributes\":{\"graph_layout\":{\"TH-101579\":[1.0,-2.292486274449103e-09],\"TH-101783\":[-0.3546048030136695,0.9350162464375796],\"TH-101823\":[-0.9709417873820401,0.23931566483289468],\"TH-102445\":[0.5680645823094135,-0.8229839598311656],\"TH-102460\":[0.8854560287515193,-0.46472318911396937],\"TH-102637\":[0.12053676878846328,-0.9927088368110795],\"TH-102909\":[-0.7485107298490434,0.6631226334263005],\"TH-103009\":[0.12053670918382015,0.992708832226107],\"TH-103347\":[0.8854560287515193,0.4647231547266753],\"TH-103773\":[-0.9709417873820401,-0.2393156098132241],\"TH-103927\":[0.5680647611233429,0.8229838360369068],\"TH-104039\":[-0.7485107894536865,-0.6631225784066298],\"TH-104090\":[-0.35460498182759886,-0.9350161914179089]}},\"id\":\"20198\",\"type\":\"StaticLayoutProvider\"},{\"attributes\":{},\"id\":\"18906\",\"type\":\"UnionRenderers\"},{\"attributes\":{\"active_drag\":\"auto\",\"active_inspect\":\"auto\",\"active_multi\":null,\"active_scroll\":\"auto\",\"active_tap\":\"auto\",\"tools\":[{\"id\":\"18066\",\"type\":\"HoverTool\"},{\"id\":\"18067\",\"type\":\"TapTool\"},{\"id\":\"18068\",\"type\":\"BoxSelectTool\"}]},\"id\":\"18069\",\"type\":\"Toolbar\"},{\"attributes\":{\"line_color\":{\"value\":\"#abdda4\"},\"line_width\":{\"value\":5}},\"id\":\"20224\",\"type\":\"MultiLine\"},{\"attributes\":{\"active_drag\":\"auto\",\"active_inspect\":\"auto\",\"active_multi\":null,\"active_scroll\":\"auto\",\"active_tap\":\"auto\",\"tools\":[{\"id\":\"20181\",\"type\":\"HoverTool\"},{\"id\":\"20182\",\"type\":\"TapTool\"},{\"id\":\"20183\",\"type\":\"BoxSelectTool\"}]},\"id\":\"20184\",\"type\":\"Toolbar\"},{\"attributes\":{\"text\":\"MDR-TB Links - Circular Layout\"},\"id\":\"20180\",\"type\":\"Title\"},{\"attributes\":{\"data_source\":{\"id\":\"18076\",\"type\":\"ColumnDataSource\"},\"glyph\":{\"id\":\"18084\",\"type\":\"Circle\"},\"hover_glyph\":{\"id\":\"18094\",\"type\":\"Circle\"},\"muted_glyph\":null,\"selection_glyph\":{\"id\":\"18089\",\"type\":\"Circle\"},\"view\":{\"id\":\"18078\",\"type\":\"CDSView\"}},\"id\":\"18077\",\"type\":\"GlyphRenderer\"},{\"attributes\":{\"callback\":null},\"id\":\"18067\",\"type\":\"TapTool\"},{\"attributes\":{\"line_color\":{\"value\":\"#abdda4\"},\"line_width\":{\"value\":5}},\"id\":\"18109\",\"type\":\"MultiLine\"},{\"attributes\":{\"line_alpha\":{\"value\":0.8},\"line_color\":{\"value\":\"#CCCCCC\"},\"line_width\":{\"value\":2}},\"id\":\"18099\",\"type\":\"MultiLine\"},{\"attributes\":{\"callback\":null,\"end\":1.1,\"start\":-1.1},\"id\":\"20175\",\"type\":\"Range1d\"},{\"attributes\":{},\"id\":\"21036\",\"type\":\"Selection\"},{\"attributes\":{\"data_source\":{\"id\":\"20195\",\"type\":\"ColumnDataSource\"},\"glyph\":{\"id\":\"20214\",\"type\":\"MultiLine\"},\"hover_glyph\":{\"id\":\"20224\",\"type\":\"MultiLine\"},\"muted_glyph\":null,\"selection_glyph\":{\"id\":\"20219\",\"type\":\"MultiLine\"},\"view\":{\"id\":\"20197\",\"type\":\"CDSView\"}},\"id\":\"20196\",\"type\":\"GlyphRenderer\"},{\"attributes\":{},\"id\":\"18114\",\"type\":\"NodesAndLinkedEdges\"},{\"attributes\":{},\"id\":\"21009\",\"type\":\"LinearScale\"},{\"attributes\":{},\"id\":\"18116\",\"type\":\"NodesAndLinkedEdges\"},{\"attributes\":{\"source\":{\"id\":\"20195\",\"type\":\"ColumnDataSource\"}},\"id\":\"20197\",\"type\":\"CDSView\"},{\"attributes\":{\"fill_color\":{\"value\":\"#fdae61\"},\"size\":{\"units\":\"screen\",\"value\":20}},\"id\":\"20204\",\"type\":\"Circle\"},{\"attributes\":{\"plot_height\":450,\"plot_width\":450,\"renderers\":[{\"id\":\"20189\",\"type\":\"GraphRenderer\"}],\"title\":{\"id\":\"20180\",\"type\":\"Title\"},\"toolbar\":{\"id\":\"20184\",\"type\":\"Toolbar\"},\"x_range\":{\"id\":\"20175\",\"type\":\"Range1d\"},\"x_scale\":{\"id\":\"21012\",\"type\":\"LinearScale\"},\"y_range\":{\"id\":\"20176\",\"type\":\"Range1d\"},\"y_scale\":{\"id\":\"21009\",\"type\":\"LinearScale\"}},\"id\":\"20177\",\"type\":\"Plot\"},{\"attributes\":{\"callback\":null,\"tooltips\":[[\"Case No:\",\"@CaseNo\"],[\"Drug Res Type:\",\"@DrugResType\"],[\"Links:\",\"@Links\"]]},\"id\":\"18066\",\"type\":\"HoverTool\"},{\"attributes\":{\"callback\":null},\"id\":\"20182\",\"type\":\"TapTool\"},{\"attributes\":{},\"id\":\"18880\",\"type\":\"LinearScale\"},{\"attributes\":{},\"id\":\"18907\",\"type\":\"Selection\"},{\"attributes\":{\"callback\":null,\"end\":1.1,\"start\":-1.1},\"id\":\"18060\",\"type\":\"Range1d\"},{\"attributes\":{\"data_source\":{\"id\":\"20191\",\"type\":\"ColumnDataSource\"},\"glyph\":{\"id\":\"20199\",\"type\":\"Circle\"},\"hover_glyph\":{\"id\":\"20209\",\"type\":\"Circle\"},\"muted_glyph\":null,\"selection_glyph\":{\"id\":\"20204\",\"type\":\"Circle\"},\"view\":{\"id\":\"20193\",\"type\":\"CDSView\"}},\"id\":\"20192\",\"type\":\"GlyphRenderer\"},{\"attributes\":{\"line_color\":{\"value\":\"#fdae61\"},\"line_width\":{\"value\":5}},\"id\":\"20219\",\"type\":\"MultiLine\"},{\"attributes\":{\"callback\":null,\"end\":1.1,\"start\":-1.1},\"id\":\"18061\",\"type\":\"Range1d\"},{\"attributes\":{\"edge_renderer\":{\"id\":\"18081\",\"type\":\"GlyphRenderer\"},\"inspection_policy\":{\"id\":\"18116\",\"type\":\"NodesAndLinkedEdges\"},\"layout_provider\":{\"id\":\"18083\",\"type\":\"StaticLayoutProvider\"},\"node_renderer\":{\"id\":\"18077\",\"type\":\"GlyphRenderer\"},\"selection_policy\":{\"id\":\"18114\",\"type\":\"NodesAndLinkedEdges\"}},\"id\":\"18074\",\"type\":\"GraphRenderer\"},{\"attributes\":{\"plot_height\":450,\"plot_width\":450,\"renderers\":[{\"id\":\"18074\",\"type\":\"GraphRenderer\"}],\"title\":{\"id\":\"18065\",\"type\":\"Title\"},\"toolbar\":{\"id\":\"18069\",\"type\":\"Toolbar\"},\"x_range\":{\"id\":\"18060\",\"type\":\"Range1d\"},\"x_scale\":{\"id\":\"18883\",\"type\":\"LinearScale\"},\"y_range\":{\"id\":\"18061\",\"type\":\"Range1d\"},\"y_scale\":{\"id\":\"18880\",\"type\":\"LinearScale\"}},\"id\":\"18062\",\"type\":\"Plot\"},{\"attributes\":{\"callback\":null,\"overlay\":{\"id\":\"21030\",\"type\":\"BoxAnnotation\"}},\"id\":\"20183\",\"type\":\"BoxSelectTool\"},{\"attributes\":{},\"id\":\"18909\",\"type\":\"Selection\"},{\"attributes\":{\"fill_color\":{\"value\":\"#2b83ba\"},\"size\":{\"units\":\"screen\",\"value\":20}},\"id\":\"20199\",\"type\":\"Circle\"},{\"attributes\":{\"bottom_units\":\"screen\",\"fill_alpha\":{\"value\":0.5},\"fill_color\":{\"value\":\"lightgrey\"},\"left_units\":\"screen\",\"level\":\"overlay\",\"line_alpha\":{\"value\":1.0},\"line_color\":{\"value\":\"black\"},\"line_dash\":[4,4],\"line_width\":{\"value\":2},\"render_mode\":\"css\",\"right_units\":\"screen\",\"top_units\":\"screen\"},\"id\":\"21030\",\"type\":\"BoxAnnotation\"},{\"attributes\":{\"callback\":null,\"data\":{\"CaseNo\":[\"TH-101579\",\"TH-103347\",\"TH-103927\",\"TH-103009\",\"TH-101783\",\"TH-102909\",\"TH-101823\",\"TH-103773\",\"TH-104039\",\"TH-104090\",\"TH-102637\",\"TH-102445\",\"TH-102460\"],\"DrugResType\":[\"MDR-TB\",\"MDR-TB\",\"MDR-TB\",\"MDR-TB\",\"MDR-TB\",\"MDR-TB\",\"MDR-TB\",\"MDR-TB\",\"MDR-TB\",\"MDR-TB\",\"MDR-TB\",\"MDR-TB\",\"MDR-TB\"],\"Links\":[4,3,2,1,1,1,4,1,1,1,1,1,1],\"index\":[\"TH-101579\",\"TH-103347\",\"TH-103927\",\"TH-103009\",\"TH-101783\",\"TH-102909\",\"TH-101823\",\"TH-103773\",\"TH-104039\",\"TH-104090\",\"TH-102637\",\"TH-102445\",\"TH-102460\"]},\"selected\":{\"id\":\"21036\",\"type\":\"Selection\"},\"selection_policy\":{\"id\":\"21035\",\"type\":\"UnionRenderers\"}},\"id\":\"20191\",\"type\":\"ColumnDataSource\"},{\"attributes\":{\"text\":\"MDR-TB Links - Spring Layout\"},\"id\":\"18065\",\"type\":\"Title\"},{\"attributes\":{},\"id\":\"21035\",\"type\":\"UnionRenderers\"}],\"root_ids\":[\"20233\"]},\"title\":\"Bokeh Application\",\"version\":\"1.2.0\"}};\n",
       "  var render_items = [{\"docid\":\"8cde972b-1b53-4e00-a9c5-644016a123a3\",\"roots\":{\"20233\":\"f535bb59-2841-4be9-b441-174792b59dda\"}}];\n",
       "  root.Bokeh.embed.embed_items_notebook(docs_json, render_items);\n",
       "\n",
       "  }\n",
       "  if (root.Bokeh !== undefined) {\n",
       "    embed_document(root);\n",
       "  } else {\n",
       "    var attempts = 0;\n",
       "    var timer = setInterval(function(root) {\n",
       "      if (root.Bokeh !== undefined) {\n",
       "        embed_document(root);\n",
       "        clearInterval(timer);\n",
       "      }\n",
       "      attempts++;\n",
       "      if (attempts > 100) {\n",
       "        console.log(\"Bokeh: ERROR: Unable to run BokehJS code because BokehJS library is missing\");\n",
       "        clearInterval(timer);\n",
       "      }\n",
       "    }, 10, root)\n",
       "  }\n",
       "})(window);"
      ],
      "application/vnd.bokehjs_exec.v0+json": ""
     },
     "metadata": {
      "application/vnd.bokehjs_exec.v0+json": {
       "id": "20233"
      }
     },
     "output_type": "display_data"
    }
   ],
   "source": [
    "show(row(plot1, plot2))"
   ]
  },
  {
   "cell_type": "markdown",
   "metadata": {},
   "source": [
    "### Underlying data"
   ]
  },
  {
   "cell_type": "code",
   "execution_count": 73,
   "metadata": {},
   "outputs": [
    {
     "data": {
      "text/plain": [
       "{'CaseNo': ['TH-101579',\n",
       "  'TH-103347',\n",
       "  'TH-103927',\n",
       "  'TH-103009',\n",
       "  'TH-101783',\n",
       "  'TH-102909',\n",
       "  'TH-101823',\n",
       "  'TH-103773',\n",
       "  'TH-104039',\n",
       "  'TH-104090',\n",
       "  'TH-102637',\n",
       "  'TH-102445',\n",
       "  'TH-102460'],\n",
       " 'DrugResType': ['MDR-TB',\n",
       "  'MDR-TB',\n",
       "  'MDR-TB',\n",
       "  'MDR-TB',\n",
       "  'MDR-TB',\n",
       "  'MDR-TB',\n",
       "  'MDR-TB',\n",
       "  'MDR-TB',\n",
       "  'MDR-TB',\n",
       "  'MDR-TB',\n",
       "  'MDR-TB',\n",
       "  'MDR-TB',\n",
       "  'MDR-TB'],\n",
       " 'Links': [4, 3, 2, 1, 1, 1, 4, 1, 1, 1, 1, 1, 1],\n",
       " 'index': ['TH-101579',\n",
       "  'TH-103347',\n",
       "  'TH-103927',\n",
       "  'TH-103009',\n",
       "  'TH-101783',\n",
       "  'TH-102909',\n",
       "  'TH-101823',\n",
       "  'TH-103773',\n",
       "  'TH-104039',\n",
       "  'TH-104090',\n",
       "  'TH-102637',\n",
       "  'TH-102445',\n",
       "  'TH-102460']}"
      ]
     },
     "execution_count": 73,
     "metadata": {},
     "output_type": "execute_result"
    }
   ],
   "source": [
    "graph_renderer.node_renderer.data_source.data"
   ]
  },
  {
   "cell_type": "code",
   "execution_count": 74,
   "metadata": {},
   "outputs": [
    {
     "data": {
      "text/plain": [
       "13"
      ]
     },
     "execution_count": 74,
     "metadata": {},
     "output_type": "execute_result"
    }
   ],
   "source": [
    "G.number_of_nodes()"
   ]
  },
  {
   "cell_type": "code",
   "execution_count": 75,
   "metadata": {},
   "outputs": [
    {
     "data": {
      "text/plain": [
       "11"
      ]
     },
     "execution_count": 75,
     "metadata": {},
     "output_type": "execute_result"
    }
   ],
   "source": [
    "G.number_of_edges()"
   ]
  },
  {
   "cell_type": "code",
   "execution_count": null,
   "metadata": {},
   "outputs": [],
   "source": []
  }
 ],
 "metadata": {
  "kernelspec": {
   "display_name": "Python 3",
   "language": "python",
   "name": "python3"
  },
  "language_info": {
   "codemirror_mode": {
    "name": "ipython",
    "version": 3
   },
   "file_extension": ".py",
   "mimetype": "text/x-python",
   "name": "python",
   "nbconvert_exporter": "python",
   "pygments_lexer": "ipython3",
   "version": "3.6.8"
  }
 },
 "nbformat": 4,
 "nbformat_minor": 2
}
